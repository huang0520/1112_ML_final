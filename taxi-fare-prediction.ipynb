{
 "cells": [
  {
   "cell_type": "markdown",
   "id": "aeeeb953",
   "metadata": {
    "papermill": {
     "duration": 0.013079,
     "end_time": "2023-05-27T17:38:36.157093",
     "exception": false,
     "start_time": "2023-05-27T17:38:36.144014",
     "status": "completed"
    },
    "tags": []
   },
   "source": [
    "# Install"
   ]
  },
  {
   "cell_type": "code",
   "execution_count": 1,
   "id": "b20025d9",
   "metadata": {
    "execution": {
     "iopub.execute_input": "2023-05-27T17:38:36.183558Z",
     "iopub.status.busy": "2023-05-27T17:38:36.183196Z",
     "iopub.status.idle": "2023-05-27T17:40:39.497199Z",
     "shell.execute_reply": "2023-05-27T17:40:39.495903Z"
    },
    "papermill": {
     "duration": 123.33028,
     "end_time": "2023-05-27T17:40:39.499817",
     "exception": false,
     "start_time": "2023-05-27T17:38:36.169537",
     "status": "completed"
    },
    "tags": []
   },
   "outputs": [
    {
     "name": "stdout",
     "output_type": "stream",
     "text": [
      "Looking in indexes: https://pypi.org/simple, https://download.pytorch.org/whl/cu116\r\n",
      "Collecting torch==1.13.1+cu116\r\n",
      "  Downloading https://download.pytorch.org/whl/cu116/torch-1.13.1%2Bcu116-cp310-cp310-linux_x86_64.whl (1977.9 MB)\r\n",
      "\u001b[2K     \u001b[90m━━━━━━━━━━━━━━━━━━━━━━━━━━━━━━━━━━━━━━━━\u001b[0m \u001b[32m2.0/2.0 GB\u001b[0m \u001b[31m469.3 kB/s\u001b[0m eta \u001b[36m0:00:00\u001b[0m\r\n",
      "\u001b[?25hCollecting torchvision==0.14.1+cu116\r\n",
      "  Downloading https://download.pytorch.org/whl/cu116/torchvision-0.14.1%2Bcu116-cp310-cp310-linux_x86_64.whl (24.2 MB)\r\n",
      "\u001b[2K     \u001b[90m━━━━━━━━━━━━━━━━━━━━━━━━━━━━━━━━━━━━━━━━\u001b[0m \u001b[32m24.2/24.2 MB\u001b[0m \u001b[31m44.5 MB/s\u001b[0m eta \u001b[36m0:00:00\u001b[0m\r\n",
      "\u001b[?25hCollecting torchaudio==0.13.1\r\n",
      "  Downloading https://download.pytorch.org/whl/cu116/torchaudio-0.13.1%2Bcu116-cp310-cp310-linux_x86_64.whl (4.2 MB)\r\n",
      "\u001b[2K     \u001b[90m━━━━━━━━━━━━━━━━━━━━━━━━━━━━━━━━━━━━━━━━\u001b[0m \u001b[32m4.2/4.2 MB\u001b[0m \u001b[31m71.8 MB/s\u001b[0m eta \u001b[36m0:00:00\u001b[0m\r\n",
      "\u001b[?25hRequirement already satisfied: typing-extensions in /opt/conda/lib/python3.10/site-packages (from torch==1.13.1+cu116) (4.5.0)\r\n",
      "Requirement already satisfied: requests in /opt/conda/lib/python3.10/site-packages (from torchvision==0.14.1+cu116) (2.28.2)\r\n",
      "Requirement already satisfied: pillow!=8.3.*,>=5.3.0 in /opt/conda/lib/python3.10/site-packages (from torchvision==0.14.1+cu116) (9.5.0)\r\n",
      "Requirement already satisfied: numpy in /opt/conda/lib/python3.10/site-packages (from torchvision==0.14.1+cu116) (1.23.5)\r\n",
      "Requirement already satisfied: charset-normalizer<4,>=2 in /opt/conda/lib/python3.10/site-packages (from requests->torchvision==0.14.1+cu116) (2.1.1)\r\n",
      "Requirement already satisfied: certifi>=2017.4.17 in /opt/conda/lib/python3.10/site-packages (from requests->torchvision==0.14.1+cu116) (2022.12.7)\r\n",
      "Requirement already satisfied: idna<4,>=2.5 in /opt/conda/lib/python3.10/site-packages (from requests->torchvision==0.14.1+cu116) (3.4)\r\n",
      "Requirement already satisfied: urllib3<1.27,>=1.21.1 in /opt/conda/lib/python3.10/site-packages (from requests->torchvision==0.14.1+cu116) (1.26.15)\r\n",
      "Installing collected packages: torch, torchvision, torchaudio\r\n",
      "  Attempting uninstall: torch\r\n",
      "    Found existing installation: torch 2.0.0\r\n",
      "    Uninstalling torch-2.0.0:\r\n",
      "      Successfully uninstalled torch-2.0.0\r\n",
      "  Attempting uninstall: torchvision\r\n",
      "    Found existing installation: torchvision 0.15.1\r\n",
      "    Uninstalling torchvision-0.15.1:\r\n",
      "      Successfully uninstalled torchvision-0.15.1\r\n",
      "  Attempting uninstall: torchaudio\r\n",
      "    Found existing installation: torchaudio 2.0.1\r\n",
      "    Uninstalling torchaudio-2.0.1:\r\n",
      "      Successfully uninstalled torchaudio-2.0.1\r\n",
      "\u001b[31mERROR: pip's dependency resolver does not currently take into account all the packages that are installed. This behaviour is the source of the following dependency conflicts.\r\n",
      "torchdata 0.6.0 requires torch==2.0.0, but you have torch 1.13.1+cu116 which is incompatible.\u001b[0m\u001b[31m\r\n",
      "\u001b[0mSuccessfully installed torch-1.13.1+cu116 torchaudio-0.13.1+cu116 torchvision-0.14.1+cu116\r\n",
      "\u001b[33mWARNING: Running pip as the 'root' user can result in broken permissions and conflicting behaviour with the system package manager. It is recommended to use a virtual environment instead: https://pip.pypa.io/warnings/venv\u001b[0m\u001b[33m\r\n",
      "\u001b[0mNote: you may need to restart the kernel to use updated packages.\n"
     ]
    }
   ],
   "source": [
    "pip install torch==1.13.1+cu116 torchvision==0.14.1+cu116 torchaudio==0.13.1 --extra-index-url https://download.pytorch.org/whl/cu116"
   ]
  },
  {
   "cell_type": "code",
   "execution_count": 2,
   "id": "6c73dfd1",
   "metadata": {
    "execution": {
     "iopub.execute_input": "2023-05-27T17:40:39.709571Z",
     "iopub.status.busy": "2023-05-27T17:40:39.709151Z",
     "iopub.status.idle": "2023-05-27T17:40:52.404680Z",
     "shell.execute_reply": "2023-05-27T17:40:52.403302Z"
    },
    "papermill": {
     "duration": 12.802164,
     "end_time": "2023-05-27T17:40:52.406800",
     "exception": false,
     "start_time": "2023-05-27T17:40:39.604636",
     "status": "completed"
    },
    "tags": []
   },
   "outputs": [
    {
     "name": "stdout",
     "output_type": "stream",
     "text": [
      "Collecting rtdl\r\n",
      "  Downloading rtdl-0.0.13-py3-none-any.whl (23 kB)\r\n",
      "Requirement already satisfied: numpy<2,>=1.18 in /opt/conda/lib/python3.10/site-packages (from rtdl) (1.23.5)\r\n",
      "Requirement already satisfied: torch<2,>=1.7 in /opt/conda/lib/python3.10/site-packages (from rtdl) (1.13.1+cu116)\r\n",
      "Requirement already satisfied: typing-extensions in /opt/conda/lib/python3.10/site-packages (from torch<2,>=1.7->rtdl) (4.5.0)\r\n",
      "Installing collected packages: rtdl\r\n",
      "Successfully installed rtdl-0.0.13\r\n",
      "\u001b[33mWARNING: Running pip as the 'root' user can result in broken permissions and conflicting behaviour with the system package manager. It is recommended to use a virtual environment instead: https://pip.pypa.io/warnings/venv\u001b[0m\u001b[33m\r\n",
      "\u001b[0mNote: you may need to restart the kernel to use updated packages.\n"
     ]
    }
   ],
   "source": [
    "pip install rtdl"
   ]
  },
  {
   "cell_type": "code",
   "execution_count": 3,
   "id": "e4f8106f",
   "metadata": {
    "execution": {
     "iopub.execute_input": "2023-05-27T17:40:52.549153Z",
     "iopub.status.busy": "2023-05-27T17:40:52.548015Z",
     "iopub.status.idle": "2023-05-27T17:40:59.209575Z",
     "shell.execute_reply": "2023-05-27T17:40:59.208467Z"
    },
    "papermill": {
     "duration": 6.736364,
     "end_time": "2023-05-27T17:40:59.212622",
     "exception": false,
     "start_time": "2023-05-27T17:40:52.476258",
     "status": "completed"
    },
    "tags": []
   },
   "outputs": [
    {
     "name": "stderr",
     "output_type": "stream",
     "text": [
      "/opt/conda/lib/python3.10/site-packages/scipy/__init__.py:146: UserWarning: A NumPy version >=1.16.5 and <1.23.0 is required for this version of SciPy (detected version 1.23.5\n",
      "  warnings.warn(f\"A NumPy version >={np_minversion} and <{np_maxversion}\"\n"
     ]
    }
   ],
   "source": [
    "import pandas as pd\n",
    "import numpy as np\n",
    "import matplotlib.pyplot as plt\n",
    "import seaborn as sns\n",
    "import sklearn\n",
    "import sklearn.model_selection\n",
    "from sklearn.preprocessing import LabelEncoder, StandardScaler\n",
    "import torch\n",
    "import torch.nn as nn\n",
    "import torch.nn.functional as F\n",
    "from torch.utils.data import Dataset, DataLoader\n",
    "from torch.utils.dlpack import to_dlpack, from_dlpack\n",
    "import rtdl\n",
    "import urllib\n",
    "import PIL\n",
    "import requests\n",
    "import datetime\n",
    "import holidays\n",
    "import os\n",
    "import gc\n",
    "import cudf as cf\n",
    "import cupy as cp\n",
    "from tqdm.auto import tqdm"
   ]
  },
  {
   "cell_type": "code",
   "execution_count": 4,
   "id": "89d3e14d",
   "metadata": {
    "execution": {
     "iopub.execute_input": "2023-05-27T17:40:59.354361Z",
     "iopub.status.busy": "2023-05-27T17:40:59.353018Z",
     "iopub.status.idle": "2023-05-27T17:40:59.453754Z",
     "shell.execute_reply": "2023-05-27T17:40:59.452803Z"
    },
    "papermill": {
     "duration": 0.173673,
     "end_time": "2023-05-27T17:40:59.456403",
     "exception": false,
     "start_time": "2023-05-27T17:40:59.282730",
     "status": "completed"
    },
    "tags": []
   },
   "outputs": [],
   "source": [
    "device = torch.device(\"cuda\" if torch.cuda.is_available() else \"cpu\")\n",
    "rng = cp.random.RandomState(seed=100)"
   ]
  },
  {
   "cell_type": "markdown",
   "id": "756c6278",
   "metadata": {
    "papermill": {
     "duration": 0.069844,
     "end_time": "2023-05-27T17:40:59.598507",
     "exception": false,
     "start_time": "2023-05-27T17:40:59.528663",
     "status": "completed"
    },
    "tags": []
   },
   "source": [
    "# Data Preprocess"
   ]
  },
  {
   "cell_type": "markdown",
   "id": "36a2ab40",
   "metadata": {
    "papermill": {
     "duration": 0.06974,
     "end_time": "2023-05-27T17:40:59.738850",
     "exception": false,
     "start_time": "2023-05-27T17:40:59.669110",
     "status": "completed"
    },
    "tags": []
   },
   "source": [
    "## Remove data outside of boundary"
   ]
  },
  {
   "cell_type": "code",
   "execution_count": 5,
   "id": "73f4da1d",
   "metadata": {
    "execution": {
     "iopub.execute_input": "2023-05-27T17:40:59.882257Z",
     "iopub.status.busy": "2023-05-27T17:40:59.881025Z",
     "iopub.status.idle": "2023-05-27T17:40:59.889456Z",
     "shell.execute_reply": "2023-05-27T17:40:59.888504Z"
    },
    "papermill": {
     "duration": 0.08237,
     "end_time": "2023-05-27T17:40:59.891498",
     "exception": false,
     "start_time": "2023-05-27T17:40:59.809128",
     "status": "completed"
    },
    "tags": []
   },
   "outputs": [],
   "source": [
    "def select_within_boundary(df, boundary) -> bool:\n",
    "    return (\n",
    "        (df[\"pickup_longitude\"] >= boundary[\"longitude_min\"])\n",
    "        & (df[\"pickup_longitude\"] <= boundary[\"longitude_max\"])\n",
    "        & (df[\"pickup_latitude\"] >= boundary[\"latitude_min\"])\n",
    "        & (df[\"pickup_latitude\"] <= boundary[\"latitude_max\"])\n",
    "        & (df[\"dropoff_longitude\"] >= boundary[\"longitude_min\"])\n",
    "        & (df[\"dropoff_longitude\"] <= boundary[\"longitude_max\"])\n",
    "        & (df[\"dropoff_latitude\"] >= boundary[\"latitude_min\"])\n",
    "        & (df[\"dropoff_latitude\"] <= boundary[\"latitude_max\"])\n",
    "    )\n",
    "\n",
    "\n",
    "def select_in_boundary(df: cf.DataFrame) -> cf.DataFrame:\n",
    "    boundary = {\n",
    "        \"longitude_min\": -74.5,\n",
    "        \"longitude_max\": -72.8,\n",
    "        \"latitude_min\": 40.5,\n",
    "        \"latitude_max\": 41.8,\n",
    "    }\n",
    "\n",
    "    return df[select_within_boundary(df, boundary)]"
   ]
  },
  {
   "cell_type": "markdown",
   "id": "df3fae50",
   "metadata": {
    "papermill": {
     "duration": 0.070045,
     "end_time": "2023-05-27T17:41:00.032333",
     "exception": false,
     "start_time": "2023-05-27T17:40:59.962288",
     "status": "completed"
    },
    "tags": []
   },
   "source": [
    "## Drop data on water"
   ]
  },
  {
   "cell_type": "code",
   "execution_count": 6,
   "id": "8b479382",
   "metadata": {
    "execution": {
     "iopub.execute_input": "2023-05-27T17:41:00.174216Z",
     "iopub.status.busy": "2023-05-27T17:41:00.173813Z",
     "iopub.status.idle": "2023-05-27T17:41:04.558953Z",
     "shell.execute_reply": "2023-05-27T17:41:04.558041Z"
    },
    "papermill": {
     "duration": 4.45899,
     "end_time": "2023-05-27T17:41:04.561666",
     "exception": false,
     "start_time": "2023-05-27T17:41:00.102676",
     "status": "completed"
    },
    "tags": []
   },
   "outputs": [],
   "source": [
    "mask_url = urllib.request.urlopen(\"https://imgur.com/XGHkdoK.png\")\n",
    "mask = np.array(PIL.Image.open(mask_url))[:, :, 0] > 0.92\n",
    "\n",
    "mask = np.c_[mask, np.full([mask.shape[0], 1], False)]\n",
    "mask = np.r_[mask, np.full([1, mask.shape[1]], False)]\n",
    "mask = cp.asarray(mask)\n",
    "\n",
    "\n",
    "def drop_on_water(df: cf.DataFrame) -> cf.DataFrame:\n",
    "    def lonlat_to_xy(longitude, latitude, x_range, y_range, boundary):\n",
    "        longitude_range = boundary[\"longitude_max\"] - boundary[\"longitude_min\"]\n",
    "        latitude_range = boundary[\"latitude_max\"] - boundary[\"latitude_min\"]\n",
    "\n",
    "        x = x_range * (longitude - boundary[\"longitude_min\"]) / longitude_range\n",
    "        y = (\n",
    "            y_range\n",
    "            - y_range * (latitude - boundary[\"latitude_min\"]) / latitude_range\n",
    "        )\n",
    "\n",
    "        return (x.astype(\"uint8\"), y.astype(\"uint8\"))\n",
    "\n",
    "    boundary = {\n",
    "        \"longitude_min\": -74.5,\n",
    "        \"longitude_max\": -72.8,\n",
    "        \"latitude_min\": 40.5,\n",
    "        \"latitude_max\": 41.8,\n",
    "    }\n",
    "\n",
    "    pickup_x, pickup_y = lonlat_to_xy(\n",
    "        df.loc[:, \"pickup_longitude\"],\n",
    "        df.loc[:, \"pickup_latitude\"],\n",
    "        mask.shape[1] - 1,\n",
    "        mask.shape[0] - 1,\n",
    "        boundary,\n",
    "    )\n",
    "\n",
    "    dropoff_x, dropoff_y = lonlat_to_xy(\n",
    "        df.loc[:, \"dropoff_longitude\"],\n",
    "        df.loc[:, \"dropoff_latitude\"],\n",
    "        mask.shape[1] - 1,\n",
    "        mask.shape[0] - 1,\n",
    "        boundary,\n",
    "    )\n",
    "\n",
    "    on_land = mask[pickup_y, pickup_x] & mask[dropoff_y, dropoff_x]\n",
    "    return df[on_land]"
   ]
  },
  {
   "cell_type": "code",
   "execution_count": 7,
   "id": "b30d0c56",
   "metadata": {
    "execution": {
     "iopub.execute_input": "2023-05-27T17:41:04.716946Z",
     "iopub.status.busy": "2023-05-27T17:41:04.716584Z",
     "iopub.status.idle": "2023-05-27T17:41:04.721631Z",
     "shell.execute_reply": "2023-05-27T17:41:04.720746Z"
    },
    "papermill": {
     "duration": 0.082877,
     "end_time": "2023-05-27T17:41:04.723650",
     "exception": false,
     "start_time": "2023-05-27T17:41:04.640773",
     "status": "completed"
    },
    "tags": []
   },
   "outputs": [],
   "source": [
    "def drop_same_pick_drop(df: cf.DataFrame):\n",
    "    filter = (df[\"pickup_longitude\"] == df[\"dropoff_longitude\"]) & (\n",
    "        df[\"pickup_latitude\"] == df[\"dropoff_latitude\"]\n",
    "    )\n",
    "\n",
    "    return df[~filter]\n"
   ]
  },
  {
   "cell_type": "markdown",
   "id": "b4247998",
   "metadata": {
    "papermill": {
     "duration": 0.07082,
     "end_time": "2023-05-27T17:41:04.865158",
     "exception": false,
     "start_time": "2023-05-27T17:41:04.794338",
     "status": "completed"
    },
    "tags": []
   },
   "source": [
    "## Feature engineering"
   ]
  },
  {
   "cell_type": "code",
   "execution_count": 8,
   "id": "bc04c3f1",
   "metadata": {
    "execution": {
     "iopub.execute_input": "2023-05-27T17:41:05.007130Z",
     "iopub.status.busy": "2023-05-27T17:41:05.006765Z",
     "iopub.status.idle": "2023-05-27T17:41:05.020517Z",
     "shell.execute_reply": "2023-05-27T17:41:05.019459Z"
    },
    "papermill": {
     "duration": 0.086961,
     "end_time": "2023-05-27T17:41:05.022525",
     "exception": false,
     "start_time": "2023-05-27T17:41:04.935564",
     "status": "completed"
    },
    "tags": []
   },
   "outputs": [],
   "source": [
    "def get_lat_lon(df: cf.DataFrame, unit=\"deg\"):\n",
    "    # Return lat, lon in radian\n",
    "    lat1 = df[\"pickup_latitude\"].copy().to_cupy()\n",
    "    lon1 = df[\"pickup_longitude\"].copy().to_cupy()\n",
    "    lat2 = df[\"dropoff_latitude\"].copy().to_cupy()\n",
    "    lon2 = df[\"dropoff_longitude\"].copy().to_cupy()\n",
    "\n",
    "    if unit == \"rad\":\n",
    "        lat1, lon1, lat2, lon2 = map(cp.radians, [lat1, lon1, lat2, lon2])\n",
    "\n",
    "    # 1 degree of latitude = 69.172 miles, 1 degree of longitude = 50 miles\n",
    "    if unit == \"mile\":\n",
    "        lat1 *= 69.172\n",
    "        lon1 *= 50\n",
    "        lat2 *= 69.172\n",
    "        lon2 *= 50\n",
    "\n",
    "    return lat1, lon1, lat2, lon2\n",
    "\n",
    "\n",
    "def cal_rotated_coordinate(lat1, lon1, lat2, lon2) -> cp.ndarray:\n",
    "    lat1, lon1, lat2, lon2 = map(\n",
    "        lambda x: torch.as_tensor(x.astype(\"float32\")).to(device), [lat1, lon1, lat2, lon2]\n",
    "    )\n",
    "    p1 = torch.column_stack([lat1, lon1])\n",
    "    p2 = torch.column_stack([lat2, lon2])\n",
    "    \n",
    "    theta = -np.radians(29).astype(\"float32\")\n",
    "\n",
    "    rot = torch.tensor(\n",
    "        [[np.cos(theta), np.sin(theta)], [-np.sin(theta), np.cos(theta)]]\n",
    "    ).to(device)\n",
    "\n",
    "    # Perform rotate row by row and split\n",
    "    lat1, lon1 = torch.hsplit(torch.einsum(\"ij, mj -> mi\", rot, p1), 2)\n",
    "    lat2, lon2 = torch.hsplit(torch.einsum(\"ij, mj -> mi\", rot, p2), 2)\n",
    "    lat1, lon1, lat2, lon2 = map(\n",
    "        lambda x: cp.asarray(x.squeeze(1)),\n",
    "        [lat1, lon1, lat2, lon2],\n",
    "    )\n",
    "    \n",
    "    return lat1, lon1, lat2, lon2\n",
    "\n",
    "\n",
    "def get_rotated_coordinate(df: pd.DataFrame):\n",
    "    lat1, lon1, lat2, lon2 = get_lat_lon(df, \"deg\")\n",
    "    header = [\n",
    "        \"rotated_pickup_latitude\",\n",
    "        \"rotated_pickup_longitude\",\n",
    "        \"rotated_dropoff_latitude\",\n",
    "        \"rotated_dropoff_longitude\",\n",
    "    ]\n",
    "    \n",
    "    coordinates = cal_rotated_coordinate(lat1, lon1, lat2, lon2)\n",
    "\n",
    "    for head, coordinate in zip(header, coordinates):\n",
    "        df.loc[:, head] = coordinate\n",
    "\n",
    "    return df"
   ]
  },
  {
   "cell_type": "markdown",
   "id": "a9d6c983",
   "metadata": {
    "papermill": {
     "duration": 0.069356,
     "end_time": "2023-05-27T17:41:05.165465",
     "exception": false,
     "start_time": "2023-05-27T17:41:05.096109",
     "status": "completed"
    },
    "tags": []
   },
   "source": [
    "### Add distance (in miles)"
   ]
  },
  {
   "cell_type": "markdown",
   "id": "9ecf2f4d",
   "metadata": {
    "papermill": {
     "duration": 0.06943,
     "end_time": "2023-05-27T17:41:05.305125",
     "exception": false,
     "start_time": "2023-05-27T17:41:05.235695",
     "status": "completed"
    },
    "tags": []
   },
   "source": [
    "Using Manhattan distance and rotate 29 degree to fit the real street block"
   ]
  },
  {
   "cell_type": "code",
   "execution_count": 9,
   "id": "7c1367fd",
   "metadata": {
    "execution": {
     "iopub.execute_input": "2023-05-27T17:41:05.448228Z",
     "iopub.status.busy": "2023-05-27T17:41:05.447272Z",
     "iopub.status.idle": "2023-05-27T17:41:05.457015Z",
     "shell.execute_reply": "2023-05-27T17:41:05.456191Z"
    },
    "papermill": {
     "duration": 0.083319,
     "end_time": "2023-05-27T17:41:05.459027",
     "exception": false,
     "start_time": "2023-05-27T17:41:05.375708",
     "status": "completed"
    },
    "tags": []
   },
   "outputs": [],
   "source": [
    "def get_euclidean(df: cf.DataFrame):\n",
    "    lat1, lon1, lat2, lon2 = get_lat_lon(df, \"mile\")\n",
    "    return cp.linalg.norm(\n",
    "        cp.column_stack([lat1, lon1]) - cp.column_stack([lat2, lon2]), axis=1\n",
    "    )\n",
    "\n",
    "\n",
    "def cal_haversine_distance(lat1, lon1, lat2, lon2):\n",
    "    dlat = lat1 - lat2\n",
    "    dlon = lon1 - lon2\n",
    "\n",
    "    tmp = (\n",
    "        cp.sin(dlat / 2.0) ** 2\n",
    "        + cp.cos(lat1) * cp.cos(lat2) * cp.sin(dlon / 2.0) ** 2\n",
    "    )\n",
    "\n",
    "    return 2 * cp.arcsin(cp.sqrt(tmp))\n",
    "\n",
    "\n",
    "def get_haversine_distance(df: cf.DataFrame):\n",
    "    # Return haversine distance in miles\n",
    "    lat1, lon1, lat2, lon2 = get_lat_lon(df, \"rad\")\n",
    "    return cal_haversine_distance(lat1, lon1, lat2, lon2) * 3959\n",
    "\n",
    "\n",
    "def get_correct_manhattan(df: cf.DataFrame):\n",
    "    lat1, lon1, lat2, lon2 = get_lat_lon(df, \"mile\")\n",
    "    lat1, lon1, lat2, lon2 = cal_rotated_coordinate(lat1, lon1, lat2, lon2)\n",
    "\n",
    "    dlat = abs(lat1 - lat2)\n",
    "    dlon = abs(lon1 - lon2)\n",
    "\n",
    "    return (dlat + dlon).ravel()\n"
   ]
  },
  {
   "cell_type": "markdown",
   "id": "59c11996",
   "metadata": {
    "papermill": {
     "duration": 0.070615,
     "end_time": "2023-05-27T17:41:05.601173",
     "exception": false,
     "start_time": "2023-05-27T17:41:05.530558",
     "status": "completed"
    },
    "tags": []
   },
   "source": [
    "### Add temperature and precipitation "
   ]
  },
  {
   "cell_type": "code",
   "execution_count": 10,
   "id": "6cfadc05",
   "metadata": {
    "execution": {
     "iopub.execute_input": "2023-05-27T17:41:05.745129Z",
     "iopub.status.busy": "2023-05-27T17:41:05.744089Z",
     "iopub.status.idle": "2023-05-27T17:41:08.435091Z",
     "shell.execute_reply": "2023-05-27T17:41:08.434042Z"
    },
    "papermill": {
     "duration": 2.76618,
     "end_time": "2023-05-27T17:41:08.437885",
     "exception": false,
     "start_time": "2023-05-27T17:41:05.671705",
     "status": "completed"
    },
    "tags": []
   },
   "outputs": [],
   "source": [
    "def get_historical_temp_precipitation():\n",
    "    url = f\"https://archive-api.open-meteo.com/v1/archive?latitude=40.71&longitude=-74.01&start_date=2009-01-01&end_date=2015-12-31&hourly=apparent_temperature,precipitation\"\n",
    "    response = requests.get(url)\n",
    "    data = response.json()\n",
    "\n",
    "    df_tmp = cf.DataFrame(data[\"hourly\"])\n",
    "    df_tmp[\"time\"] = cf.to_datetime(df_tmp[\"time\"])\n",
    "\n",
    "    return df_tmp.set_index(\"time\").to_dict()\n",
    "\n",
    "\n",
    "def convert_time(x: pd.Series) -> pd.Series:\n",
    "    year = x.dt.year.rename(\"year\")\n",
    "    month = x.dt.month.rename(\"month\").astype(\"uint8\")\n",
    "    day = x.dt.day.rename(\"day\").astype(\"uint8\")\n",
    "    hour = x.dt.hour.rename(\"hour\").astype(\"uint8\")\n",
    "    \n",
    "    df_date = cf.concat([year, month, day, hour], axis=1)\n",
    "\n",
    "    return cf.to_datetime(df_date)\n",
    "\n",
    "\n",
    "def add_temp_precipitation(df: pd.DataFrame):\n",
    "    date_time = convert_time(df[\"pickup_datetime\"])\n",
    "    df.loc[:,\"apparent_temperature\"] = date_time.map(\n",
    "        temp_dict[\"apparent_temperature\"]).astype(\"float32\")\n",
    "    df.loc[:, \"precipitation\"] = date_time.map(\n",
    "        temp_dict[\"precipitation\"]).astype(\"float32\")\n",
    "\n",
    "    return df\n",
    "\n",
    "\n",
    "temp_dict = get_historical_temp_precipitation()\n"
   ]
  },
  {
   "cell_type": "markdown",
   "id": "bb3acb1d",
   "metadata": {
    "papermill": {
     "duration": 0.070958,
     "end_time": "2023-05-27T17:41:08.579246",
     "exception": false,
     "start_time": "2023-05-27T17:41:08.508288",
     "status": "completed"
    },
    "tags": []
   },
   "source": [
    "## Split time and add holiday"
   ]
  },
  {
   "cell_type": "code",
   "execution_count": 11,
   "id": "ad4bfc9a",
   "metadata": {
    "execution": {
     "iopub.execute_input": "2023-05-27T17:41:08.787872Z",
     "iopub.status.busy": "2023-05-27T17:41:08.787363Z",
     "iopub.status.idle": "2023-05-27T17:41:08.800481Z",
     "shell.execute_reply": "2023-05-27T17:41:08.799390Z"
    },
    "papermill": {
     "duration": 0.154094,
     "end_time": "2023-05-27T17:41:08.807460",
     "exception": false,
     "start_time": "2023-05-27T17:41:08.653366",
     "status": "completed"
    },
    "tags": []
   },
   "outputs": [],
   "source": [
    "# add time information\n",
    "def add_time_and_holiday_info(df: cf.DataFrame) -> cf.DataFrame:\n",
    "    # Add time information\n",
    "    df.loc[:, \"year\"] = df.pickup_datetime.dt.year\n",
    "    df.loc[:, \"weekday\"] = df.pickup_datetime.dt.weekday.astype(\"uint8\")\n",
    "    df.loc[:, \"hour\"] = df.pickup_datetime.dt.hour.astype(\"uint8\")\n",
    "\n",
    "    # Add holiday information\n",
    "    us_holidays = holidays.US()\n",
    "    df.loc[:, \"is_holiday\"] = convert_time(df[\"pickup_datetime\"]).isin(us_holidays).astype(\n",
    "        \"uint8\"\n",
    "    )\n",
    "\n",
    "    return df\n"
   ]
  },
  {
   "cell_type": "markdown",
   "id": "8e31267b",
   "metadata": {
    "papermill": {
     "duration": 0.072436,
     "end_time": "2023-05-27T17:41:08.956032",
     "exception": false,
     "start_time": "2023-05-27T17:41:08.883596",
     "status": "completed"
    },
    "tags": []
   },
   "source": [
    "### Add pick_up/ drop_off airport feature"
   ]
  },
  {
   "cell_type": "code",
   "execution_count": 12,
   "id": "f94ffca0",
   "metadata": {
    "execution": {
     "iopub.execute_input": "2023-05-27T17:41:09.098819Z",
     "iopub.status.busy": "2023-05-27T17:41:09.098474Z",
     "iopub.status.idle": "2023-05-27T17:41:09.108669Z",
     "shell.execute_reply": "2023-05-27T17:41:09.107661Z"
    },
    "papermill": {
     "duration": 0.084799,
     "end_time": "2023-05-27T17:41:09.111344",
     "exception": false,
     "start_time": "2023-05-27T17:41:09.026545",
     "status": "completed"
    },
    "tags": []
   },
   "outputs": [],
   "source": [
    "def check_nearby_airports(df, range=1):\n",
    "    # Check the pickup and dropoff is near the airport (range in miles)\n",
    "    # New York city\n",
    "    nyc = (-74.0063889, 40.7141667)\n",
    "\n",
    "    # JFK airport coordinates, see https://www.travelmath.com/airport/JFK\n",
    "    jfk = (-73.7822222222, 40.6441666667)\n",
    "\n",
    "    # Newark Liberty International Airport, see https://www.travelmath.com/airport/EWR\n",
    "    ewr = (-74.175, 40.69)\n",
    "\n",
    "    # LaGuardia Airport, see https://www.travelmath.com/airport/LGA\n",
    "    lgr = (-73.87, 40.77)\n",
    "\n",
    "    airports = {\"JFK\": jfk, \"EWR\": ewr, \"LGR\": lgr}\n",
    "\n",
    "    # Add airport_nearby column\n",
    "    near_pickup = cp.zeros(len(df))\n",
    "    near_dropoff = cp.zeros(len(df))\n",
    "\n",
    "    for airport, loc in airports.items():\n",
    "        idx_pickup = (\n",
    "            cal_haversine_distance(\n",
    "                df[\"pickup_latitude\"], df[\"pickup_longitude\"], loc[1], loc[0]\n",
    "            )\n",
    "            * 3959\n",
    "            < range\n",
    "        )\n",
    "        idx_dropoff = (\n",
    "            cal_haversine_distance(\n",
    "                df[\"dropoff_latitude\"], df[\"dropoff_longitude\"], loc[1], loc[0]\n",
    "            )\n",
    "            * 3959\n",
    "            < range\n",
    "        )\n",
    "\n",
    "        if airport == \"JFK\":\n",
    "            near_pickup[idx_pickup] = 1\n",
    "            near_dropoff[idx_dropoff] = 1\n",
    "        elif airport == \"EWR\":\n",
    "            near_pickup[idx_pickup] = 2\n",
    "            near_dropoff[idx_dropoff] = 2\n",
    "        elif airport == \"LGR\":\n",
    "            near_pickup[idx_pickup] = 3\n",
    "            near_dropoff[idx_dropoff] = 3\n",
    "\n",
    "    df[\"airport_nearby_pickup\"] = near_pickup.astype(\"uint8\")\n",
    "    df[\"airport_nearby_dropoff\"] = near_dropoff.astype(\"uint8\")\n",
    "\n",
    "    return df"
   ]
  },
  {
   "cell_type": "markdown",
   "id": "45f68541",
   "metadata": {
    "papermill": {
     "duration": 0.070531,
     "end_time": "2023-05-27T17:41:09.252105",
     "exception": false,
     "start_time": "2023-05-27T17:41:09.181574",
     "status": "completed"
    },
    "tags": []
   },
   "source": [
    "# All Preprocess"
   ]
  },
  {
   "cell_type": "code",
   "execution_count": 13,
   "id": "b75e8dda",
   "metadata": {
    "execution": {
     "iopub.execute_input": "2023-05-27T17:41:09.394910Z",
     "iopub.status.busy": "2023-05-27T17:41:09.394527Z",
     "iopub.status.idle": "2023-05-27T17:41:09.405618Z",
     "shell.execute_reply": "2023-05-27T17:41:09.404664Z"
    },
    "papermill": {
     "duration": 0.085174,
     "end_time": "2023-05-27T17:41:09.407683",
     "exception": false,
     "start_time": "2023-05-27T17:41:09.322509",
     "status": "completed"
    },
    "tags": []
   },
   "outputs": [],
   "source": [
    "def date_format(df: cf.DataFrame) -> cf.DataFrame:\n",
    "    df = df.copy()\n",
    "    date_time = df[\"pickup_datetime\"].copy()\n",
    "\n",
    "    date_time = date_time.str.slice(0, 16)\n",
    "    date_time = cf.to_datetime(date_time, utc=True, format=\"%Y-%m-%d %H:%M\")\n",
    "\n",
    "    df[\"pickup_datetime\"] = date_time\n",
    "    return df\n",
    "\n",
    "\n",
    "def clean_data(df: cf.DataFrame) -> cf.DataFrame:\n",
    "    df = df.copy()\n",
    "    # Drop negative fare amount\n",
    "    df = df[df.fare_amount > 0]\n",
    "    # Drop nan value\n",
    "    df = df.dropna()\n",
    "    # Drop data out of boundary\n",
    "    df = select_in_boundary(df)\n",
    "    # Drop data on water\n",
    "    df = drop_on_water(df)\n",
    "    # Drop same pickup and dropoff data\n",
    "    df = drop_same_pick_drop(df)\n",
    "    df = df.reset_index(drop=True)\n",
    "    return df\n",
    "\n",
    "\n",
    "def engineering(df: cf.DataFrame):\n",
    "    progress = tqdm(total = 5, desc = \"Feature Engineering: \")\n",
    "    df = df.copy()\n",
    "    # Add rotate coordinate\n",
    "    df = get_rotated_coordinate(df)\n",
    "    progress.update(1)\n",
    "    # Add distance\n",
    "    df.loc[:, \"euclidean\"] = get_euclidean(df)\n",
    "    df.loc[:, \"haversine\"] = get_haversine_distance(df)\n",
    "    df.loc[:, \"correct_manhattan\"] = get_correct_manhattan(df)\n",
    "    progress.update(1)\n",
    "    # Add Temp and precipitation\n",
    "    df = add_temp_precipitation(df)\n",
    "    progress.update(1)\n",
    "    # Split time and add holiday\n",
    "    df = add_time_and_holiday_info(df)\n",
    "    progress.update(1)\n",
    "    # Add pickup/dropoff airport\n",
    "    df = check_nearby_airports(df)\n",
    "    progress.update(1)\n",
    "\n",
    "    return df\n"
   ]
  },
  {
   "cell_type": "markdown",
   "id": "803d3a79",
   "metadata": {
    "papermill": {
     "duration": 0.075496,
     "end_time": "2023-05-27T17:41:09.554214",
     "exception": false,
     "start_time": "2023-05-27T17:41:09.478718",
     "status": "completed"
    },
    "tags": []
   },
   "source": [
    "# FT Transformer"
   ]
  },
  {
   "cell_type": "markdown",
   "id": "d8b53ae2",
   "metadata": {
    "papermill": {
     "duration": 0.070876,
     "end_time": "2023-05-27T17:41:09.694036",
     "exception": false,
     "start_time": "2023-05-27T17:41:09.623160",
     "status": "completed"
    },
    "tags": []
   },
   "source": [
    "### Numerical, category, target split"
   ]
  },
  {
   "cell_type": "code",
   "execution_count": 14,
   "id": "7052a59e",
   "metadata": {
    "execution": {
     "iopub.execute_input": "2023-05-27T17:41:09.852015Z",
     "iopub.status.busy": "2023-05-27T17:41:09.851036Z",
     "iopub.status.idle": "2023-05-27T17:41:09.856003Z",
     "shell.execute_reply": "2023-05-27T17:41:09.855011Z"
    },
    "papermill": {
     "duration": 0.084337,
     "end_time": "2023-05-27T17:41:09.858148",
     "exception": false,
     "start_time": "2023-05-27T17:41:09.773811",
     "status": "completed"
    },
    "tags": []
   },
   "outputs": [],
   "source": [
    "numerical_idx = []\n",
    "category_idx = []"
   ]
  },
  {
   "cell_type": "code",
   "execution_count": 15,
   "id": "a5a24823",
   "metadata": {
    "execution": {
     "iopub.execute_input": "2023-05-27T17:41:10.006834Z",
     "iopub.status.busy": "2023-05-27T17:41:10.006481Z",
     "iopub.status.idle": "2023-05-27T17:41:10.012884Z",
     "shell.execute_reply": "2023-05-27T17:41:10.011874Z"
    },
    "papermill": {
     "duration": 0.081651,
     "end_time": "2023-05-27T17:41:10.014903",
     "exception": false,
     "start_time": "2023-05-27T17:41:09.933252",
     "status": "completed"
    },
    "tags": []
   },
   "outputs": [],
   "source": [
    "def num_cat_split(df: pd.DataFrame, type=\"train\"):\n",
    "    x_num = torch.from_numpy(df.loc[:, numerical_idx].to_numpy()).to(device)\n",
    "    x_cat = torch.from_numpy(df.loc[:, category_idx].to_numpy()).to(device)\n",
    "    if type == \"train\":\n",
    "        y = torch.from_numpy(df.loc[:, \"fare_amount\"].to_numpy()).to(device)\n",
    "\n",
    "    return (x_num, x_cat, y) if type == \"train\" else (x_num, x_cat)"
   ]
  },
  {
   "cell_type": "markdown",
   "id": "b526fc76",
   "metadata": {
    "papermill": {
     "duration": 0.069281,
     "end_time": "2023-05-27T17:41:10.153976",
     "exception": false,
     "start_time": "2023-05-27T17:41:10.084695",
     "status": "completed"
    },
    "tags": []
   },
   "source": [
    "### Category data encoding"
   ]
  },
  {
   "cell_type": "code",
   "execution_count": 16,
   "id": "93324290",
   "metadata": {
    "execution": {
     "iopub.execute_input": "2023-05-27T17:41:10.295830Z",
     "iopub.status.busy": "2023-05-27T17:41:10.295443Z",
     "iopub.status.idle": "2023-05-27T17:41:10.300992Z",
     "shell.execute_reply": "2023-05-27T17:41:10.299865Z"
    },
    "papermill": {
     "duration": 0.078868,
     "end_time": "2023-05-27T17:41:10.303024",
     "exception": false,
     "start_time": "2023-05-27T17:41:10.224156",
     "status": "completed"
    },
    "tags": []
   },
   "outputs": [],
   "source": [
    "def cat_encoding(x_cat: torch.Tensor):\n",
    "    for i, val in enumerate(x_cat.T):\n",
    "        x_cat.T[i] = torch.from_numpy(\n",
    "            LabelEncoder().fit_transform(val.cpu().numpy())\n",
    "        )\n",
    "\n",
    "    return x_cat.int()"
   ]
  },
  {
   "cell_type": "markdown",
   "id": "885730de",
   "metadata": {
    "papermill": {
     "duration": 0.068983,
     "end_time": "2023-05-27T17:41:10.441619",
     "exception": false,
     "start_time": "2023-05-27T17:41:10.372636",
     "status": "completed"
    },
    "tags": []
   },
   "source": [
    "### Train, validate split"
   ]
  },
  {
   "cell_type": "code",
   "execution_count": 17,
   "id": "82ef923b",
   "metadata": {
    "execution": {
     "iopub.execute_input": "2023-05-27T17:41:10.582881Z",
     "iopub.status.busy": "2023-05-27T17:41:10.582489Z",
     "iopub.status.idle": "2023-05-27T17:41:10.591469Z",
     "shell.execute_reply": "2023-05-27T17:41:10.590119Z"
    },
    "papermill": {
     "duration": 0.082541,
     "end_time": "2023-05-27T17:41:10.593357",
     "exception": false,
     "start_time": "2023-05-27T17:41:10.510816",
     "status": "completed"
    },
    "tags": []
   },
   "outputs": [],
   "source": [
    "def train_valid_spilt(\n",
    "    x_num: torch.Tensor, x_cat: torch.Tensor, y: torch.Tensor\n",
    "):\n",
    "    x_num = x_num.cpu().numpy()\n",
    "    x_cat = x_cat.cpu().numpy()\n",
    "    y = y.cpu().numpy()\n",
    "\n",
    "    X_num = {}\n",
    "    X_cat = {}\n",
    "    Y = {}\n",
    "\n",
    "    (\n",
    "        X_num[\"train\"],\n",
    "        X_num[\"val\"],\n",
    "        X_cat[\"train\"],\n",
    "        X_cat[\"val\"],\n",
    "        Y[\"train\"],\n",
    "        Y[\"val\"],\n",
    "    ) = sklearn.model_selection.train_test_split(\n",
    "        x_num, x_cat, y, train_size=0.7, shuffle=True\n",
    "    )\n",
    "    X_num = {k: torch.from_numpy(v).to(device) for k, v in X_num.items()}\n",
    "    X_cat = {k: torch.from_numpy(v).to(device) for k, v in X_cat.items()}\n",
    "    Y = {k: torch.from_numpy(v).to(device) for k, v in Y.items()}\n",
    "\n",
    "    return X_num, X_cat, Y"
   ]
  },
  {
   "cell_type": "markdown",
   "id": "cb56fd8a",
   "metadata": {
    "papermill": {
     "duration": 0.069997,
     "end_time": "2023-05-27T17:41:10.733368",
     "exception": false,
     "start_time": "2023-05-27T17:41:10.663371",
     "status": "completed"
    },
    "tags": []
   },
   "source": [
    "### Target standardize"
   ]
  },
  {
   "cell_type": "code",
   "execution_count": 18,
   "id": "ed76a238",
   "metadata": {
    "execution": {
     "iopub.execute_input": "2023-05-27T17:41:10.995636Z",
     "iopub.status.busy": "2023-05-27T17:41:10.995155Z",
     "iopub.status.idle": "2023-05-27T17:41:11.004042Z",
     "shell.execute_reply": "2023-05-27T17:41:11.003162Z"
    },
    "papermill": {
     "duration": 0.202478,
     "end_time": "2023-05-27T17:41:11.006830",
     "exception": false,
     "start_time": "2023-05-27T17:41:10.804352",
     "status": "completed"
    },
    "tags": []
   },
   "outputs": [],
   "source": [
    "class Standardizer:\n",
    "    def __init__(self) -> None:\n",
    "        pass\n",
    "\n",
    "    def fit(self, x_num):\n",
    "        self.mean = x_num.mean(dim=0)\n",
    "        self.std = x_num.std(dim=0)\n",
    "\n",
    "        return self\n",
    "\n",
    "    def transform(self, x_num):\n",
    "        return (x_num - self.mean) / self.std\n",
    "\n",
    "    def get_param(self):\n",
    "        return self.mean.item(), self.std.item()"
   ]
  },
  {
   "cell_type": "markdown",
   "id": "523a69ee",
   "metadata": {
    "papermill": {
     "duration": 0.095985,
     "end_time": "2023-05-27T17:41:11.199608",
     "exception": false,
     "start_time": "2023-05-27T17:41:11.103623",
     "status": "completed"
    },
    "tags": []
   },
   "source": [
    "## Premodel process"
   ]
  },
  {
   "cell_type": "code",
   "execution_count": 19,
   "id": "5f7a4030",
   "metadata": {
    "execution": {
     "iopub.execute_input": "2023-05-27T17:41:11.394713Z",
     "iopub.status.busy": "2023-05-27T17:41:11.393934Z",
     "iopub.status.idle": "2023-05-27T17:41:11.405700Z",
     "shell.execute_reply": "2023-05-27T17:41:11.404748Z"
    },
    "papermill": {
     "duration": 0.112011,
     "end_time": "2023-05-27T17:41:11.407998",
     "exception": false,
     "start_time": "2023-05-27T17:41:11.295987",
     "status": "completed"
    },
    "tags": []
   },
   "outputs": [],
   "source": [
    "def premodel_process(df_train: pd.DataFrame, df_test: pd.DataFrame):\n",
    "    progress = tqdm(total = 5, desc = \"Premodel process: \")\n",
    "    df_train = df_train.copy()\n",
    "    df_test = df_test.copy()\n",
    "\n",
    "    # Numerical, category data split\n",
    "    x_num_train, x_cat_train, y_train = num_cat_split(df_train)\n",
    "    x_num_test, x_cat_test = num_cat_split(df_test, type=\"test\")\n",
    "    progress.update(1)\n",
    "\n",
    "    # Category data encoding\n",
    "    x_cat_train = cat_encoding(x_cat_train)\n",
    "    x_cat_test = cat_encoding(x_cat_test)\n",
    "    progress.update(1)\n",
    "\n",
    "    # Train, validate split and turn to numpy array\n",
    "    X_num, X_cat, Y = train_valid_spilt(x_num_train, x_cat_train, y_train)\n",
    "\n",
    "    X_num[\"test\"] = x_num_test\n",
    "    X_cat[\"test\"] = x_cat_test\n",
    "    progress.update(1)\n",
    "\n",
    "    # Numerical data standardize\n",
    "    standardizer = Standardizer().fit(X_num[\"train\"])\n",
    "    X_num = {k: standardizer.transform(v) for k, v in X_num.items()}\n",
    "\n",
    "    # Target standardize\n",
    "    standardizer = Standardizer().fit(Y[\"train\"])\n",
    "    Y = {k: standardizer.transform(v) for k, v in Y.items()}\n",
    "    y_mean, y_std = standardizer.get_param()\n",
    "    progress.update(1)\n",
    "\n",
    "    cat_cardinalities = rtdl.data.get_category_sizes(X_cat[\"train\"].cpu().numpy())\n",
    "    progress.update(1)\n",
    "\n",
    "    return X_num, X_cat, Y, y_mean, y_std, cat_cardinalities"
   ]
  },
  {
   "cell_type": "code",
   "execution_count": 20,
   "id": "25977d27",
   "metadata": {
    "execution": {
     "iopub.execute_input": "2023-05-27T17:41:11.612714Z",
     "iopub.status.busy": "2023-05-27T17:41:11.612292Z",
     "iopub.status.idle": "2023-05-27T17:41:26.892062Z",
     "shell.execute_reply": "2023-05-27T17:41:26.891045Z"
    },
    "papermill": {
     "duration": 15.384316,
     "end_time": "2023-05-27T17:41:26.894594",
     "exception": false,
     "start_time": "2023-05-27T17:41:11.510278",
     "status": "completed"
    },
    "tags": []
   },
   "outputs": [
    {
     "name": "stderr",
     "output_type": "stream",
     "text": [
      "/opt/conda/lib/python3.10/site-packages/cudf/io/feather.py:15: UserWarning: Using CPU via PyArrow to read feather dataset, this may be GPU accelerated in the future\n",
      "  warnings.warn(\n"
     ]
    }
   ],
   "source": [
    "train_path = \"/kaggle/input/taxi-prediction-compress-train/compress_train.feather\"\n",
    "test_path =  \"/kaggle/input/taxi-prediction-compress-train/compress_test.feather\"\n",
    "key_path = \"/kaggle/input/new-york-city-taxi-fare-prediction/test.csv\"\n",
    "\n",
    "df_key = cf.read_csv(key_path, usecols=[\"key\"])\n",
    "# data_train = cf.read_feather(train_path).sample(frac=0., random_state = rng).reset_index(drop = True)\n",
    "data_train = cf.read_feather(train_path)[:1_000_000]\n",
    "data_test = cf.read_feather(test_path)"
   ]
  },
  {
   "cell_type": "code",
   "execution_count": 21,
   "id": "4288c4b4",
   "metadata": {
    "execution": {
     "iopub.execute_input": "2023-05-27T17:41:27.039885Z",
     "iopub.status.busy": "2023-05-27T17:41:27.039568Z",
     "iopub.status.idle": "2023-05-27T17:41:47.960807Z",
     "shell.execute_reply": "2023-05-27T17:41:47.959907Z"
    },
    "papermill": {
     "duration": 20.998189,
     "end_time": "2023-05-27T17:41:47.966388",
     "exception": false,
     "start_time": "2023-05-27T17:41:26.968199",
     "status": "completed"
    },
    "tags": []
   },
   "outputs": [
    {
     "data": {
      "application/vnd.jupyter.widget-view+json": {
       "model_id": "4768ce76a2e34373bc2e72fb652419a2",
       "version_major": 2,
       "version_minor": 0
      },
      "text/plain": [
       "Feature Engineering:   0%|          | 0/5 [00:00<?, ?it/s]"
      ]
     },
     "metadata": {},
     "output_type": "display_data"
    },
    {
     "data": {
      "application/vnd.jupyter.widget-view+json": {
       "model_id": "0f0e400195fb4cd3ac0d63801034ed59",
       "version_major": 2,
       "version_minor": 0
      },
      "text/plain": [
       "Feature Engineering:   0%|          | 0/5 [00:00<?, ?it/s]"
      ]
     },
     "metadata": {},
     "output_type": "display_data"
    },
    {
     "data": {
      "text/plain": [
       "222"
      ]
     },
     "execution_count": 21,
     "metadata": {},
     "output_type": "execute_result"
    }
   ],
   "source": [
    "df_train = clean_data(data_train)\n",
    "df_train = engineering(df_train)\n",
    "df_test = engineering(data_test)\n",
    "gc.collect()"
   ]
  },
  {
   "cell_type": "code",
   "execution_count": 22,
   "id": "f519e964",
   "metadata": {
    "execution": {
     "iopub.execute_input": "2023-05-27T17:41:48.119267Z",
     "iopub.status.busy": "2023-05-27T17:41:48.118853Z",
     "iopub.status.idle": "2023-05-27T17:41:48.124132Z",
     "shell.execute_reply": "2023-05-27T17:41:48.123137Z"
    },
    "papermill": {
     "duration": 0.081975,
     "end_time": "2023-05-27T17:41:48.126067",
     "exception": false,
     "start_time": "2023-05-27T17:41:48.044092",
     "status": "completed"
    },
    "tags": []
   },
   "outputs": [],
   "source": [
    "numerical_idx = [\n",
    "    \"pickup_longitude\",\n",
    "    \"pickup_latitude\",\n",
    "    \"dropoff_longitude\",\n",
    "    \"dropoff_latitude\",\n",
    "#     \"passenger_count\",\n",
    "#     \"rotated_pickup_latitude\",\n",
    "#     \"rotated_pickup_longitude\",\n",
    "#     \"rotated_dropoff_latitude\",\n",
    "#     \"rotated_dropoff_longitude\",\n",
    "#     \"euclidean\",\n",
    "#     \"haversine\",\n",
    "#     \"correct_manhattan\",\n",
    "#     \"apparent_temperature\",\n",
    "#     \"precipitation\",\n",
    "]\n",
    "\n",
    "category_idx = [\n",
    "#     \"year\",\n",
    "#     \"weekday\",\n",
    "#     \"hour\",\n",
    "#     \"is_holiday\",\n",
    "    \"airport_nearby_pickup\",\n",
    "    \"airport_nearby_dropoff\",\n",
    "]"
   ]
  },
  {
   "cell_type": "code",
   "execution_count": 23,
   "id": "b8c3ab56",
   "metadata": {
    "execution": {
     "iopub.execute_input": "2023-05-27T17:41:48.270879Z",
     "iopub.status.busy": "2023-05-27T17:41:48.269928Z",
     "iopub.status.idle": "2023-05-27T17:41:48.818525Z",
     "shell.execute_reply": "2023-05-27T17:41:48.817504Z"
    },
    "papermill": {
     "duration": 0.624038,
     "end_time": "2023-05-27T17:41:48.821857",
     "exception": false,
     "start_time": "2023-05-27T17:41:48.197819",
     "status": "completed"
    },
    "tags": []
   },
   "outputs": [
    {
     "data": {
      "application/vnd.jupyter.widget-view+json": {
       "model_id": "a7321139945c45adb32966009b650e3d",
       "version_major": 2,
       "version_minor": 0
      },
      "text/plain": [
       "Premodel process:   0%|          | 0/5 [00:00<?, ?it/s]"
      ]
     },
     "metadata": {},
     "output_type": "display_data"
    },
    {
     "data": {
      "text/plain": [
       "250"
      ]
     },
     "execution_count": 23,
     "metadata": {},
     "output_type": "execute_result"
    }
   ],
   "source": [
    "X_num, X_cat, Y, y_mean, y_std, cat_cardinalities = premodel_process(\n",
    "    df_train, df_test\n",
    ")\n",
    "gc.collect()"
   ]
  },
  {
   "cell_type": "code",
   "execution_count": 24,
   "id": "260a015e",
   "metadata": {
    "execution": {
     "iopub.execute_input": "2023-05-27T17:41:48.970284Z",
     "iopub.status.busy": "2023-05-27T17:41:48.969196Z",
     "iopub.status.idle": "2023-05-27T17:41:49.199809Z",
     "shell.execute_reply": "2023-05-27T17:41:49.198751Z"
    },
    "papermill": {
     "duration": 0.307154,
     "end_time": "2023-05-27T17:41:49.201962",
     "exception": false,
     "start_time": "2023-05-27T17:41:48.894808",
     "status": "completed"
    },
    "tags": []
   },
   "outputs": [
    {
     "data": {
      "text/plain": [
       "0"
      ]
     },
     "execution_count": 24,
     "metadata": {},
     "output_type": "execute_result"
    }
   ],
   "source": [
    "gc.collect()\n"
   ]
  },
  {
   "cell_type": "markdown",
   "id": "36c3f4de",
   "metadata": {
    "papermill": {
     "duration": 0.072024,
     "end_time": "2023-05-27T17:41:49.345835",
     "exception": false,
     "start_time": "2023-05-27T17:41:49.273811",
     "status": "completed"
    },
    "tags": []
   },
   "source": [
    "### Pack data in dataset"
   ]
  },
  {
   "cell_type": "code",
   "execution_count": 25,
   "id": "9400165a",
   "metadata": {
    "execution": {
     "iopub.execute_input": "2023-05-27T17:41:49.493203Z",
     "iopub.status.busy": "2023-05-27T17:41:49.492102Z",
     "iopub.status.idle": "2023-05-27T17:41:49.498922Z",
     "shell.execute_reply": "2023-05-27T17:41:49.497938Z"
    },
    "papermill": {
     "duration": 0.082472,
     "end_time": "2023-05-27T17:41:49.501026",
     "exception": false,
     "start_time": "2023-05-27T17:41:49.418554",
     "status": "completed"
    },
    "tags": []
   },
   "outputs": [],
   "source": [
    "class TaxiDataset(Dataset):\n",
    "    def __init__(self, x_num, x_cat, y) -> None:\n",
    "        self.x_num = x_num\n",
    "        self.x_cat = x_cat\n",
    "        self.y = y\n",
    "\n",
    "    def __len__(self):\n",
    "        return len(self.y)\n",
    "\n",
    "    def __getitem__(self, index):\n",
    "        return self.x_num[index], self.x_cat[index], self.y[index]\n"
   ]
  },
  {
   "cell_type": "markdown",
   "id": "2faa516a",
   "metadata": {
    "papermill": {
     "duration": 0.071742,
     "end_time": "2023-05-27T17:41:49.645296",
     "exception": false,
     "start_time": "2023-05-27T17:41:49.573554",
     "status": "completed"
    },
    "tags": []
   },
   "source": [
    "### Model and Evaluater"
   ]
  },
  {
   "cell_type": "code",
   "execution_count": 26,
   "id": "e95bbe2b",
   "metadata": {
    "execution": {
     "iopub.execute_input": "2023-05-27T17:41:49.792976Z",
     "iopub.status.busy": "2023-05-27T17:41:49.791962Z",
     "iopub.status.idle": "2023-05-27T17:41:49.801208Z",
     "shell.execute_reply": "2023-05-27T17:41:49.800367Z"
    },
    "papermill": {
     "duration": 0.085246,
     "end_time": "2023-05-27T17:41:49.803279",
     "exception": false,
     "start_time": "2023-05-27T17:41:49.718033",
     "status": "completed"
    },
    "tags": []
   },
   "outputs": [],
   "source": [
    "def get_model():\n",
    "    model = rtdl.FTTransformer.make_default(\n",
    "        n_num_features = X_num[\"train\"].shape[1],\n",
    "        cat_cardinalities=cat_cardinalities,\n",
    "        n_blocks = 5,\n",
    "        last_layer_query_idx=[-1],\n",
    "        d_out=1\n",
    "    )\n",
    "\n",
    "\n",
    "    model.to(device)\n",
    "\n",
    "    optimizer = model.make_default_optimizer()\n",
    "    loss_fn = F.smooth_l1_loss\n",
    "    \n",
    "    return model, optimizer, loss_fn\n",
    "\n",
    "\n",
    "class EarlyStopper:\n",
    "    def __init__(self, patience=100, min_delta=10e-5) -> None:\n",
    "        self.patience = patience\n",
    "        self.min_delta = min_delta\n",
    "        self.counter = 0\n",
    "        self.min_val_score = np.inf\n",
    "\n",
    "    def early_stop(self, val_score) -> bool:\n",
    "        if val_score < self.min_val_score:\n",
    "            self.min_val_score = val_score\n",
    "            self.counter = 0\n",
    "\n",
    "        elif val_score >= (self.min_val_score + self.min_delta):\n",
    "            self.counter += 1\n",
    "            if self.counter > self.patience:\n",
    "                return True\n",
    "\n",
    "        return False\n"
   ]
  },
  {
   "cell_type": "code",
   "execution_count": 27,
   "id": "ff73862d",
   "metadata": {
    "execution": {
     "iopub.execute_input": "2023-05-27T17:41:49.950359Z",
     "iopub.status.busy": "2023-05-27T17:41:49.948538Z",
     "iopub.status.idle": "2023-05-27T17:41:49.957318Z",
     "shell.execute_reply": "2023-05-27T17:41:49.956332Z"
    },
    "papermill": {
     "duration": 0.084279,
     "end_time": "2023-05-27T17:41:49.959611",
     "exception": false,
     "start_time": "2023-05-27T17:41:49.875332",
     "status": "completed"
    },
    "tags": []
   },
   "outputs": [],
   "source": [
    "@torch.no_grad()\n",
    "def evaluate(dataloader: DataLoader):\n",
    "    model.eval()\n",
    "\n",
    "    target = dataloader.dataset.y\n",
    "    pred = []\n",
    "    for data in tqdm(dataloader, miniters = 100, desc=\"Evaluate\"):\n",
    "        x_num_batch = data[0]\n",
    "        x_cat_batch = data[1]\n",
    "\n",
    "        pred.append(model(x_num_batch, x_cat_batch).squeeze(1))\n",
    "\n",
    "    pred = torch.cat(pred)\n",
    "\n",
    "    return sklearn.metrics.mean_squared_error(pred.cpu().numpy(), target.cpu().numpy()) ** 0.5 + y_std\n",
    "\n",
    "@torch.no_grad()\n",
    "def prediction():\n",
    "    model.eval()\n",
    "    y_pred = model(X_num[\"test\"], X_cat[\"test\"])\n",
    "    return (y_pred * y_std) + y_mean\n"
   ]
  },
  {
   "cell_type": "code",
   "execution_count": 28,
   "id": "19b4fd7e",
   "metadata": {
    "execution": {
     "iopub.execute_input": "2023-05-27T17:41:50.106718Z",
     "iopub.status.busy": "2023-05-27T17:41:50.106065Z",
     "iopub.status.idle": "2023-05-27T17:41:50.113958Z",
     "shell.execute_reply": "2023-05-27T17:41:50.112968Z"
    },
    "papermill": {
     "duration": 0.083284,
     "end_time": "2023-05-27T17:41:50.116050",
     "exception": false,
     "start_time": "2023-05-27T17:41:50.032766",
     "status": "completed"
    },
    "tags": []
   },
   "outputs": [],
   "source": [
    "def train(n_epoch = 1):\n",
    "    for epoch in range(1, n_epoch + 1):\n",
    "        with tqdm(train_dataloader, miniters = 100, desc=f\"Epoch {epoch}\") as t: \n",
    "            for data in t:\n",
    "                model.train()\n",
    "                optimizer.zero_grad()\n",
    "\n",
    "                x_num_batch = data[0]\n",
    "                x_cat_batch = data[1]\n",
    "                y_batch = data[2]\n",
    "\n",
    "                loss = loss_fn(model(x_num_batch, x_cat_batch).squeeze(1), y_batch)\n",
    "                loss.backward()\n",
    "                optimizer.step()\n",
    "                t.set_postfix(loss = loss.item())\n",
    "\n",
    "        gc.collect()\n",
    "        val_score = evaluate(val_dataloader)\n",
    "        print(f\"Epoch {epoch:03d} | Validation score: {val_score:.4f}\")\n",
    "        if early_stopper.early_stop(val_score):\n",
    "            print(f\"Early stop!\")\n",
    "            break"
   ]
  },
  {
   "cell_type": "markdown",
   "id": "7fbc0a46",
   "metadata": {
    "papermill": {
     "duration": 0.071602,
     "end_time": "2023-05-27T17:41:50.260731",
     "exception": false,
     "start_time": "2023-05-27T17:41:50.189129",
     "status": "completed"
    },
    "tags": []
   },
   "source": [
    "## Set dataloader"
   ]
  },
  {
   "cell_type": "code",
   "execution_count": 29,
   "id": "06543fd6",
   "metadata": {
    "execution": {
     "iopub.execute_input": "2023-05-27T17:41:50.406263Z",
     "iopub.status.busy": "2023-05-27T17:41:50.405851Z",
     "iopub.status.idle": "2023-05-27T17:41:50.412268Z",
     "shell.execute_reply": "2023-05-27T17:41:50.411275Z"
    },
    "papermill": {
     "duration": 0.082092,
     "end_time": "2023-05-27T17:41:50.414499",
     "exception": false,
     "start_time": "2023-05-27T17:41:50.332407",
     "status": "completed"
    },
    "tags": []
   },
   "outputs": [],
   "source": [
    "batch_size = 32\n",
    "\n",
    "val_dataset = TaxiDataset(X_num[\"val\"], X_cat[\"val\"], Y[\"val\"])\n",
    "val_dataloader = DataLoader(val_dataset, batch_size=batch_size)\n",
    "\n",
    "train_dataset = TaxiDataset(X_num[\"train\"], X_cat[\"train\"], Y[\"train\"])\n",
    "train_dataloader = DataLoader(\n",
    "    train_dataset, batch_size=batch_size, shuffle=True\n",
    ")\n",
    "\n",
    "early_stopper = EarlyStopper(min_delta=10e-6)"
   ]
  },
  {
   "cell_type": "code",
   "execution_count": 30,
   "id": "f94008ae",
   "metadata": {
    "execution": {
     "iopub.execute_input": "2023-05-27T17:41:50.561366Z",
     "iopub.status.busy": "2023-05-27T17:41:50.560471Z",
     "iopub.status.idle": "2023-05-27T17:42:33.586475Z",
     "shell.execute_reply": "2023-05-27T17:42:33.585405Z"
    },
    "papermill": {
     "duration": 43.102403,
     "end_time": "2023-05-27T17:42:33.589349",
     "exception": false,
     "start_time": "2023-05-27T17:41:50.486946",
     "status": "completed"
    },
    "tags": []
   },
   "outputs": [
    {
     "data": {
      "application/vnd.jupyter.widget-view+json": {
       "model_id": "e992e6806b494b5db79e263c01df61b0",
       "version_major": 2,
       "version_minor": 0
      },
      "text/plain": [
       "Evaluate:   0%|          | 0/9079 [00:00<?, ?it/s]"
      ]
     },
     "metadata": {},
     "output_type": "display_data"
    },
    {
     "data": {
      "text/plain": [
       "10.681353147732638"
      ]
     },
     "execution_count": 30,
     "metadata": {},
     "output_type": "execute_result"
    }
   ],
   "source": [
    "model, optimizer, loss_fn = get_model()\n",
    "\n",
    "# Pre train score\n",
    "evaluate(val_dataloader)"
   ]
  },
  {
   "cell_type": "code",
   "execution_count": 31,
   "id": "13f1101c",
   "metadata": {
    "execution": {
     "iopub.execute_input": "2023-05-27T17:42:33.736948Z",
     "iopub.status.busy": "2023-05-27T17:42:33.735991Z",
     "iopub.status.idle": "2023-05-27T18:10:42.493675Z",
     "shell.execute_reply": "2023-05-27T18:10:42.491979Z"
    },
    "papermill": {
     "duration": 1688.834572,
     "end_time": "2023-05-27T18:10:42.496222",
     "exception": false,
     "start_time": "2023-05-27T17:42:33.661650",
     "status": "completed"
    },
    "tags": []
   },
   "outputs": [
    {
     "data": {
      "application/vnd.jupyter.widget-view+json": {
       "model_id": "3cddafcbe2de47f8a63d8da2ad0b9b21",
       "version_major": 2,
       "version_minor": 0
      },
      "text/plain": [
       "Epoch 1:   0%|          | 0/21183 [00:00<?, ?it/s]"
      ]
     },
     "metadata": {},
     "output_type": "display_data"
    },
    {
     "data": {
      "application/vnd.jupyter.widget-view+json": {
       "model_id": "a53e80c59ea74f01943200244f5c5419",
       "version_major": 2,
       "version_minor": 0
      },
      "text/plain": [
       "Evaluate:   0%|          | 0/9079 [00:00<?, ?it/s]"
      ]
     },
     "metadata": {},
     "output_type": "display_data"
    },
    {
     "name": "stdout",
     "output_type": "stream",
     "text": [
      "Epoch 001 | Validation score: 10.0906\n"
     ]
    },
    {
     "data": {
      "application/vnd.jupyter.widget-view+json": {
       "model_id": "7d812d401ccb4f0c8eba3b54390050c1",
       "version_major": 2,
       "version_minor": 0
      },
      "text/plain": [
       "Epoch 2:   0%|          | 0/21183 [00:00<?, ?it/s]"
      ]
     },
     "metadata": {},
     "output_type": "display_data"
    },
    {
     "data": {
      "application/vnd.jupyter.widget-view+json": {
       "model_id": "9b6e5c2df0174c03b98594d105045f02",
       "version_major": 2,
       "version_minor": 0
      },
      "text/plain": [
       "Evaluate:   0%|          | 0/9079 [00:00<?, ?it/s]"
      ]
     },
     "metadata": {},
     "output_type": "display_data"
    },
    {
     "name": "stdout",
     "output_type": "stream",
     "text": [
      "Epoch 002 | Validation score: 10.0880\n"
     ]
    },
    {
     "data": {
      "application/vnd.jupyter.widget-view+json": {
       "model_id": "2a49a67d49e64560a89e65419a0a1b6e",
       "version_major": 2,
       "version_minor": 0
      },
      "text/plain": [
       "Epoch 3:   0%|          | 0/21183 [00:00<?, ?it/s]"
      ]
     },
     "metadata": {},
     "output_type": "display_data"
    },
    {
     "data": {
      "application/vnd.jupyter.widget-view+json": {
       "model_id": "9de2cc098f0048dd85a148629245d390",
       "version_major": 2,
       "version_minor": 0
      },
      "text/plain": [
       "Evaluate:   0%|          | 0/9079 [00:00<?, ?it/s]"
      ]
     },
     "metadata": {},
     "output_type": "display_data"
    },
    {
     "name": "stdout",
     "output_type": "stream",
     "text": [
      "Epoch 003 | Validation score: 10.0820\n"
     ]
    }
   ],
   "source": [
    "train(3)"
   ]
  },
  {
   "cell_type": "markdown",
   "id": "68d87e7a",
   "metadata": {
    "papermill": {
     "duration": 0.07434,
     "end_time": "2023-05-27T18:10:42.645276",
     "exception": false,
     "start_time": "2023-05-27T18:10:42.570936",
     "status": "completed"
    },
    "tags": []
   },
   "source": [
    "### Get Prediction"
   ]
  },
  {
   "cell_type": "code",
   "execution_count": 32,
   "id": "2f14710b",
   "metadata": {
    "execution": {
     "iopub.execute_input": "2023-05-27T18:10:42.796020Z",
     "iopub.status.busy": "2023-05-27T18:10:42.795662Z",
     "iopub.status.idle": "2023-05-27T18:10:42.952504Z",
     "shell.execute_reply": "2023-05-27T18:10:42.951525Z"
    },
    "papermill": {
     "duration": 0.236238,
     "end_time": "2023-05-27T18:10:42.955212",
     "exception": false,
     "start_time": "2023-05-27T18:10:42.718974",
     "status": "completed"
    },
    "tags": []
   },
   "outputs": [],
   "source": [
    "cf.concat(\n",
    "    [df_key, cf.Series(prediction().ravel(), name=\"fare_amount\")], axis=1\n",
    ").to_csv(\"/kaggle/working/output.csv\", index=False)\n"
   ]
  },
  {
   "cell_type": "code",
   "execution_count": 33,
   "id": "cdcc51af",
   "metadata": {
    "execution": {
     "iopub.execute_input": "2023-05-27T18:10:43.105273Z",
     "iopub.status.busy": "2023-05-27T18:10:43.104903Z",
     "iopub.status.idle": "2023-05-27T18:10:43.137826Z",
     "shell.execute_reply": "2023-05-27T18:10:43.136760Z"
    },
    "papermill": {
     "duration": 0.110691,
     "end_time": "2023-05-27T18:10:43.140280",
     "exception": false,
     "start_time": "2023-05-27T18:10:43.029589",
     "status": "completed"
    },
    "tags": []
   },
   "outputs": [
    {
     "data": {
      "text/html": [
       "<div>\n",
       "<style scoped>\n",
       "    .dataframe tbody tr th:only-of-type {\n",
       "        vertical-align: middle;\n",
       "    }\n",
       "\n",
       "    .dataframe tbody tr th {\n",
       "        vertical-align: top;\n",
       "    }\n",
       "\n",
       "    .dataframe thead th {\n",
       "        text-align: right;\n",
       "    }\n",
       "</style>\n",
       "<table border=\"1\" class=\"dataframe\">\n",
       "  <thead>\n",
       "    <tr style=\"text-align: right;\">\n",
       "      <th></th>\n",
       "      <th>key</th>\n",
       "      <th>fare_amount</th>\n",
       "    </tr>\n",
       "  </thead>\n",
       "  <tbody>\n",
       "    <tr>\n",
       "      <th>0</th>\n",
       "      <td>2015-01-27 13:08:24.0000002</td>\n",
       "      <td>8.549681</td>\n",
       "    </tr>\n",
       "    <tr>\n",
       "      <th>1</th>\n",
       "      <td>2015-01-27 13:08:24.0000003</td>\n",
       "      <td>9.108500</td>\n",
       "    </tr>\n",
       "    <tr>\n",
       "      <th>2</th>\n",
       "      <td>2011-10-08 11:53:44.0000002</td>\n",
       "      <td>5.229274</td>\n",
       "    </tr>\n",
       "    <tr>\n",
       "      <th>3</th>\n",
       "      <td>2012-12-01 21:12:12.0000002</td>\n",
       "      <td>7.889237</td>\n",
       "    </tr>\n",
       "    <tr>\n",
       "      <th>4</th>\n",
       "      <td>2012-12-01 21:12:12.0000003</td>\n",
       "      <td>14.869787</td>\n",
       "    </tr>\n",
       "    <tr>\n",
       "      <th>...</th>\n",
       "      <td>...</td>\n",
       "      <td>...</td>\n",
       "    </tr>\n",
       "    <tr>\n",
       "      <th>9909</th>\n",
       "      <td>2015-05-10 12:37:51.0000002</td>\n",
       "      <td>8.040543</td>\n",
       "    </tr>\n",
       "    <tr>\n",
       "      <th>9910</th>\n",
       "      <td>2015-01-12 17:05:51.0000001</td>\n",
       "      <td>8.112590</td>\n",
       "    </tr>\n",
       "    <tr>\n",
       "      <th>9911</th>\n",
       "      <td>2015-04-19 20:44:15.0000001</td>\n",
       "      <td>51.096886</td>\n",
       "    </tr>\n",
       "    <tr>\n",
       "      <th>9912</th>\n",
       "      <td>2015-01-31 01:05:19.0000005</td>\n",
       "      <td>18.587269</td>\n",
       "    </tr>\n",
       "    <tr>\n",
       "      <th>9913</th>\n",
       "      <td>2015-01-18 14:06:23.0000006</td>\n",
       "      <td>5.552122</td>\n",
       "    </tr>\n",
       "  </tbody>\n",
       "</table>\n",
       "<p>9914 rows × 2 columns</p>\n",
       "</div>"
      ],
      "text/plain": [
       "                              key  fare_amount\n",
       "0     2015-01-27 13:08:24.0000002     8.549681\n",
       "1     2015-01-27 13:08:24.0000003     9.108500\n",
       "2     2011-10-08 11:53:44.0000002     5.229274\n",
       "3     2012-12-01 21:12:12.0000002     7.889237\n",
       "4     2012-12-01 21:12:12.0000003    14.869787\n",
       "...                           ...          ...\n",
       "9909  2015-05-10 12:37:51.0000002     8.040543\n",
       "9910  2015-01-12 17:05:51.0000001     8.112590\n",
       "9911  2015-04-19 20:44:15.0000001    51.096886\n",
       "9912  2015-01-31 01:05:19.0000005    18.587269\n",
       "9913  2015-01-18 14:06:23.0000006     5.552122\n",
       "\n",
       "[9914 rows x 2 columns]"
      ]
     },
     "execution_count": 33,
     "metadata": {},
     "output_type": "execute_result"
    }
   ],
   "source": [
    "pd.read_csv(\"/kaggle/working/output.csv\")"
   ]
  }
 ],
 "metadata": {
  "kernelspec": {
   "display_name": "Python 3",
   "language": "python",
   "name": "python3"
  },
  "language_info": {
   "codemirror_mode": {
    "name": "ipython",
    "version": 3
   },
   "file_extension": ".py",
   "mimetype": "text/x-python",
   "name": "python",
   "nbconvert_exporter": "python",
   "pygments_lexer": "ipython3",
   "version": "3.10.10"
  },
  "papermill": {
   "default_parameters": {},
   "duration": 1940.84339,
   "end_time": "2023-05-27T18:10:45.764412",
   "environment_variables": {},
   "exception": null,
   "input_path": "__notebook__.ipynb",
   "output_path": "__notebook__.ipynb",
   "parameters": {},
   "start_time": "2023-05-27T17:38:24.921022",
   "version": "2.4.0"
  },
  "widgets": {
   "application/vnd.jupyter.widget-state+json": {
    "state": {
     "0148ecd735a84993b8d650ae760aae69": {
      "model_module": "@jupyter-widgets/base",
      "model_module_version": "1.2.0",
      "model_name": "LayoutModel",
      "state": {
       "_model_module": "@jupyter-widgets/base",
       "_model_module_version": "1.2.0",
       "_model_name": "LayoutModel",
       "_view_count": null,
       "_view_module": "@jupyter-widgets/base",
       "_view_module_version": "1.2.0",
       "_view_name": "LayoutView",
       "align_content": null,
       "align_items": null,
       "align_self": null,
       "border": null,
       "bottom": null,
       "display": null,
       "flex": null,
       "flex_flow": null,
       "grid_area": null,
       "grid_auto_columns": null,
       "grid_auto_flow": null,
       "grid_auto_rows": null,
       "grid_column": null,
       "grid_gap": null,
       "grid_row": null,
       "grid_template_areas": null,
       "grid_template_columns": null,
       "grid_template_rows": null,
       "height": null,
       "justify_content": null,
       "justify_items": null,
       "left": null,
       "margin": null,
       "max_height": null,
       "max_width": null,
       "min_height": null,
       "min_width": null,
       "object_fit": null,
       "object_position": null,
       "order": null,
       "overflow": null,
       "overflow_x": null,
       "overflow_y": null,
       "padding": null,
       "right": null,
       "top": null,
       "visibility": null,
       "width": null
      }
     },
     "04cea82e27ae4f069c6fcf724f97a579": {
      "model_module": "@jupyter-widgets/controls",
      "model_module_version": "1.5.0",
      "model_name": "ProgressStyleModel",
      "state": {
       "_model_module": "@jupyter-widgets/controls",
       "_model_module_version": "1.5.0",
       "_model_name": "ProgressStyleModel",
       "_view_count": null,
       "_view_module": "@jupyter-widgets/base",
       "_view_module_version": "1.2.0",
       "_view_name": "StyleView",
       "bar_color": null,
       "description_width": ""
      }
     },
     "05695c54f15b4702a3cff204c4461b40": {
      "model_module": "@jupyter-widgets/controls",
      "model_module_version": "1.5.0",
      "model_name": "ProgressStyleModel",
      "state": {
       "_model_module": "@jupyter-widgets/controls",
       "_model_module_version": "1.5.0",
       "_model_name": "ProgressStyleModel",
       "_view_count": null,
       "_view_module": "@jupyter-widgets/base",
       "_view_module_version": "1.2.0",
       "_view_name": "StyleView",
       "bar_color": null,
       "description_width": ""
      }
     },
     "0955990ffd254a10a9d2b313e1785be4": {
      "model_module": "@jupyter-widgets/controls",
      "model_module_version": "1.5.0",
      "model_name": "DescriptionStyleModel",
      "state": {
       "_model_module": "@jupyter-widgets/controls",
       "_model_module_version": "1.5.0",
       "_model_name": "DescriptionStyleModel",
       "_view_count": null,
       "_view_module": "@jupyter-widgets/base",
       "_view_module_version": "1.2.0",
       "_view_name": "StyleView",
       "description_width": ""
      }
     },
     "0b07824149004429b6e9761baf467c68": {
      "model_module": "@jupyter-widgets/controls",
      "model_module_version": "1.5.0",
      "model_name": "FloatProgressModel",
      "state": {
       "_dom_classes": [],
       "_model_module": "@jupyter-widgets/controls",
       "_model_module_version": "1.5.0",
       "_model_name": "FloatProgressModel",
       "_view_count": null,
       "_view_module": "@jupyter-widgets/controls",
       "_view_module_version": "1.5.0",
       "_view_name": "ProgressView",
       "bar_style": "success",
       "description": "",
       "description_tooltip": null,
       "layout": "IPY_MODEL_a7dc94f85a5f449c838fdaddce1d124e",
       "max": 21183.0,
       "min": 0.0,
       "orientation": "horizontal",
       "style": "IPY_MODEL_6921af4992d1450892992abf28c4c04f",
       "value": 21183.0
      }
     },
     "0f0e400195fb4cd3ac0d63801034ed59": {
      "model_module": "@jupyter-widgets/controls",
      "model_module_version": "1.5.0",
      "model_name": "HBoxModel",
      "state": {
       "_dom_classes": [],
       "_model_module": "@jupyter-widgets/controls",
       "_model_module_version": "1.5.0",
       "_model_name": "HBoxModel",
       "_view_count": null,
       "_view_module": "@jupyter-widgets/controls",
       "_view_module_version": "1.5.0",
       "_view_name": "HBoxView",
       "box_style": "",
       "children": [
        "IPY_MODEL_707c295162234e75944abc133f45f4d6",
        "IPY_MODEL_5896ee687adf473795cf0696dd3641e5",
        "IPY_MODEL_db4eb3a887304d769281713004f503c2"
       ],
       "layout": "IPY_MODEL_ae390577736a4707ae93c6c2db234826"
      }
     },
     "11776a9e8cbe41af8a0e5dd5702a1cde": {
      "model_module": "@jupyter-widgets/base",
      "model_module_version": "1.2.0",
      "model_name": "LayoutModel",
      "state": {
       "_model_module": "@jupyter-widgets/base",
       "_model_module_version": "1.2.0",
       "_model_name": "LayoutModel",
       "_view_count": null,
       "_view_module": "@jupyter-widgets/base",
       "_view_module_version": "1.2.0",
       "_view_name": "LayoutView",
       "align_content": null,
       "align_items": null,
       "align_self": null,
       "border": null,
       "bottom": null,
       "display": null,
       "flex": null,
       "flex_flow": null,
       "grid_area": null,
       "grid_auto_columns": null,
       "grid_auto_flow": null,
       "grid_auto_rows": null,
       "grid_column": null,
       "grid_gap": null,
       "grid_row": null,
       "grid_template_areas": null,
       "grid_template_columns": null,
       "grid_template_rows": null,
       "height": null,
       "justify_content": null,
       "justify_items": null,
       "left": null,
       "margin": null,
       "max_height": null,
       "max_width": null,
       "min_height": null,
       "min_width": null,
       "object_fit": null,
       "object_position": null,
       "order": null,
       "overflow": null,
       "overflow_x": null,
       "overflow_y": null,
       "padding": null,
       "right": null,
       "top": null,
       "visibility": null,
       "width": null
      }
     },
     "12f349d67a2b487e94804f35b4e666cb": {
      "model_module": "@jupyter-widgets/controls",
      "model_module_version": "1.5.0",
      "model_name": "DescriptionStyleModel",
      "state": {
       "_model_module": "@jupyter-widgets/controls",
       "_model_module_version": "1.5.0",
       "_model_name": "DescriptionStyleModel",
       "_view_count": null,
       "_view_module": "@jupyter-widgets/base",
       "_view_module_version": "1.2.0",
       "_view_name": "StyleView",
       "description_width": ""
      }
     },
     "1377588c721d45e5a904ca26a17d6c59": {
      "model_module": "@jupyter-widgets/base",
      "model_module_version": "1.2.0",
      "model_name": "LayoutModel",
      "state": {
       "_model_module": "@jupyter-widgets/base",
       "_model_module_version": "1.2.0",
       "_model_name": "LayoutModel",
       "_view_count": null,
       "_view_module": "@jupyter-widgets/base",
       "_view_module_version": "1.2.0",
       "_view_name": "LayoutView",
       "align_content": null,
       "align_items": null,
       "align_self": null,
       "border": null,
       "bottom": null,
       "display": null,
       "flex": null,
       "flex_flow": null,
       "grid_area": null,
       "grid_auto_columns": null,
       "grid_auto_flow": null,
       "grid_auto_rows": null,
       "grid_column": null,
       "grid_gap": null,
       "grid_row": null,
       "grid_template_areas": null,
       "grid_template_columns": null,
       "grid_template_rows": null,
       "height": null,
       "justify_content": null,
       "justify_items": null,
       "left": null,
       "margin": null,
       "max_height": null,
       "max_width": null,
       "min_height": null,
       "min_width": null,
       "object_fit": null,
       "object_position": null,
       "order": null,
       "overflow": null,
       "overflow_x": null,
       "overflow_y": null,
       "padding": null,
       "right": null,
       "top": null,
       "visibility": null,
       "width": null
      }
     },
     "13f69efbb8e74f28a0051f536f197d91": {
      "model_module": "@jupyter-widgets/base",
      "model_module_version": "1.2.0",
      "model_name": "LayoutModel",
      "state": {
       "_model_module": "@jupyter-widgets/base",
       "_model_module_version": "1.2.0",
       "_model_name": "LayoutModel",
       "_view_count": null,
       "_view_module": "@jupyter-widgets/base",
       "_view_module_version": "1.2.0",
       "_view_name": "LayoutView",
       "align_content": null,
       "align_items": null,
       "align_self": null,
       "border": null,
       "bottom": null,
       "display": null,
       "flex": null,
       "flex_flow": null,
       "grid_area": null,
       "grid_auto_columns": null,
       "grid_auto_flow": null,
       "grid_auto_rows": null,
       "grid_column": null,
       "grid_gap": null,
       "grid_row": null,
       "grid_template_areas": null,
       "grid_template_columns": null,
       "grid_template_rows": null,
       "height": null,
       "justify_content": null,
       "justify_items": null,
       "left": null,
       "margin": null,
       "max_height": null,
       "max_width": null,
       "min_height": null,
       "min_width": null,
       "object_fit": null,
       "object_position": null,
       "order": null,
       "overflow": null,
       "overflow_x": null,
       "overflow_y": null,
       "padding": null,
       "right": null,
       "top": null,
       "visibility": null,
       "width": null
      }
     },
     "152ca6240e7c437cba81ad9069f2ceba": {
      "model_module": "@jupyter-widgets/controls",
      "model_module_version": "1.5.0",
      "model_name": "FloatProgressModel",
      "state": {
       "_dom_classes": [],
       "_model_module": "@jupyter-widgets/controls",
       "_model_module_version": "1.5.0",
       "_model_name": "FloatProgressModel",
       "_view_count": null,
       "_view_module": "@jupyter-widgets/controls",
       "_view_module_version": "1.5.0",
       "_view_name": "ProgressView",
       "bar_style": "success",
       "description": "",
       "description_tooltip": null,
       "layout": "IPY_MODEL_7f0fef948cfe4181829da076893693f6",
       "max": 9079.0,
       "min": 0.0,
       "orientation": "horizontal",
       "style": "IPY_MODEL_fc8917b05b0b47c197b9f2ab2e94bf5c",
       "value": 9079.0
      }
     },
     "163b5617d5ab4342bcd11940bf2a9cf6": {
      "model_module": "@jupyter-widgets/base",
      "model_module_version": "1.2.0",
      "model_name": "LayoutModel",
      "state": {
       "_model_module": "@jupyter-widgets/base",
       "_model_module_version": "1.2.0",
       "_model_name": "LayoutModel",
       "_view_count": null,
       "_view_module": "@jupyter-widgets/base",
       "_view_module_version": "1.2.0",
       "_view_name": "LayoutView",
       "align_content": null,
       "align_items": null,
       "align_self": null,
       "border": null,
       "bottom": null,
       "display": null,
       "flex": null,
       "flex_flow": null,
       "grid_area": null,
       "grid_auto_columns": null,
       "grid_auto_flow": null,
       "grid_auto_rows": null,
       "grid_column": null,
       "grid_gap": null,
       "grid_row": null,
       "grid_template_areas": null,
       "grid_template_columns": null,
       "grid_template_rows": null,
       "height": null,
       "justify_content": null,
       "justify_items": null,
       "left": null,
       "margin": null,
       "max_height": null,
       "max_width": null,
       "min_height": null,
       "min_width": null,
       "object_fit": null,
       "object_position": null,
       "order": null,
       "overflow": null,
       "overflow_x": null,
       "overflow_y": null,
       "padding": null,
       "right": null,
       "top": null,
       "visibility": null,
       "width": null
      }
     },
     "18d9c21b63454f2f98d1c8fd34cd6e98": {
      "model_module": "@jupyter-widgets/controls",
      "model_module_version": "1.5.0",
      "model_name": "DescriptionStyleModel",
      "state": {
       "_model_module": "@jupyter-widgets/controls",
       "_model_module_version": "1.5.0",
       "_model_name": "DescriptionStyleModel",
       "_view_count": null,
       "_view_module": "@jupyter-widgets/base",
       "_view_module_version": "1.2.0",
       "_view_name": "StyleView",
       "description_width": ""
      }
     },
     "210db95b5a5f41e88349e93ef2b6f386": {
      "model_module": "@jupyter-widgets/base",
      "model_module_version": "1.2.0",
      "model_name": "LayoutModel",
      "state": {
       "_model_module": "@jupyter-widgets/base",
       "_model_module_version": "1.2.0",
       "_model_name": "LayoutModel",
       "_view_count": null,
       "_view_module": "@jupyter-widgets/base",
       "_view_module_version": "1.2.0",
       "_view_name": "LayoutView",
       "align_content": null,
       "align_items": null,
       "align_self": null,
       "border": null,
       "bottom": null,
       "display": null,
       "flex": null,
       "flex_flow": null,
       "grid_area": null,
       "grid_auto_columns": null,
       "grid_auto_flow": null,
       "grid_auto_rows": null,
       "grid_column": null,
       "grid_gap": null,
       "grid_row": null,
       "grid_template_areas": null,
       "grid_template_columns": null,
       "grid_template_rows": null,
       "height": null,
       "justify_content": null,
       "justify_items": null,
       "left": null,
       "margin": null,
       "max_height": null,
       "max_width": null,
       "min_height": null,
       "min_width": null,
       "object_fit": null,
       "object_position": null,
       "order": null,
       "overflow": null,
       "overflow_x": null,
       "overflow_y": null,
       "padding": null,
       "right": null,
       "top": null,
       "visibility": null,
       "width": null
      }
     },
     "2397ac7a19804b27a5193cd01611abcf": {
      "model_module": "@jupyter-widgets/controls",
      "model_module_version": "1.5.0",
      "model_name": "ProgressStyleModel",
      "state": {
       "_model_module": "@jupyter-widgets/controls",
       "_model_module_version": "1.5.0",
       "_model_name": "ProgressStyleModel",
       "_view_count": null,
       "_view_module": "@jupyter-widgets/base",
       "_view_module_version": "1.2.0",
       "_view_name": "StyleView",
       "bar_color": null,
       "description_width": ""
      }
     },
     "287dae6cd1874ec18d96b53484d4059d": {
      "model_module": "@jupyter-widgets/controls",
      "model_module_version": "1.5.0",
      "model_name": "FloatProgressModel",
      "state": {
       "_dom_classes": [],
       "_model_module": "@jupyter-widgets/controls",
       "_model_module_version": "1.5.0",
       "_model_name": "FloatProgressModel",
       "_view_count": null,
       "_view_module": "@jupyter-widgets/controls",
       "_view_module_version": "1.5.0",
       "_view_name": "ProgressView",
       "bar_style": "success",
       "description": "",
       "description_tooltip": null,
       "layout": "IPY_MODEL_a768dce4c4dd48578e2c13b8166c8a4f",
       "max": 21183.0,
       "min": 0.0,
       "orientation": "horizontal",
       "style": "IPY_MODEL_cc106a7fdcff45ce891f04691f732d8f",
       "value": 21183.0
      }
     },
     "2a2357f756ce4a3b91d0a8b2c685e0ea": {
      "model_module": "@jupyter-widgets/base",
      "model_module_version": "1.2.0",
      "model_name": "LayoutModel",
      "state": {
       "_model_module": "@jupyter-widgets/base",
       "_model_module_version": "1.2.0",
       "_model_name": "LayoutModel",
       "_view_count": null,
       "_view_module": "@jupyter-widgets/base",
       "_view_module_version": "1.2.0",
       "_view_name": "LayoutView",
       "align_content": null,
       "align_items": null,
       "align_self": null,
       "border": null,
       "bottom": null,
       "display": null,
       "flex": null,
       "flex_flow": null,
       "grid_area": null,
       "grid_auto_columns": null,
       "grid_auto_flow": null,
       "grid_auto_rows": null,
       "grid_column": null,
       "grid_gap": null,
       "grid_row": null,
       "grid_template_areas": null,
       "grid_template_columns": null,
       "grid_template_rows": null,
       "height": null,
       "justify_content": null,
       "justify_items": null,
       "left": null,
       "margin": null,
       "max_height": null,
       "max_width": null,
       "min_height": null,
       "min_width": null,
       "object_fit": null,
       "object_position": null,
       "order": null,
       "overflow": null,
       "overflow_x": null,
       "overflow_y": null,
       "padding": null,
       "right": null,
       "top": null,
       "visibility": null,
       "width": null
      }
     },
     "2a3d7c3d3bd645978dab5286fc77d6df": {
      "model_module": "@jupyter-widgets/controls",
      "model_module_version": "1.5.0",
      "model_name": "DescriptionStyleModel",
      "state": {
       "_model_module": "@jupyter-widgets/controls",
       "_model_module_version": "1.5.0",
       "_model_name": "DescriptionStyleModel",
       "_view_count": null,
       "_view_module": "@jupyter-widgets/base",
       "_view_module_version": "1.2.0",
       "_view_name": "StyleView",
       "description_width": ""
      }
     },
     "2a49a67d49e64560a89e65419a0a1b6e": {
      "model_module": "@jupyter-widgets/controls",
      "model_module_version": "1.5.0",
      "model_name": "HBoxModel",
      "state": {
       "_dom_classes": [],
       "_model_module": "@jupyter-widgets/controls",
       "_model_module_version": "1.5.0",
       "_model_name": "HBoxModel",
       "_view_count": null,
       "_view_module": "@jupyter-widgets/controls",
       "_view_module_version": "1.5.0",
       "_view_name": "HBoxView",
       "box_style": "",
       "children": [
        "IPY_MODEL_e3b3a78093ab482ca7fca0d0fc01f366",
        "IPY_MODEL_0b07824149004429b6e9761baf467c68",
        "IPY_MODEL_dbbce5052e104348a4c1278deaa016ed"
       ],
       "layout": "IPY_MODEL_3645fb7b461f4badba83e98c3c5327cb"
      }
     },
     "2ab83f4a466b4fb9ae90eb3dc7014196": {
      "model_module": "@jupyter-widgets/controls",
      "model_module_version": "1.5.0",
      "model_name": "HTMLModel",
      "state": {
       "_dom_classes": [],
       "_model_module": "@jupyter-widgets/controls",
       "_model_module_version": "1.5.0",
       "_model_name": "HTMLModel",
       "_view_count": null,
       "_view_module": "@jupyter-widgets/controls",
       "_view_module_version": "1.5.0",
       "_view_name": "HTMLView",
       "description": "",
       "description_tooltip": null,
       "layout": "IPY_MODEL_f915ced54c694d55bd624f441271a031",
       "placeholder": "​",
       "style": "IPY_MODEL_a4d90f1eec7e4b7aa93d8f4701382d55",
       "value": "Evaluate: 100%"
      }
     },
     "2cb3aaf946df45f983a8496aabb440ef": {
      "model_module": "@jupyter-widgets/controls",
      "model_module_version": "1.5.0",
      "model_name": "HTMLModel",
      "state": {
       "_dom_classes": [],
       "_model_module": "@jupyter-widgets/controls",
       "_model_module_version": "1.5.0",
       "_model_name": "HTMLModel",
       "_view_count": null,
       "_view_module": "@jupyter-widgets/controls",
       "_view_module_version": "1.5.0",
       "_view_name": "HTMLView",
       "description": "",
       "description_tooltip": null,
       "layout": "IPY_MODEL_a244df1f345e46bdb59161260b2bfbeb",
       "placeholder": "​",
       "style": "IPY_MODEL_a48ee7125a7d48e080b2e32a9f0438ae",
       "value": "Feature Engineering: 100%"
      }
     },
     "2e2965c2670f47b895db698f221c9348": {
      "model_module": "@jupyter-widgets/base",
      "model_module_version": "1.2.0",
      "model_name": "LayoutModel",
      "state": {
       "_model_module": "@jupyter-widgets/base",
       "_model_module_version": "1.2.0",
       "_model_name": "LayoutModel",
       "_view_count": null,
       "_view_module": "@jupyter-widgets/base",
       "_view_module_version": "1.2.0",
       "_view_name": "LayoutView",
       "align_content": null,
       "align_items": null,
       "align_self": null,
       "border": null,
       "bottom": null,
       "display": null,
       "flex": null,
       "flex_flow": null,
       "grid_area": null,
       "grid_auto_columns": null,
       "grid_auto_flow": null,
       "grid_auto_rows": null,
       "grid_column": null,
       "grid_gap": null,
       "grid_row": null,
       "grid_template_areas": null,
       "grid_template_columns": null,
       "grid_template_rows": null,
       "height": null,
       "justify_content": null,
       "justify_items": null,
       "left": null,
       "margin": null,
       "max_height": null,
       "max_width": null,
       "min_height": null,
       "min_width": null,
       "object_fit": null,
       "object_position": null,
       "order": null,
       "overflow": null,
       "overflow_x": null,
       "overflow_y": null,
       "padding": null,
       "right": null,
       "top": null,
       "visibility": null,
       "width": null
      }
     },
     "2e6e7cdea0f8436d8cfb4350a3142715": {
      "model_module": "@jupyter-widgets/controls",
      "model_module_version": "1.5.0",
      "model_name": "FloatProgressModel",
      "state": {
       "_dom_classes": [],
       "_model_module": "@jupyter-widgets/controls",
       "_model_module_version": "1.5.0",
       "_model_name": "FloatProgressModel",
       "_view_count": null,
       "_view_module": "@jupyter-widgets/controls",
       "_view_module_version": "1.5.0",
       "_view_name": "ProgressView",
       "bar_style": "success",
       "description": "",
       "description_tooltip": null,
       "layout": "IPY_MODEL_a9ed41f2b23d42818c9a7a05fb3796aa",
       "max": 9079.0,
       "min": 0.0,
       "orientation": "horizontal",
       "style": "IPY_MODEL_04cea82e27ae4f069c6fcf724f97a579",
       "value": 9079.0
      }
     },
     "2f471bf5cc5c4c6babe735ce7874f546": {
      "model_module": "@jupyter-widgets/base",
      "model_module_version": "1.2.0",
      "model_name": "LayoutModel",
      "state": {
       "_model_module": "@jupyter-widgets/base",
       "_model_module_version": "1.2.0",
       "_model_name": "LayoutModel",
       "_view_count": null,
       "_view_module": "@jupyter-widgets/base",
       "_view_module_version": "1.2.0",
       "_view_name": "LayoutView",
       "align_content": null,
       "align_items": null,
       "align_self": null,
       "border": null,
       "bottom": null,
       "display": null,
       "flex": null,
       "flex_flow": null,
       "grid_area": null,
       "grid_auto_columns": null,
       "grid_auto_flow": null,
       "grid_auto_rows": null,
       "grid_column": null,
       "grid_gap": null,
       "grid_row": null,
       "grid_template_areas": null,
       "grid_template_columns": null,
       "grid_template_rows": null,
       "height": null,
       "justify_content": null,
       "justify_items": null,
       "left": null,
       "margin": null,
       "max_height": null,
       "max_width": null,
       "min_height": null,
       "min_width": null,
       "object_fit": null,
       "object_position": null,
       "order": null,
       "overflow": null,
       "overflow_x": null,
       "overflow_y": null,
       "padding": null,
       "right": null,
       "top": null,
       "visibility": null,
       "width": null
      }
     },
     "3645fb7b461f4badba83e98c3c5327cb": {
      "model_module": "@jupyter-widgets/base",
      "model_module_version": "1.2.0",
      "model_name": "LayoutModel",
      "state": {
       "_model_module": "@jupyter-widgets/base",
       "_model_module_version": "1.2.0",
       "_model_name": "LayoutModel",
       "_view_count": null,
       "_view_module": "@jupyter-widgets/base",
       "_view_module_version": "1.2.0",
       "_view_name": "LayoutView",
       "align_content": null,
       "align_items": null,
       "align_self": null,
       "border": null,
       "bottom": null,
       "display": null,
       "flex": null,
       "flex_flow": null,
       "grid_area": null,
       "grid_auto_columns": null,
       "grid_auto_flow": null,
       "grid_auto_rows": null,
       "grid_column": null,
       "grid_gap": null,
       "grid_row": null,
       "grid_template_areas": null,
       "grid_template_columns": null,
       "grid_template_rows": null,
       "height": null,
       "justify_content": null,
       "justify_items": null,
       "left": null,
       "margin": null,
       "max_height": null,
       "max_width": null,
       "min_height": null,
       "min_width": null,
       "object_fit": null,
       "object_position": null,
       "order": null,
       "overflow": null,
       "overflow_x": null,
       "overflow_y": null,
       "padding": null,
       "right": null,
       "top": null,
       "visibility": null,
       "width": null
      }
     },
     "3cddafcbe2de47f8a63d8da2ad0b9b21": {
      "model_module": "@jupyter-widgets/controls",
      "model_module_version": "1.5.0",
      "model_name": "HBoxModel",
      "state": {
       "_dom_classes": [],
       "_model_module": "@jupyter-widgets/controls",
       "_model_module_version": "1.5.0",
       "_model_name": "HBoxModel",
       "_view_count": null,
       "_view_module": "@jupyter-widgets/controls",
       "_view_module_version": "1.5.0",
       "_view_name": "HBoxView",
       "box_style": "",
       "children": [
        "IPY_MODEL_6c4a2937a54b4573b7e836e370fb6bf0",
        "IPY_MODEL_287dae6cd1874ec18d96b53484d4059d",
        "IPY_MODEL_7489b7366dd243e3babde2d44c22ef0b"
       ],
       "layout": "IPY_MODEL_5d5997d6d0184adb8cf88f7e8b3cf7e8"
      }
     },
     "428e42e2fd584d56bb758b54a1d5ab2e": {
      "model_module": "@jupyter-widgets/controls",
      "model_module_version": "1.5.0",
      "model_name": "ProgressStyleModel",
      "state": {
       "_model_module": "@jupyter-widgets/controls",
       "_model_module_version": "1.5.0",
       "_model_name": "ProgressStyleModel",
       "_view_count": null,
       "_view_module": "@jupyter-widgets/base",
       "_view_module_version": "1.2.0",
       "_view_name": "StyleView",
       "bar_color": null,
       "description_width": ""
      }
     },
     "46bddb3b16d54663beaa05d43f5bb39d": {
      "model_module": "@jupyter-widgets/base",
      "model_module_version": "1.2.0",
      "model_name": "LayoutModel",
      "state": {
       "_model_module": "@jupyter-widgets/base",
       "_model_module_version": "1.2.0",
       "_model_name": "LayoutModel",
       "_view_count": null,
       "_view_module": "@jupyter-widgets/base",
       "_view_module_version": "1.2.0",
       "_view_name": "LayoutView",
       "align_content": null,
       "align_items": null,
       "align_self": null,
       "border": null,
       "bottom": null,
       "display": null,
       "flex": null,
       "flex_flow": null,
       "grid_area": null,
       "grid_auto_columns": null,
       "grid_auto_flow": null,
       "grid_auto_rows": null,
       "grid_column": null,
       "grid_gap": null,
       "grid_row": null,
       "grid_template_areas": null,
       "grid_template_columns": null,
       "grid_template_rows": null,
       "height": null,
       "justify_content": null,
       "justify_items": null,
       "left": null,
       "margin": null,
       "max_height": null,
       "max_width": null,
       "min_height": null,
       "min_width": null,
       "object_fit": null,
       "object_position": null,
       "order": null,
       "overflow": null,
       "overflow_x": null,
       "overflow_y": null,
       "padding": null,
       "right": null,
       "top": null,
       "visibility": null,
       "width": null
      }
     },
     "4768ce76a2e34373bc2e72fb652419a2": {
      "model_module": "@jupyter-widgets/controls",
      "model_module_version": "1.5.0",
      "model_name": "HBoxModel",
      "state": {
       "_dom_classes": [],
       "_model_module": "@jupyter-widgets/controls",
       "_model_module_version": "1.5.0",
       "_model_name": "HBoxModel",
       "_view_count": null,
       "_view_module": "@jupyter-widgets/controls",
       "_view_module_version": "1.5.0",
       "_view_name": "HBoxView",
       "box_style": "",
       "children": [
        "IPY_MODEL_2cb3aaf946df45f983a8496aabb440ef",
        "IPY_MODEL_5615e7723cb94bb6b077f28612483c80",
        "IPY_MODEL_6a8216c8e2ae48ed83c59ee55a1868ff"
       ],
       "layout": "IPY_MODEL_50fb0ef2d1fd41de8b7629f5162920e3"
      }
     },
     "47fd4396f10942d38299a89d5036a767": {
      "model_module": "@jupyter-widgets/base",
      "model_module_version": "1.2.0",
      "model_name": "LayoutModel",
      "state": {
       "_model_module": "@jupyter-widgets/base",
       "_model_module_version": "1.2.0",
       "_model_name": "LayoutModel",
       "_view_count": null,
       "_view_module": "@jupyter-widgets/base",
       "_view_module_version": "1.2.0",
       "_view_name": "LayoutView",
       "align_content": null,
       "align_items": null,
       "align_self": null,
       "border": null,
       "bottom": null,
       "display": null,
       "flex": null,
       "flex_flow": null,
       "grid_area": null,
       "grid_auto_columns": null,
       "grid_auto_flow": null,
       "grid_auto_rows": null,
       "grid_column": null,
       "grid_gap": null,
       "grid_row": null,
       "grid_template_areas": null,
       "grid_template_columns": null,
       "grid_template_rows": null,
       "height": null,
       "justify_content": null,
       "justify_items": null,
       "left": null,
       "margin": null,
       "max_height": null,
       "max_width": null,
       "min_height": null,
       "min_width": null,
       "object_fit": null,
       "object_position": null,
       "order": null,
       "overflow": null,
       "overflow_x": null,
       "overflow_y": null,
       "padding": null,
       "right": null,
       "top": null,
       "visibility": null,
       "width": null
      }
     },
     "48ac68a1078f4e2dbfc8df72aa7c1ca2": {
      "model_module": "@jupyter-widgets/controls",
      "model_module_version": "1.5.0",
      "model_name": "HTMLModel",
      "state": {
       "_dom_classes": [],
       "_model_module": "@jupyter-widgets/controls",
       "_model_module_version": "1.5.0",
       "_model_name": "HTMLModel",
       "_view_count": null,
       "_view_module": "@jupyter-widgets/controls",
       "_view_module_version": "1.5.0",
       "_view_name": "HTMLView",
       "description": "",
       "description_tooltip": null,
       "layout": "IPY_MODEL_1377588c721d45e5a904ca26a17d6c59",
       "placeholder": "​",
       "style": "IPY_MODEL_bb97d01b775648f8bc7f502c61606462",
       "value": " 9079/9079 [00:42&lt;00:00, 216.14it/s]"
      }
     },
     "4c39337a41df4587a428370886f89922": {
      "model_module": "@jupyter-widgets/controls",
      "model_module_version": "1.5.0",
      "model_name": "ProgressStyleModel",
      "state": {
       "_model_module": "@jupyter-widgets/controls",
       "_model_module_version": "1.5.0",
       "_model_name": "ProgressStyleModel",
       "_view_count": null,
       "_view_module": "@jupyter-widgets/base",
       "_view_module_version": "1.2.0",
       "_view_name": "StyleView",
       "bar_color": null,
       "description_width": ""
      }
     },
     "50fb0ef2d1fd41de8b7629f5162920e3": {
      "model_module": "@jupyter-widgets/base",
      "model_module_version": "1.2.0",
      "model_name": "LayoutModel",
      "state": {
       "_model_module": "@jupyter-widgets/base",
       "_model_module_version": "1.2.0",
       "_model_name": "LayoutModel",
       "_view_count": null,
       "_view_module": "@jupyter-widgets/base",
       "_view_module_version": "1.2.0",
       "_view_name": "LayoutView",
       "align_content": null,
       "align_items": null,
       "align_self": null,
       "border": null,
       "bottom": null,
       "display": null,
       "flex": null,
       "flex_flow": null,
       "grid_area": null,
       "grid_auto_columns": null,
       "grid_auto_flow": null,
       "grid_auto_rows": null,
       "grid_column": null,
       "grid_gap": null,
       "grid_row": null,
       "grid_template_areas": null,
       "grid_template_columns": null,
       "grid_template_rows": null,
       "height": null,
       "justify_content": null,
       "justify_items": null,
       "left": null,
       "margin": null,
       "max_height": null,
       "max_width": null,
       "min_height": null,
       "min_width": null,
       "object_fit": null,
       "object_position": null,
       "order": null,
       "overflow": null,
       "overflow_x": null,
       "overflow_y": null,
       "padding": null,
       "right": null,
       "top": null,
       "visibility": null,
       "width": null
      }
     },
     "51a5ac2c2708490588f7fa5d37480064": {
      "model_module": "@jupyter-widgets/base",
      "model_module_version": "1.2.0",
      "model_name": "LayoutModel",
      "state": {
       "_model_module": "@jupyter-widgets/base",
       "_model_module_version": "1.2.0",
       "_model_name": "LayoutModel",
       "_view_count": null,
       "_view_module": "@jupyter-widgets/base",
       "_view_module_version": "1.2.0",
       "_view_name": "LayoutView",
       "align_content": null,
       "align_items": null,
       "align_self": null,
       "border": null,
       "bottom": null,
       "display": null,
       "flex": null,
       "flex_flow": null,
       "grid_area": null,
       "grid_auto_columns": null,
       "grid_auto_flow": null,
       "grid_auto_rows": null,
       "grid_column": null,
       "grid_gap": null,
       "grid_row": null,
       "grid_template_areas": null,
       "grid_template_columns": null,
       "grid_template_rows": null,
       "height": null,
       "justify_content": null,
       "justify_items": null,
       "left": null,
       "margin": null,
       "max_height": null,
       "max_width": null,
       "min_height": null,
       "min_width": null,
       "object_fit": null,
       "object_position": null,
       "order": null,
       "overflow": null,
       "overflow_x": null,
       "overflow_y": null,
       "padding": null,
       "right": null,
       "top": null,
       "visibility": null,
       "width": null
      }
     },
     "557fad5f56c340d2bc69d82ecda47ec3": {
      "model_module": "@jupyter-widgets/controls",
      "model_module_version": "1.5.0",
      "model_name": "DescriptionStyleModel",
      "state": {
       "_model_module": "@jupyter-widgets/controls",
       "_model_module_version": "1.5.0",
       "_model_name": "DescriptionStyleModel",
       "_view_count": null,
       "_view_module": "@jupyter-widgets/base",
       "_view_module_version": "1.2.0",
       "_view_name": "StyleView",
       "description_width": ""
      }
     },
     "5615e7723cb94bb6b077f28612483c80": {
      "model_module": "@jupyter-widgets/controls",
      "model_module_version": "1.5.0",
      "model_name": "FloatProgressModel",
      "state": {
       "_dom_classes": [],
       "_model_module": "@jupyter-widgets/controls",
       "_model_module_version": "1.5.0",
       "_model_name": "FloatProgressModel",
       "_view_count": null,
       "_view_module": "@jupyter-widgets/controls",
       "_view_module_version": "1.5.0",
       "_view_name": "ProgressView",
       "bar_style": "success",
       "description": "",
       "description_tooltip": null,
       "layout": "IPY_MODEL_e3d7e407c2d84a68ad0cbdca9fe805ff",
       "max": 5.0,
       "min": 0.0,
       "orientation": "horizontal",
       "style": "IPY_MODEL_a20c2b59cbae4f1493d4f26a904470ee",
       "value": 5.0
      }
     },
     "583c2522cd6044db89083167343ec163": {
      "model_module": "@jupyter-widgets/controls",
      "model_module_version": "1.5.0",
      "model_name": "HTMLModel",
      "state": {
       "_dom_classes": [],
       "_model_module": "@jupyter-widgets/controls",
       "_model_module_version": "1.5.0",
       "_model_name": "HTMLModel",
       "_view_count": null,
       "_view_module": "@jupyter-widgets/controls",
       "_view_module_version": "1.5.0",
       "_view_name": "HTMLView",
       "description": "",
       "description_tooltip": null,
       "layout": "IPY_MODEL_a9a4b57b89d34872a4fe2e303c6f8d3f",
       "placeholder": "​",
       "style": "IPY_MODEL_fa2daed0f954401b843a45472052ae69",
       "value": " 9079/9079 [00:43&lt;00:00, 208.28it/s]"
      }
     },
     "5896ee687adf473795cf0696dd3641e5": {
      "model_module": "@jupyter-widgets/controls",
      "model_module_version": "1.5.0",
      "model_name": "FloatProgressModel",
      "state": {
       "_dom_classes": [],
       "_model_module": "@jupyter-widgets/controls",
       "_model_module_version": "1.5.0",
       "_model_name": "FloatProgressModel",
       "_view_count": null,
       "_view_module": "@jupyter-widgets/controls",
       "_view_module_version": "1.5.0",
       "_view_name": "ProgressView",
       "bar_style": "success",
       "description": "",
       "description_tooltip": null,
       "layout": "IPY_MODEL_6548939cae9e4ecebb9adb047bbca25f",
       "max": 5.0,
       "min": 0.0,
       "orientation": "horizontal",
       "style": "IPY_MODEL_2397ac7a19804b27a5193cd01611abcf",
       "value": 5.0
      }
     },
     "5b4d6a908aa946b8ad9aac75750bd732": {
      "model_module": "@jupyter-widgets/controls",
      "model_module_version": "1.5.0",
      "model_name": "HTMLModel",
      "state": {
       "_dom_classes": [],
       "_model_module": "@jupyter-widgets/controls",
       "_model_module_version": "1.5.0",
       "_model_name": "HTMLModel",
       "_view_count": null,
       "_view_module": "@jupyter-widgets/controls",
       "_view_module_version": "1.5.0",
       "_view_name": "HTMLView",
       "description": "",
       "description_tooltip": null,
       "layout": "IPY_MODEL_210db95b5a5f41e88349e93ef2b6f386",
       "placeholder": "​",
       "style": "IPY_MODEL_aba8058269394aca905c04de9f25cc48",
       "value": "Premodel process: 100%"
      }
     },
     "5d5997d6d0184adb8cf88f7e8b3cf7e8": {
      "model_module": "@jupyter-widgets/base",
      "model_module_version": "1.2.0",
      "model_name": "LayoutModel",
      "state": {
       "_model_module": "@jupyter-widgets/base",
       "_model_module_version": "1.2.0",
       "_model_name": "LayoutModel",
       "_view_count": null,
       "_view_module": "@jupyter-widgets/base",
       "_view_module_version": "1.2.0",
       "_view_name": "LayoutView",
       "align_content": null,
       "align_items": null,
       "align_self": null,
       "border": null,
       "bottom": null,
       "display": null,
       "flex": null,
       "flex_flow": null,
       "grid_area": null,
       "grid_auto_columns": null,
       "grid_auto_flow": null,
       "grid_auto_rows": null,
       "grid_column": null,
       "grid_gap": null,
       "grid_row": null,
       "grid_template_areas": null,
       "grid_template_columns": null,
       "grid_template_rows": null,
       "height": null,
       "justify_content": null,
       "justify_items": null,
       "left": null,
       "margin": null,
       "max_height": null,
       "max_width": null,
       "min_height": null,
       "min_width": null,
       "object_fit": null,
       "object_position": null,
       "order": null,
       "overflow": null,
       "overflow_x": null,
       "overflow_y": null,
       "padding": null,
       "right": null,
       "top": null,
       "visibility": null,
       "width": null
      }
     },
     "622cffa77c1f478dae901ccad26f2c68": {
      "model_module": "@jupyter-widgets/base",
      "model_module_version": "1.2.0",
      "model_name": "LayoutModel",
      "state": {
       "_model_module": "@jupyter-widgets/base",
       "_model_module_version": "1.2.0",
       "_model_name": "LayoutModel",
       "_view_count": null,
       "_view_module": "@jupyter-widgets/base",
       "_view_module_version": "1.2.0",
       "_view_name": "LayoutView",
       "align_content": null,
       "align_items": null,
       "align_self": null,
       "border": null,
       "bottom": null,
       "display": null,
       "flex": null,
       "flex_flow": null,
       "grid_area": null,
       "grid_auto_columns": null,
       "grid_auto_flow": null,
       "grid_auto_rows": null,
       "grid_column": null,
       "grid_gap": null,
       "grid_row": null,
       "grid_template_areas": null,
       "grid_template_columns": null,
       "grid_template_rows": null,
       "height": null,
       "justify_content": null,
       "justify_items": null,
       "left": null,
       "margin": null,
       "max_height": null,
       "max_width": null,
       "min_height": null,
       "min_width": null,
       "object_fit": null,
       "object_position": null,
       "order": null,
       "overflow": null,
       "overflow_x": null,
       "overflow_y": null,
       "padding": null,
       "right": null,
       "top": null,
       "visibility": null,
       "width": null
      }
     },
     "62dd8465476d4abeaddf990189d843ff": {
      "model_module": "@jupyter-widgets/controls",
      "model_module_version": "1.5.0",
      "model_name": "ProgressStyleModel",
      "state": {
       "_model_module": "@jupyter-widgets/controls",
       "_model_module_version": "1.5.0",
       "_model_name": "ProgressStyleModel",
       "_view_count": null,
       "_view_module": "@jupyter-widgets/base",
       "_view_module_version": "1.2.0",
       "_view_name": "StyleView",
       "bar_color": null,
       "description_width": ""
      }
     },
     "64ef421cb3ea4c15b123de6817629d69": {
      "model_module": "@jupyter-widgets/base",
      "model_module_version": "1.2.0",
      "model_name": "LayoutModel",
      "state": {
       "_model_module": "@jupyter-widgets/base",
       "_model_module_version": "1.2.0",
       "_model_name": "LayoutModel",
       "_view_count": null,
       "_view_module": "@jupyter-widgets/base",
       "_view_module_version": "1.2.0",
       "_view_name": "LayoutView",
       "align_content": null,
       "align_items": null,
       "align_self": null,
       "border": null,
       "bottom": null,
       "display": null,
       "flex": null,
       "flex_flow": null,
       "grid_area": null,
       "grid_auto_columns": null,
       "grid_auto_flow": null,
       "grid_auto_rows": null,
       "grid_column": null,
       "grid_gap": null,
       "grid_row": null,
       "grid_template_areas": null,
       "grid_template_columns": null,
       "grid_template_rows": null,
       "height": null,
       "justify_content": null,
       "justify_items": null,
       "left": null,
       "margin": null,
       "max_height": null,
       "max_width": null,
       "min_height": null,
       "min_width": null,
       "object_fit": null,
       "object_position": null,
       "order": null,
       "overflow": null,
       "overflow_x": null,
       "overflow_y": null,
       "padding": null,
       "right": null,
       "top": null,
       "visibility": null,
       "width": null
      }
     },
     "64fa6815bf054010912df6d25df3644a": {
      "model_module": "@jupyter-widgets/base",
      "model_module_version": "1.2.0",
      "model_name": "LayoutModel",
      "state": {
       "_model_module": "@jupyter-widgets/base",
       "_model_module_version": "1.2.0",
       "_model_name": "LayoutModel",
       "_view_count": null,
       "_view_module": "@jupyter-widgets/base",
       "_view_module_version": "1.2.0",
       "_view_name": "LayoutView",
       "align_content": null,
       "align_items": null,
       "align_self": null,
       "border": null,
       "bottom": null,
       "display": null,
       "flex": null,
       "flex_flow": null,
       "grid_area": null,
       "grid_auto_columns": null,
       "grid_auto_flow": null,
       "grid_auto_rows": null,
       "grid_column": null,
       "grid_gap": null,
       "grid_row": null,
       "grid_template_areas": null,
       "grid_template_columns": null,
       "grid_template_rows": null,
       "height": null,
       "justify_content": null,
       "justify_items": null,
       "left": null,
       "margin": null,
       "max_height": null,
       "max_width": null,
       "min_height": null,
       "min_width": null,
       "object_fit": null,
       "object_position": null,
       "order": null,
       "overflow": null,
       "overflow_x": null,
       "overflow_y": null,
       "padding": null,
       "right": null,
       "top": null,
       "visibility": null,
       "width": null
      }
     },
     "6548939cae9e4ecebb9adb047bbca25f": {
      "model_module": "@jupyter-widgets/base",
      "model_module_version": "1.2.0",
      "model_name": "LayoutModel",
      "state": {
       "_model_module": "@jupyter-widgets/base",
       "_model_module_version": "1.2.0",
       "_model_name": "LayoutModel",
       "_view_count": null,
       "_view_module": "@jupyter-widgets/base",
       "_view_module_version": "1.2.0",
       "_view_name": "LayoutView",
       "align_content": null,
       "align_items": null,
       "align_self": null,
       "border": null,
       "bottom": null,
       "display": null,
       "flex": null,
       "flex_flow": null,
       "grid_area": null,
       "grid_auto_columns": null,
       "grid_auto_flow": null,
       "grid_auto_rows": null,
       "grid_column": null,
       "grid_gap": null,
       "grid_row": null,
       "grid_template_areas": null,
       "grid_template_columns": null,
       "grid_template_rows": null,
       "height": null,
       "justify_content": null,
       "justify_items": null,
       "left": null,
       "margin": null,
       "max_height": null,
       "max_width": null,
       "min_height": null,
       "min_width": null,
       "object_fit": null,
       "object_position": null,
       "order": null,
       "overflow": null,
       "overflow_x": null,
       "overflow_y": null,
       "padding": null,
       "right": null,
       "top": null,
       "visibility": null,
       "width": null
      }
     },
     "6604ca15568f40ac9b27f9010974ed29": {
      "model_module": "@jupyter-widgets/base",
      "model_module_version": "1.2.0",
      "model_name": "LayoutModel",
      "state": {
       "_model_module": "@jupyter-widgets/base",
       "_model_module_version": "1.2.0",
       "_model_name": "LayoutModel",
       "_view_count": null,
       "_view_module": "@jupyter-widgets/base",
       "_view_module_version": "1.2.0",
       "_view_name": "LayoutView",
       "align_content": null,
       "align_items": null,
       "align_self": null,
       "border": null,
       "bottom": null,
       "display": null,
       "flex": null,
       "flex_flow": null,
       "grid_area": null,
       "grid_auto_columns": null,
       "grid_auto_flow": null,
       "grid_auto_rows": null,
       "grid_column": null,
       "grid_gap": null,
       "grid_row": null,
       "grid_template_areas": null,
       "grid_template_columns": null,
       "grid_template_rows": null,
       "height": null,
       "justify_content": null,
       "justify_items": null,
       "left": null,
       "margin": null,
       "max_height": null,
       "max_width": null,
       "min_height": null,
       "min_width": null,
       "object_fit": null,
       "object_position": null,
       "order": null,
       "overflow": null,
       "overflow_x": null,
       "overflow_y": null,
       "padding": null,
       "right": null,
       "top": null,
       "visibility": null,
       "width": null
      }
     },
     "6921af4992d1450892992abf28c4c04f": {
      "model_module": "@jupyter-widgets/controls",
      "model_module_version": "1.5.0",
      "model_name": "ProgressStyleModel",
      "state": {
       "_model_module": "@jupyter-widgets/controls",
       "_model_module_version": "1.5.0",
       "_model_name": "ProgressStyleModel",
       "_view_count": null,
       "_view_module": "@jupyter-widgets/base",
       "_view_module_version": "1.2.0",
       "_view_name": "StyleView",
       "bar_color": null,
       "description_width": ""
      }
     },
     "6a8216c8e2ae48ed83c59ee55a1868ff": {
      "model_module": "@jupyter-widgets/controls",
      "model_module_version": "1.5.0",
      "model_name": "HTMLModel",
      "state": {
       "_dom_classes": [],
       "_model_module": "@jupyter-widgets/controls",
       "_model_module_version": "1.5.0",
       "_model_name": "HTMLModel",
       "_view_count": null,
       "_view_module": "@jupyter-widgets/controls",
       "_view_module_version": "1.5.0",
       "_view_name": "HTMLView",
       "description": "",
       "description_tooltip": null,
       "layout": "IPY_MODEL_79548baa86be4436a1a0998860277c50",
       "placeholder": "​",
       "style": "IPY_MODEL_18d9c21b63454f2f98d1c8fd34cd6e98",
       "value": " 5/5 [00:19&lt;00:00,  3.20s/it]"
      }
     },
     "6c4a2937a54b4573b7e836e370fb6bf0": {
      "model_module": "@jupyter-widgets/controls",
      "model_module_version": "1.5.0",
      "model_name": "HTMLModel",
      "state": {
       "_dom_classes": [],
       "_model_module": "@jupyter-widgets/controls",
       "_model_module_version": "1.5.0",
       "_model_name": "HTMLModel",
       "_view_count": null,
       "_view_module": "@jupyter-widgets/controls",
       "_view_module_version": "1.5.0",
       "_view_name": "HTMLView",
       "description": "",
       "description_tooltip": null,
       "layout": "IPY_MODEL_163b5617d5ab4342bcd11940bf2a9cf6",
       "placeholder": "​",
       "style": "IPY_MODEL_12f349d67a2b487e94804f35b4e666cb",
       "value": "Epoch 1: 100%"
      }
     },
     "6dec989aa45f4b1ba44f5993849629de": {
      "model_module": "@jupyter-widgets/controls",
      "model_module_version": "1.5.0",
      "model_name": "DescriptionStyleModel",
      "state": {
       "_model_module": "@jupyter-widgets/controls",
       "_model_module_version": "1.5.0",
       "_model_name": "DescriptionStyleModel",
       "_view_count": null,
       "_view_module": "@jupyter-widgets/base",
       "_view_module_version": "1.2.0",
       "_view_name": "StyleView",
       "description_width": ""
      }
     },
     "707138893b914e77addfe4917eafaf51": {
      "model_module": "@jupyter-widgets/controls",
      "model_module_version": "1.5.0",
      "model_name": "HTMLModel",
      "state": {
       "_dom_classes": [],
       "_model_module": "@jupyter-widgets/controls",
       "_model_module_version": "1.5.0",
       "_model_name": "HTMLModel",
       "_view_count": null,
       "_view_module": "@jupyter-widgets/controls",
       "_view_module_version": "1.5.0",
       "_view_name": "HTMLView",
       "description": "",
       "description_tooltip": null,
       "layout": "IPY_MODEL_b639c0ab48da4e55a279c9aeded0d258",
       "placeholder": "​",
       "style": "IPY_MODEL_be6581d57b504f57beab92a41e852a88",
       "value": "Evaluate: 100%"
      }
     },
     "707c295162234e75944abc133f45f4d6": {
      "model_module": "@jupyter-widgets/controls",
      "model_module_version": "1.5.0",
      "model_name": "HTMLModel",
      "state": {
       "_dom_classes": [],
       "_model_module": "@jupyter-widgets/controls",
       "_model_module_version": "1.5.0",
       "_model_name": "HTMLModel",
       "_view_count": null,
       "_view_module": "@jupyter-widgets/controls",
       "_view_module_version": "1.5.0",
       "_view_name": "HTMLView",
       "description": "",
       "description_tooltip": null,
       "layout": "IPY_MODEL_f282e56b4d5a4252827d9b3a0c75c6f3",
       "placeholder": "​",
       "style": "IPY_MODEL_557fad5f56c340d2bc69d82ecda47ec3",
       "value": "Feature Engineering: 100%"
      }
     },
     "71799b97721f4e2badb47045e3352b0a": {
      "model_module": "@jupyter-widgets/controls",
      "model_module_version": "1.5.0",
      "model_name": "DescriptionStyleModel",
      "state": {
       "_model_module": "@jupyter-widgets/controls",
       "_model_module_version": "1.5.0",
       "_model_name": "DescriptionStyleModel",
       "_view_count": null,
       "_view_module": "@jupyter-widgets/base",
       "_view_module_version": "1.2.0",
       "_view_name": "StyleView",
       "description_width": ""
      }
     },
     "7489b7366dd243e3babde2d44c22ef0b": {
      "model_module": "@jupyter-widgets/controls",
      "model_module_version": "1.5.0",
      "model_name": "HTMLModel",
      "state": {
       "_dom_classes": [],
       "_model_module": "@jupyter-widgets/controls",
       "_model_module_version": "1.5.0",
       "_model_name": "HTMLModel",
       "_view_count": null,
       "_view_module": "@jupyter-widgets/controls",
       "_view_module_version": "1.5.0",
       "_view_name": "HTMLView",
       "description": "",
       "description_tooltip": null,
       "layout": "IPY_MODEL_fc93ac7bdb674e1c9d53ed6230d1a53e",
       "placeholder": "​",
       "style": "IPY_MODEL_afeb2673f9054bd1a64346a36b3697a0",
       "value": " 21183/21183 [08:38&lt;00:00, 42.56it/s, loss=0.0551]"
      }
     },
     "766fbb2be5cd4bbda9cf74f2e5429e5b": {
      "model_module": "@jupyter-widgets/controls",
      "model_module_version": "1.5.0",
      "model_name": "DescriptionStyleModel",
      "state": {
       "_model_module": "@jupyter-widgets/controls",
       "_model_module_version": "1.5.0",
       "_model_name": "DescriptionStyleModel",
       "_view_count": null,
       "_view_module": "@jupyter-widgets/base",
       "_view_module_version": "1.2.0",
       "_view_name": "StyleView",
       "description_width": ""
      }
     },
     "79548baa86be4436a1a0998860277c50": {
      "model_module": "@jupyter-widgets/base",
      "model_module_version": "1.2.0",
      "model_name": "LayoutModel",
      "state": {
       "_model_module": "@jupyter-widgets/base",
       "_model_module_version": "1.2.0",
       "_model_name": "LayoutModel",
       "_view_count": null,
       "_view_module": "@jupyter-widgets/base",
       "_view_module_version": "1.2.0",
       "_view_name": "LayoutView",
       "align_content": null,
       "align_items": null,
       "align_self": null,
       "border": null,
       "bottom": null,
       "display": null,
       "flex": null,
       "flex_flow": null,
       "grid_area": null,
       "grid_auto_columns": null,
       "grid_auto_flow": null,
       "grid_auto_rows": null,
       "grid_column": null,
       "grid_gap": null,
       "grid_row": null,
       "grid_template_areas": null,
       "grid_template_columns": null,
       "grid_template_rows": null,
       "height": null,
       "justify_content": null,
       "justify_items": null,
       "left": null,
       "margin": null,
       "max_height": null,
       "max_width": null,
       "min_height": null,
       "min_width": null,
       "object_fit": null,
       "object_position": null,
       "order": null,
       "overflow": null,
       "overflow_x": null,
       "overflow_y": null,
       "padding": null,
       "right": null,
       "top": null,
       "visibility": null,
       "width": null
      }
     },
     "7d812d401ccb4f0c8eba3b54390050c1": {
      "model_module": "@jupyter-widgets/controls",
      "model_module_version": "1.5.0",
      "model_name": "HBoxModel",
      "state": {
       "_dom_classes": [],
       "_model_module": "@jupyter-widgets/controls",
       "_model_module_version": "1.5.0",
       "_model_name": "HBoxModel",
       "_view_count": null,
       "_view_module": "@jupyter-widgets/controls",
       "_view_module_version": "1.5.0",
       "_view_name": "HBoxView",
       "box_style": "",
       "children": [
        "IPY_MODEL_ff60fc7badbf4222964924c57be194b1",
        "IPY_MODEL_973af3c420124ab2be7bd575105da6bb",
        "IPY_MODEL_db357359ac8847709ff16278f2daaa1a"
       ],
       "layout": "IPY_MODEL_b93c9f7c6d6142b9a5e2bdb4d1c89181"
      }
     },
     "7f0fef948cfe4181829da076893693f6": {
      "model_module": "@jupyter-widgets/base",
      "model_module_version": "1.2.0",
      "model_name": "LayoutModel",
      "state": {
       "_model_module": "@jupyter-widgets/base",
       "_model_module_version": "1.2.0",
       "_model_name": "LayoutModel",
       "_view_count": null,
       "_view_module": "@jupyter-widgets/base",
       "_view_module_version": "1.2.0",
       "_view_name": "LayoutView",
       "align_content": null,
       "align_items": null,
       "align_self": null,
       "border": null,
       "bottom": null,
       "display": null,
       "flex": null,
       "flex_flow": null,
       "grid_area": null,
       "grid_auto_columns": null,
       "grid_auto_flow": null,
       "grid_auto_rows": null,
       "grid_column": null,
       "grid_gap": null,
       "grid_row": null,
       "grid_template_areas": null,
       "grid_template_columns": null,
       "grid_template_rows": null,
       "height": null,
       "justify_content": null,
       "justify_items": null,
       "left": null,
       "margin": null,
       "max_height": null,
       "max_width": null,
       "min_height": null,
       "min_width": null,
       "object_fit": null,
       "object_position": null,
       "order": null,
       "overflow": null,
       "overflow_x": null,
       "overflow_y": null,
       "padding": null,
       "right": null,
       "top": null,
       "visibility": null,
       "width": null
      }
     },
     "81ffa1ba2b0f455b9ea6e55d8947f93c": {
      "model_module": "@jupyter-widgets/base",
      "model_module_version": "1.2.0",
      "model_name": "LayoutModel",
      "state": {
       "_model_module": "@jupyter-widgets/base",
       "_model_module_version": "1.2.0",
       "_model_name": "LayoutModel",
       "_view_count": null,
       "_view_module": "@jupyter-widgets/base",
       "_view_module_version": "1.2.0",
       "_view_name": "LayoutView",
       "align_content": null,
       "align_items": null,
       "align_self": null,
       "border": null,
       "bottom": null,
       "display": null,
       "flex": null,
       "flex_flow": null,
       "grid_area": null,
       "grid_auto_columns": null,
       "grid_auto_flow": null,
       "grid_auto_rows": null,
       "grid_column": null,
       "grid_gap": null,
       "grid_row": null,
       "grid_template_areas": null,
       "grid_template_columns": null,
       "grid_template_rows": null,
       "height": null,
       "justify_content": null,
       "justify_items": null,
       "left": null,
       "margin": null,
       "max_height": null,
       "max_width": null,
       "min_height": null,
       "min_width": null,
       "object_fit": null,
       "object_position": null,
       "order": null,
       "overflow": null,
       "overflow_x": null,
       "overflow_y": null,
       "padding": null,
       "right": null,
       "top": null,
       "visibility": null,
       "width": null
      }
     },
     "971f288ab0ff40b6876576f79d446caf": {
      "model_module": "@jupyter-widgets/controls",
      "model_module_version": "1.5.0",
      "model_name": "DescriptionStyleModel",
      "state": {
       "_model_module": "@jupyter-widgets/controls",
       "_model_module_version": "1.5.0",
       "_model_name": "DescriptionStyleModel",
       "_view_count": null,
       "_view_module": "@jupyter-widgets/base",
       "_view_module_version": "1.2.0",
       "_view_name": "StyleView",
       "description_width": ""
      }
     },
     "973af3c420124ab2be7bd575105da6bb": {
      "model_module": "@jupyter-widgets/controls",
      "model_module_version": "1.5.0",
      "model_name": "FloatProgressModel",
      "state": {
       "_dom_classes": [],
       "_model_module": "@jupyter-widgets/controls",
       "_model_module_version": "1.5.0",
       "_model_name": "FloatProgressModel",
       "_view_count": null,
       "_view_module": "@jupyter-widgets/controls",
       "_view_module_version": "1.5.0",
       "_view_name": "ProgressView",
       "bar_style": "success",
       "description": "",
       "description_tooltip": null,
       "layout": "IPY_MODEL_11776a9e8cbe41af8a0e5dd5702a1cde",
       "max": 21183.0,
       "min": 0.0,
       "orientation": "horizontal",
       "style": "IPY_MODEL_62dd8465476d4abeaddf990189d843ff",
       "value": 21183.0
      }
     },
     "9793c3db477142c6a2a295f56f34f58d": {
      "model_module": "@jupyter-widgets/controls",
      "model_module_version": "1.5.0",
      "model_name": "FloatProgressModel",
      "state": {
       "_dom_classes": [],
       "_model_module": "@jupyter-widgets/controls",
       "_model_module_version": "1.5.0",
       "_model_name": "FloatProgressModel",
       "_view_count": null,
       "_view_module": "@jupyter-widgets/controls",
       "_view_module_version": "1.5.0",
       "_view_name": "ProgressView",
       "bar_style": "success",
       "description": "",
       "description_tooltip": null,
       "layout": "IPY_MODEL_a765b6cfe8c24f33a593df1e146079b8",
       "max": 5.0,
       "min": 0.0,
       "orientation": "horizontal",
       "style": "IPY_MODEL_05695c54f15b4702a3cff204c4461b40",
       "value": 5.0
      }
     },
     "9b6e5c2df0174c03b98594d105045f02": {
      "model_module": "@jupyter-widgets/controls",
      "model_module_version": "1.5.0",
      "model_name": "HBoxModel",
      "state": {
       "_dom_classes": [],
       "_model_module": "@jupyter-widgets/controls",
       "_model_module_version": "1.5.0",
       "_model_name": "HBoxModel",
       "_view_count": null,
       "_view_module": "@jupyter-widgets/controls",
       "_view_module_version": "1.5.0",
       "_view_name": "HBoxView",
       "box_style": "",
       "children": [
        "IPY_MODEL_707138893b914e77addfe4917eafaf51",
        "IPY_MODEL_abf5c0d948344fc79a8a314171c73af8",
        "IPY_MODEL_d58ad48d029f48c6b0f46e2eb7b44df6"
       ],
       "layout": "IPY_MODEL_c18e27fdf16343c3bb686f7c414c0195"
      }
     },
     "9de2cc098f0048dd85a148629245d390": {
      "model_module": "@jupyter-widgets/controls",
      "model_module_version": "1.5.0",
      "model_name": "HBoxModel",
      "state": {
       "_dom_classes": [],
       "_model_module": "@jupyter-widgets/controls",
       "_model_module_version": "1.5.0",
       "_model_name": "HBoxModel",
       "_view_count": null,
       "_view_module": "@jupyter-widgets/controls",
       "_view_module_version": "1.5.0",
       "_view_name": "HBoxView",
       "box_style": "",
       "children": [
        "IPY_MODEL_ce431739d6994c708704fdf0419b7272",
        "IPY_MODEL_2e6e7cdea0f8436d8cfb4350a3142715",
        "IPY_MODEL_583c2522cd6044db89083167343ec163"
       ],
       "layout": "IPY_MODEL_51a5ac2c2708490588f7fa5d37480064"
      }
     },
     "a20c2b59cbae4f1493d4f26a904470ee": {
      "model_module": "@jupyter-widgets/controls",
      "model_module_version": "1.5.0",
      "model_name": "ProgressStyleModel",
      "state": {
       "_model_module": "@jupyter-widgets/controls",
       "_model_module_version": "1.5.0",
       "_model_name": "ProgressStyleModel",
       "_view_count": null,
       "_view_module": "@jupyter-widgets/base",
       "_view_module_version": "1.2.0",
       "_view_name": "StyleView",
       "bar_color": null,
       "description_width": ""
      }
     },
     "a244df1f345e46bdb59161260b2bfbeb": {
      "model_module": "@jupyter-widgets/base",
      "model_module_version": "1.2.0",
      "model_name": "LayoutModel",
      "state": {
       "_model_module": "@jupyter-widgets/base",
       "_model_module_version": "1.2.0",
       "_model_name": "LayoutModel",
       "_view_count": null,
       "_view_module": "@jupyter-widgets/base",
       "_view_module_version": "1.2.0",
       "_view_name": "LayoutView",
       "align_content": null,
       "align_items": null,
       "align_self": null,
       "border": null,
       "bottom": null,
       "display": null,
       "flex": null,
       "flex_flow": null,
       "grid_area": null,
       "grid_auto_columns": null,
       "grid_auto_flow": null,
       "grid_auto_rows": null,
       "grid_column": null,
       "grid_gap": null,
       "grid_row": null,
       "grid_template_areas": null,
       "grid_template_columns": null,
       "grid_template_rows": null,
       "height": null,
       "justify_content": null,
       "justify_items": null,
       "left": null,
       "margin": null,
       "max_height": null,
       "max_width": null,
       "min_height": null,
       "min_width": null,
       "object_fit": null,
       "object_position": null,
       "order": null,
       "overflow": null,
       "overflow_x": null,
       "overflow_y": null,
       "padding": null,
       "right": null,
       "top": null,
       "visibility": null,
       "width": null
      }
     },
     "a424ae4526d144ae87b50d8754031250": {
      "model_module": "@jupyter-widgets/base",
      "model_module_version": "1.2.0",
      "model_name": "LayoutModel",
      "state": {
       "_model_module": "@jupyter-widgets/base",
       "_model_module_version": "1.2.0",
       "_model_name": "LayoutModel",
       "_view_count": null,
       "_view_module": "@jupyter-widgets/base",
       "_view_module_version": "1.2.0",
       "_view_name": "LayoutView",
       "align_content": null,
       "align_items": null,
       "align_self": null,
       "border": null,
       "bottom": null,
       "display": null,
       "flex": null,
       "flex_flow": null,
       "grid_area": null,
       "grid_auto_columns": null,
       "grid_auto_flow": null,
       "grid_auto_rows": null,
       "grid_column": null,
       "grid_gap": null,
       "grid_row": null,
       "grid_template_areas": null,
       "grid_template_columns": null,
       "grid_template_rows": null,
       "height": null,
       "justify_content": null,
       "justify_items": null,
       "left": null,
       "margin": null,
       "max_height": null,
       "max_width": null,
       "min_height": null,
       "min_width": null,
       "object_fit": null,
       "object_position": null,
       "order": null,
       "overflow": null,
       "overflow_x": null,
       "overflow_y": null,
       "padding": null,
       "right": null,
       "top": null,
       "visibility": null,
       "width": null
      }
     },
     "a48ee7125a7d48e080b2e32a9f0438ae": {
      "model_module": "@jupyter-widgets/controls",
      "model_module_version": "1.5.0",
      "model_name": "DescriptionStyleModel",
      "state": {
       "_model_module": "@jupyter-widgets/controls",
       "_model_module_version": "1.5.0",
       "_model_name": "DescriptionStyleModel",
       "_view_count": null,
       "_view_module": "@jupyter-widgets/base",
       "_view_module_version": "1.2.0",
       "_view_name": "StyleView",
       "description_width": ""
      }
     },
     "a4d90f1eec7e4b7aa93d8f4701382d55": {
      "model_module": "@jupyter-widgets/controls",
      "model_module_version": "1.5.0",
      "model_name": "DescriptionStyleModel",
      "state": {
       "_model_module": "@jupyter-widgets/controls",
       "_model_module_version": "1.5.0",
       "_model_name": "DescriptionStyleModel",
       "_view_count": null,
       "_view_module": "@jupyter-widgets/base",
       "_view_module_version": "1.2.0",
       "_view_name": "StyleView",
       "description_width": ""
      }
     },
     "a53e80c59ea74f01943200244f5c5419": {
      "model_module": "@jupyter-widgets/controls",
      "model_module_version": "1.5.0",
      "model_name": "HBoxModel",
      "state": {
       "_dom_classes": [],
       "_model_module": "@jupyter-widgets/controls",
       "_model_module_version": "1.5.0",
       "_model_name": "HBoxModel",
       "_view_count": null,
       "_view_module": "@jupyter-widgets/controls",
       "_view_module_version": "1.5.0",
       "_view_name": "HBoxView",
       "box_style": "",
       "children": [
        "IPY_MODEL_ed06deda8ed34b6bad02a6a61c79ce04",
        "IPY_MODEL_152ca6240e7c437cba81ad9069f2ceba",
        "IPY_MODEL_c252dbfdec1c4ceea34606f7e82c2d22"
       ],
       "layout": "IPY_MODEL_64fa6815bf054010912df6d25df3644a"
      }
     },
     "a7321139945c45adb32966009b650e3d": {
      "model_module": "@jupyter-widgets/controls",
      "model_module_version": "1.5.0",
      "model_name": "HBoxModel",
      "state": {
       "_dom_classes": [],
       "_model_module": "@jupyter-widgets/controls",
       "_model_module_version": "1.5.0",
       "_model_name": "HBoxModel",
       "_view_count": null,
       "_view_module": "@jupyter-widgets/controls",
       "_view_module_version": "1.5.0",
       "_view_name": "HBoxView",
       "box_style": "",
       "children": [
        "IPY_MODEL_5b4d6a908aa946b8ad9aac75750bd732",
        "IPY_MODEL_9793c3db477142c6a2a295f56f34f58d",
        "IPY_MODEL_f10feb95f7334911b856bf0bd2c0ea3c"
       ],
       "layout": "IPY_MODEL_46bddb3b16d54663beaa05d43f5bb39d"
      }
     },
     "a765b6cfe8c24f33a593df1e146079b8": {
      "model_module": "@jupyter-widgets/base",
      "model_module_version": "1.2.0",
      "model_name": "LayoutModel",
      "state": {
       "_model_module": "@jupyter-widgets/base",
       "_model_module_version": "1.2.0",
       "_model_name": "LayoutModel",
       "_view_count": null,
       "_view_module": "@jupyter-widgets/base",
       "_view_module_version": "1.2.0",
       "_view_name": "LayoutView",
       "align_content": null,
       "align_items": null,
       "align_self": null,
       "border": null,
       "bottom": null,
       "display": null,
       "flex": null,
       "flex_flow": null,
       "grid_area": null,
       "grid_auto_columns": null,
       "grid_auto_flow": null,
       "grid_auto_rows": null,
       "grid_column": null,
       "grid_gap": null,
       "grid_row": null,
       "grid_template_areas": null,
       "grid_template_columns": null,
       "grid_template_rows": null,
       "height": null,
       "justify_content": null,
       "justify_items": null,
       "left": null,
       "margin": null,
       "max_height": null,
       "max_width": null,
       "min_height": null,
       "min_width": null,
       "object_fit": null,
       "object_position": null,
       "order": null,
       "overflow": null,
       "overflow_x": null,
       "overflow_y": null,
       "padding": null,
       "right": null,
       "top": null,
       "visibility": null,
       "width": null
      }
     },
     "a768dce4c4dd48578e2c13b8166c8a4f": {
      "model_module": "@jupyter-widgets/base",
      "model_module_version": "1.2.0",
      "model_name": "LayoutModel",
      "state": {
       "_model_module": "@jupyter-widgets/base",
       "_model_module_version": "1.2.0",
       "_model_name": "LayoutModel",
       "_view_count": null,
       "_view_module": "@jupyter-widgets/base",
       "_view_module_version": "1.2.0",
       "_view_name": "LayoutView",
       "align_content": null,
       "align_items": null,
       "align_self": null,
       "border": null,
       "bottom": null,
       "display": null,
       "flex": null,
       "flex_flow": null,
       "grid_area": null,
       "grid_auto_columns": null,
       "grid_auto_flow": null,
       "grid_auto_rows": null,
       "grid_column": null,
       "grid_gap": null,
       "grid_row": null,
       "grid_template_areas": null,
       "grid_template_columns": null,
       "grid_template_rows": null,
       "height": null,
       "justify_content": null,
       "justify_items": null,
       "left": null,
       "margin": null,
       "max_height": null,
       "max_width": null,
       "min_height": null,
       "min_width": null,
       "object_fit": null,
       "object_position": null,
       "order": null,
       "overflow": null,
       "overflow_x": null,
       "overflow_y": null,
       "padding": null,
       "right": null,
       "top": null,
       "visibility": null,
       "width": null
      }
     },
     "a7dc94f85a5f449c838fdaddce1d124e": {
      "model_module": "@jupyter-widgets/base",
      "model_module_version": "1.2.0",
      "model_name": "LayoutModel",
      "state": {
       "_model_module": "@jupyter-widgets/base",
       "_model_module_version": "1.2.0",
       "_model_name": "LayoutModel",
       "_view_count": null,
       "_view_module": "@jupyter-widgets/base",
       "_view_module_version": "1.2.0",
       "_view_name": "LayoutView",
       "align_content": null,
       "align_items": null,
       "align_self": null,
       "border": null,
       "bottom": null,
       "display": null,
       "flex": null,
       "flex_flow": null,
       "grid_area": null,
       "grid_auto_columns": null,
       "grid_auto_flow": null,
       "grid_auto_rows": null,
       "grid_column": null,
       "grid_gap": null,
       "grid_row": null,
       "grid_template_areas": null,
       "grid_template_columns": null,
       "grid_template_rows": null,
       "height": null,
       "justify_content": null,
       "justify_items": null,
       "left": null,
       "margin": null,
       "max_height": null,
       "max_width": null,
       "min_height": null,
       "min_width": null,
       "object_fit": null,
       "object_position": null,
       "order": null,
       "overflow": null,
       "overflow_x": null,
       "overflow_y": null,
       "padding": null,
       "right": null,
       "top": null,
       "visibility": null,
       "width": null
      }
     },
     "a9a4b57b89d34872a4fe2e303c6f8d3f": {
      "model_module": "@jupyter-widgets/base",
      "model_module_version": "1.2.0",
      "model_name": "LayoutModel",
      "state": {
       "_model_module": "@jupyter-widgets/base",
       "_model_module_version": "1.2.0",
       "_model_name": "LayoutModel",
       "_view_count": null,
       "_view_module": "@jupyter-widgets/base",
       "_view_module_version": "1.2.0",
       "_view_name": "LayoutView",
       "align_content": null,
       "align_items": null,
       "align_self": null,
       "border": null,
       "bottom": null,
       "display": null,
       "flex": null,
       "flex_flow": null,
       "grid_area": null,
       "grid_auto_columns": null,
       "grid_auto_flow": null,
       "grid_auto_rows": null,
       "grid_column": null,
       "grid_gap": null,
       "grid_row": null,
       "grid_template_areas": null,
       "grid_template_columns": null,
       "grid_template_rows": null,
       "height": null,
       "justify_content": null,
       "justify_items": null,
       "left": null,
       "margin": null,
       "max_height": null,
       "max_width": null,
       "min_height": null,
       "min_width": null,
       "object_fit": null,
       "object_position": null,
       "order": null,
       "overflow": null,
       "overflow_x": null,
       "overflow_y": null,
       "padding": null,
       "right": null,
       "top": null,
       "visibility": null,
       "width": null
      }
     },
     "a9ed41f2b23d42818c9a7a05fb3796aa": {
      "model_module": "@jupyter-widgets/base",
      "model_module_version": "1.2.0",
      "model_name": "LayoutModel",
      "state": {
       "_model_module": "@jupyter-widgets/base",
       "_model_module_version": "1.2.0",
       "_model_name": "LayoutModel",
       "_view_count": null,
       "_view_module": "@jupyter-widgets/base",
       "_view_module_version": "1.2.0",
       "_view_name": "LayoutView",
       "align_content": null,
       "align_items": null,
       "align_self": null,
       "border": null,
       "bottom": null,
       "display": null,
       "flex": null,
       "flex_flow": null,
       "grid_area": null,
       "grid_auto_columns": null,
       "grid_auto_flow": null,
       "grid_auto_rows": null,
       "grid_column": null,
       "grid_gap": null,
       "grid_row": null,
       "grid_template_areas": null,
       "grid_template_columns": null,
       "grid_template_rows": null,
       "height": null,
       "justify_content": null,
       "justify_items": null,
       "left": null,
       "margin": null,
       "max_height": null,
       "max_width": null,
       "min_height": null,
       "min_width": null,
       "object_fit": null,
       "object_position": null,
       "order": null,
       "overflow": null,
       "overflow_x": null,
       "overflow_y": null,
       "padding": null,
       "right": null,
       "top": null,
       "visibility": null,
       "width": null
      }
     },
     "aa04ab55e27349b6b00a59df44a1ba55": {
      "model_module": "@jupyter-widgets/controls",
      "model_module_version": "1.5.0",
      "model_name": "FloatProgressModel",
      "state": {
       "_dom_classes": [],
       "_model_module": "@jupyter-widgets/controls",
       "_model_module_version": "1.5.0",
       "_model_name": "FloatProgressModel",
       "_view_count": null,
       "_view_module": "@jupyter-widgets/controls",
       "_view_module_version": "1.5.0",
       "_view_name": "ProgressView",
       "bar_style": "success",
       "description": "",
       "description_tooltip": null,
       "layout": "IPY_MODEL_2f471bf5cc5c4c6babe735ce7874f546",
       "max": 9079.0,
       "min": 0.0,
       "orientation": "horizontal",
       "style": "IPY_MODEL_428e42e2fd584d56bb758b54a1d5ab2e",
       "value": 9079.0
      }
     },
     "ab7fda329e134a2992fd7491609c5ea8": {
      "model_module": "@jupyter-widgets/controls",
      "model_module_version": "1.5.0",
      "model_name": "DescriptionStyleModel",
      "state": {
       "_model_module": "@jupyter-widgets/controls",
       "_model_module_version": "1.5.0",
       "_model_name": "DescriptionStyleModel",
       "_view_count": null,
       "_view_module": "@jupyter-widgets/base",
       "_view_module_version": "1.2.0",
       "_view_name": "StyleView",
       "description_width": ""
      }
     },
     "aba8058269394aca905c04de9f25cc48": {
      "model_module": "@jupyter-widgets/controls",
      "model_module_version": "1.5.0",
      "model_name": "DescriptionStyleModel",
      "state": {
       "_model_module": "@jupyter-widgets/controls",
       "_model_module_version": "1.5.0",
       "_model_name": "DescriptionStyleModel",
       "_view_count": null,
       "_view_module": "@jupyter-widgets/base",
       "_view_module_version": "1.2.0",
       "_view_name": "StyleView",
       "description_width": ""
      }
     },
     "abf5c0d948344fc79a8a314171c73af8": {
      "model_module": "@jupyter-widgets/controls",
      "model_module_version": "1.5.0",
      "model_name": "FloatProgressModel",
      "state": {
       "_dom_classes": [],
       "_model_module": "@jupyter-widgets/controls",
       "_model_module_version": "1.5.0",
       "_model_name": "FloatProgressModel",
       "_view_count": null,
       "_view_module": "@jupyter-widgets/controls",
       "_view_module_version": "1.5.0",
       "_view_name": "ProgressView",
       "bar_style": "success",
       "description": "",
       "description_tooltip": null,
       "layout": "IPY_MODEL_2a2357f756ce4a3b91d0a8b2c685e0ea",
       "max": 9079.0,
       "min": 0.0,
       "orientation": "horizontal",
       "style": "IPY_MODEL_4c39337a41df4587a428370886f89922",
       "value": 9079.0
      }
     },
     "ae390577736a4707ae93c6c2db234826": {
      "model_module": "@jupyter-widgets/base",
      "model_module_version": "1.2.0",
      "model_name": "LayoutModel",
      "state": {
       "_model_module": "@jupyter-widgets/base",
       "_model_module_version": "1.2.0",
       "_model_name": "LayoutModel",
       "_view_count": null,
       "_view_module": "@jupyter-widgets/base",
       "_view_module_version": "1.2.0",
       "_view_name": "LayoutView",
       "align_content": null,
       "align_items": null,
       "align_self": null,
       "border": null,
       "bottom": null,
       "display": null,
       "flex": null,
       "flex_flow": null,
       "grid_area": null,
       "grid_auto_columns": null,
       "grid_auto_flow": null,
       "grid_auto_rows": null,
       "grid_column": null,
       "grid_gap": null,
       "grid_row": null,
       "grid_template_areas": null,
       "grid_template_columns": null,
       "grid_template_rows": null,
       "height": null,
       "justify_content": null,
       "justify_items": null,
       "left": null,
       "margin": null,
       "max_height": null,
       "max_width": null,
       "min_height": null,
       "min_width": null,
       "object_fit": null,
       "object_position": null,
       "order": null,
       "overflow": null,
       "overflow_x": null,
       "overflow_y": null,
       "padding": null,
       "right": null,
       "top": null,
       "visibility": null,
       "width": null
      }
     },
     "afeb2673f9054bd1a64346a36b3697a0": {
      "model_module": "@jupyter-widgets/controls",
      "model_module_version": "1.5.0",
      "model_name": "DescriptionStyleModel",
      "state": {
       "_model_module": "@jupyter-widgets/controls",
       "_model_module_version": "1.5.0",
       "_model_name": "DescriptionStyleModel",
       "_view_count": null,
       "_view_module": "@jupyter-widgets/base",
       "_view_module_version": "1.2.0",
       "_view_name": "StyleView",
       "description_width": ""
      }
     },
     "b639c0ab48da4e55a279c9aeded0d258": {
      "model_module": "@jupyter-widgets/base",
      "model_module_version": "1.2.0",
      "model_name": "LayoutModel",
      "state": {
       "_model_module": "@jupyter-widgets/base",
       "_model_module_version": "1.2.0",
       "_model_name": "LayoutModel",
       "_view_count": null,
       "_view_module": "@jupyter-widgets/base",
       "_view_module_version": "1.2.0",
       "_view_name": "LayoutView",
       "align_content": null,
       "align_items": null,
       "align_self": null,
       "border": null,
       "bottom": null,
       "display": null,
       "flex": null,
       "flex_flow": null,
       "grid_area": null,
       "grid_auto_columns": null,
       "grid_auto_flow": null,
       "grid_auto_rows": null,
       "grid_column": null,
       "grid_gap": null,
       "grid_row": null,
       "grid_template_areas": null,
       "grid_template_columns": null,
       "grid_template_rows": null,
       "height": null,
       "justify_content": null,
       "justify_items": null,
       "left": null,
       "margin": null,
       "max_height": null,
       "max_width": null,
       "min_height": null,
       "min_width": null,
       "object_fit": null,
       "object_position": null,
       "order": null,
       "overflow": null,
       "overflow_x": null,
       "overflow_y": null,
       "padding": null,
       "right": null,
       "top": null,
       "visibility": null,
       "width": null
      }
     },
     "b93c9f7c6d6142b9a5e2bdb4d1c89181": {
      "model_module": "@jupyter-widgets/base",
      "model_module_version": "1.2.0",
      "model_name": "LayoutModel",
      "state": {
       "_model_module": "@jupyter-widgets/base",
       "_model_module_version": "1.2.0",
       "_model_name": "LayoutModel",
       "_view_count": null,
       "_view_module": "@jupyter-widgets/base",
       "_view_module_version": "1.2.0",
       "_view_name": "LayoutView",
       "align_content": null,
       "align_items": null,
       "align_self": null,
       "border": null,
       "bottom": null,
       "display": null,
       "flex": null,
       "flex_flow": null,
       "grid_area": null,
       "grid_auto_columns": null,
       "grid_auto_flow": null,
       "grid_auto_rows": null,
       "grid_column": null,
       "grid_gap": null,
       "grid_row": null,
       "grid_template_areas": null,
       "grid_template_columns": null,
       "grid_template_rows": null,
       "height": null,
       "justify_content": null,
       "justify_items": null,
       "left": null,
       "margin": null,
       "max_height": null,
       "max_width": null,
       "min_height": null,
       "min_width": null,
       "object_fit": null,
       "object_position": null,
       "order": null,
       "overflow": null,
       "overflow_x": null,
       "overflow_y": null,
       "padding": null,
       "right": null,
       "top": null,
       "visibility": null,
       "width": null
      }
     },
     "bb97d01b775648f8bc7f502c61606462": {
      "model_module": "@jupyter-widgets/controls",
      "model_module_version": "1.5.0",
      "model_name": "DescriptionStyleModel",
      "state": {
       "_model_module": "@jupyter-widgets/controls",
       "_model_module_version": "1.5.0",
       "_model_name": "DescriptionStyleModel",
       "_view_count": null,
       "_view_module": "@jupyter-widgets/base",
       "_view_module_version": "1.2.0",
       "_view_name": "StyleView",
       "description_width": ""
      }
     },
     "be6581d57b504f57beab92a41e852a88": {
      "model_module": "@jupyter-widgets/controls",
      "model_module_version": "1.5.0",
      "model_name": "DescriptionStyleModel",
      "state": {
       "_model_module": "@jupyter-widgets/controls",
       "_model_module_version": "1.5.0",
       "_model_name": "DescriptionStyleModel",
       "_view_count": null,
       "_view_module": "@jupyter-widgets/base",
       "_view_module_version": "1.2.0",
       "_view_name": "StyleView",
       "description_width": ""
      }
     },
     "c048d6afdbaf4b7cb2c270d4b4ab541c": {
      "model_module": "@jupyter-widgets/base",
      "model_module_version": "1.2.0",
      "model_name": "LayoutModel",
      "state": {
       "_model_module": "@jupyter-widgets/base",
       "_model_module_version": "1.2.0",
       "_model_name": "LayoutModel",
       "_view_count": null,
       "_view_module": "@jupyter-widgets/base",
       "_view_module_version": "1.2.0",
       "_view_name": "LayoutView",
       "align_content": null,
       "align_items": null,
       "align_self": null,
       "border": null,
       "bottom": null,
       "display": null,
       "flex": null,
       "flex_flow": null,
       "grid_area": null,
       "grid_auto_columns": null,
       "grid_auto_flow": null,
       "grid_auto_rows": null,
       "grid_column": null,
       "grid_gap": null,
       "grid_row": null,
       "grid_template_areas": null,
       "grid_template_columns": null,
       "grid_template_rows": null,
       "height": null,
       "justify_content": null,
       "justify_items": null,
       "left": null,
       "margin": null,
       "max_height": null,
       "max_width": null,
       "min_height": null,
       "min_width": null,
       "object_fit": null,
       "object_position": null,
       "order": null,
       "overflow": null,
       "overflow_x": null,
       "overflow_y": null,
       "padding": null,
       "right": null,
       "top": null,
       "visibility": null,
       "width": null
      }
     },
     "c18e27fdf16343c3bb686f7c414c0195": {
      "model_module": "@jupyter-widgets/base",
      "model_module_version": "1.2.0",
      "model_name": "LayoutModel",
      "state": {
       "_model_module": "@jupyter-widgets/base",
       "_model_module_version": "1.2.0",
       "_model_name": "LayoutModel",
       "_view_count": null,
       "_view_module": "@jupyter-widgets/base",
       "_view_module_version": "1.2.0",
       "_view_name": "LayoutView",
       "align_content": null,
       "align_items": null,
       "align_self": null,
       "border": null,
       "bottom": null,
       "display": null,
       "flex": null,
       "flex_flow": null,
       "grid_area": null,
       "grid_auto_columns": null,
       "grid_auto_flow": null,
       "grid_auto_rows": null,
       "grid_column": null,
       "grid_gap": null,
       "grid_row": null,
       "grid_template_areas": null,
       "grid_template_columns": null,
       "grid_template_rows": null,
       "height": null,
       "justify_content": null,
       "justify_items": null,
       "left": null,
       "margin": null,
       "max_height": null,
       "max_width": null,
       "min_height": null,
       "min_width": null,
       "object_fit": null,
       "object_position": null,
       "order": null,
       "overflow": null,
       "overflow_x": null,
       "overflow_y": null,
       "padding": null,
       "right": null,
       "top": null,
       "visibility": null,
       "width": null
      }
     },
     "c252dbfdec1c4ceea34606f7e82c2d22": {
      "model_module": "@jupyter-widgets/controls",
      "model_module_version": "1.5.0",
      "model_name": "HTMLModel",
      "state": {
       "_dom_classes": [],
       "_model_module": "@jupyter-widgets/controls",
       "_model_module_version": "1.5.0",
       "_model_name": "HTMLModel",
       "_view_count": null,
       "_view_module": "@jupyter-widgets/controls",
       "_view_module_version": "1.5.0",
       "_view_name": "HTMLView",
       "description": "",
       "description_tooltip": null,
       "layout": "IPY_MODEL_47fd4396f10942d38299a89d5036a767",
       "placeholder": "​",
       "style": "IPY_MODEL_6dec989aa45f4b1ba44f5993849629de",
       "value": " 9079/9079 [00:42&lt;00:00, 215.42it/s]"
      }
     },
     "cc106a7fdcff45ce891f04691f732d8f": {
      "model_module": "@jupyter-widgets/controls",
      "model_module_version": "1.5.0",
      "model_name": "ProgressStyleModel",
      "state": {
       "_model_module": "@jupyter-widgets/controls",
       "_model_module_version": "1.5.0",
       "_model_name": "ProgressStyleModel",
       "_view_count": null,
       "_view_module": "@jupyter-widgets/base",
       "_view_module_version": "1.2.0",
       "_view_name": "StyleView",
       "bar_color": null,
       "description_width": ""
      }
     },
     "ce431739d6994c708704fdf0419b7272": {
      "model_module": "@jupyter-widgets/controls",
      "model_module_version": "1.5.0",
      "model_name": "HTMLModel",
      "state": {
       "_dom_classes": [],
       "_model_module": "@jupyter-widgets/controls",
       "_model_module_version": "1.5.0",
       "_model_name": "HTMLModel",
       "_view_count": null,
       "_view_module": "@jupyter-widgets/controls",
       "_view_module_version": "1.5.0",
       "_view_name": "HTMLView",
       "description": "",
       "description_tooltip": null,
       "layout": "IPY_MODEL_6604ca15568f40ac9b27f9010974ed29",
       "placeholder": "​",
       "style": "IPY_MODEL_fb6745f06025472591bea1ed9eadef20",
       "value": "Evaluate: 100%"
      }
     },
     "d58ad48d029f48c6b0f46e2eb7b44df6": {
      "model_module": "@jupyter-widgets/controls",
      "model_module_version": "1.5.0",
      "model_name": "HTMLModel",
      "state": {
       "_dom_classes": [],
       "_model_module": "@jupyter-widgets/controls",
       "_model_module_version": "1.5.0",
       "_model_name": "HTMLModel",
       "_view_count": null,
       "_view_module": "@jupyter-widgets/controls",
       "_view_module_version": "1.5.0",
       "_view_name": "HTMLView",
       "description": "",
       "description_tooltip": null,
       "layout": "IPY_MODEL_81ffa1ba2b0f455b9ea6e55d8947f93c",
       "placeholder": "​",
       "style": "IPY_MODEL_e649c13247064a44a6ae495b076e67c9",
       "value": " 9079/9079 [00:43&lt;00:00, 210.25it/s]"
      }
     },
     "db357359ac8847709ff16278f2daaa1a": {
      "model_module": "@jupyter-widgets/controls",
      "model_module_version": "1.5.0",
      "model_name": "HTMLModel",
      "state": {
       "_dom_classes": [],
       "_model_module": "@jupyter-widgets/controls",
       "_model_module_version": "1.5.0",
       "_model_name": "HTMLModel",
       "_view_count": null,
       "_view_module": "@jupyter-widgets/controls",
       "_view_module_version": "1.5.0",
       "_view_name": "HTMLView",
       "description": "",
       "description_tooltip": null,
       "layout": "IPY_MODEL_ef0421aedd4c4bd49ca927d3c6dd7f91",
       "placeholder": "​",
       "style": "IPY_MODEL_766fbb2be5cd4bbda9cf74f2e5429e5b",
       "value": " 21183/21183 [08:37&lt;00:00, 41.44it/s, loss=0.0442]"
      }
     },
     "db4eb3a887304d769281713004f503c2": {
      "model_module": "@jupyter-widgets/controls",
      "model_module_version": "1.5.0",
      "model_name": "HTMLModel",
      "state": {
       "_dom_classes": [],
       "_model_module": "@jupyter-widgets/controls",
       "_model_module_version": "1.5.0",
       "_model_name": "HTMLModel",
       "_view_count": null,
       "_view_module": "@jupyter-widgets/controls",
       "_view_module_version": "1.5.0",
       "_view_name": "HTMLView",
       "description": "",
       "description_tooltip": null,
       "layout": "IPY_MODEL_2e2965c2670f47b895db698f221c9348",
       "placeholder": "​",
       "style": "IPY_MODEL_2a3d7c3d3bd645978dab5286fc77d6df",
       "value": " 5/5 [00:00&lt;00:00, 21.72it/s]"
      }
     },
     "dbbce5052e104348a4c1278deaa016ed": {
      "model_module": "@jupyter-widgets/controls",
      "model_module_version": "1.5.0",
      "model_name": "HTMLModel",
      "state": {
       "_dom_classes": [],
       "_model_module": "@jupyter-widgets/controls",
       "_model_module_version": "1.5.0",
       "_model_name": "HTMLModel",
       "_view_count": null,
       "_view_module": "@jupyter-widgets/controls",
       "_view_module_version": "1.5.0",
       "_view_name": "HTMLView",
       "description": "",
       "description_tooltip": null,
       "layout": "IPY_MODEL_622cffa77c1f478dae901ccad26f2c68",
       "placeholder": "​",
       "style": "IPY_MODEL_71799b97721f4e2badb47045e3352b0a",
       "value": " 21183/21183 [08:41&lt;00:00, 40.95it/s, loss=0.106]"
      }
     },
     "e38ea04485a04da1bc92cd98b5cb6059": {
      "model_module": "@jupyter-widgets/controls",
      "model_module_version": "1.5.0",
      "model_name": "DescriptionStyleModel",
      "state": {
       "_model_module": "@jupyter-widgets/controls",
       "_model_module_version": "1.5.0",
       "_model_name": "DescriptionStyleModel",
       "_view_count": null,
       "_view_module": "@jupyter-widgets/base",
       "_view_module_version": "1.2.0",
       "_view_name": "StyleView",
       "description_width": ""
      }
     },
     "e3b3a78093ab482ca7fca0d0fc01f366": {
      "model_module": "@jupyter-widgets/controls",
      "model_module_version": "1.5.0",
      "model_name": "HTMLModel",
      "state": {
       "_dom_classes": [],
       "_model_module": "@jupyter-widgets/controls",
       "_model_module_version": "1.5.0",
       "_model_name": "HTMLModel",
       "_view_count": null,
       "_view_module": "@jupyter-widgets/controls",
       "_view_module_version": "1.5.0",
       "_view_name": "HTMLView",
       "description": "",
       "description_tooltip": null,
       "layout": "IPY_MODEL_13f69efbb8e74f28a0051f536f197d91",
       "placeholder": "​",
       "style": "IPY_MODEL_971f288ab0ff40b6876576f79d446caf",
       "value": "Epoch 3: 100%"
      }
     },
     "e3d7e407c2d84a68ad0cbdca9fe805ff": {
      "model_module": "@jupyter-widgets/base",
      "model_module_version": "1.2.0",
      "model_name": "LayoutModel",
      "state": {
       "_model_module": "@jupyter-widgets/base",
       "_model_module_version": "1.2.0",
       "_model_name": "LayoutModel",
       "_view_count": null,
       "_view_module": "@jupyter-widgets/base",
       "_view_module_version": "1.2.0",
       "_view_name": "LayoutView",
       "align_content": null,
       "align_items": null,
       "align_self": null,
       "border": null,
       "bottom": null,
       "display": null,
       "flex": null,
       "flex_flow": null,
       "grid_area": null,
       "grid_auto_columns": null,
       "grid_auto_flow": null,
       "grid_auto_rows": null,
       "grid_column": null,
       "grid_gap": null,
       "grid_row": null,
       "grid_template_areas": null,
       "grid_template_columns": null,
       "grid_template_rows": null,
       "height": null,
       "justify_content": null,
       "justify_items": null,
       "left": null,
       "margin": null,
       "max_height": null,
       "max_width": null,
       "min_height": null,
       "min_width": null,
       "object_fit": null,
       "object_position": null,
       "order": null,
       "overflow": null,
       "overflow_x": null,
       "overflow_y": null,
       "padding": null,
       "right": null,
       "top": null,
       "visibility": null,
       "width": null
      }
     },
     "e649c13247064a44a6ae495b076e67c9": {
      "model_module": "@jupyter-widgets/controls",
      "model_module_version": "1.5.0",
      "model_name": "DescriptionStyleModel",
      "state": {
       "_model_module": "@jupyter-widgets/controls",
       "_model_module_version": "1.5.0",
       "_model_name": "DescriptionStyleModel",
       "_view_count": null,
       "_view_module": "@jupyter-widgets/base",
       "_view_module_version": "1.2.0",
       "_view_name": "StyleView",
       "description_width": ""
      }
     },
     "e992e6806b494b5db79e263c01df61b0": {
      "model_module": "@jupyter-widgets/controls",
      "model_module_version": "1.5.0",
      "model_name": "HBoxModel",
      "state": {
       "_dom_classes": [],
       "_model_module": "@jupyter-widgets/controls",
       "_model_module_version": "1.5.0",
       "_model_name": "HBoxModel",
       "_view_count": null,
       "_view_module": "@jupyter-widgets/controls",
       "_view_module_version": "1.5.0",
       "_view_name": "HBoxView",
       "box_style": "",
       "children": [
        "IPY_MODEL_2ab83f4a466b4fb9ae90eb3dc7014196",
        "IPY_MODEL_aa04ab55e27349b6b00a59df44a1ba55",
        "IPY_MODEL_48ac68a1078f4e2dbfc8df72aa7c1ca2"
       ],
       "layout": "IPY_MODEL_64ef421cb3ea4c15b123de6817629d69"
      }
     },
     "ed06deda8ed34b6bad02a6a61c79ce04": {
      "model_module": "@jupyter-widgets/controls",
      "model_module_version": "1.5.0",
      "model_name": "HTMLModel",
      "state": {
       "_dom_classes": [],
       "_model_module": "@jupyter-widgets/controls",
       "_model_module_version": "1.5.0",
       "_model_name": "HTMLModel",
       "_view_count": null,
       "_view_module": "@jupyter-widgets/controls",
       "_view_module_version": "1.5.0",
       "_view_name": "HTMLView",
       "description": "",
       "description_tooltip": null,
       "layout": "IPY_MODEL_c048d6afdbaf4b7cb2c270d4b4ab541c",
       "placeholder": "​",
       "style": "IPY_MODEL_ab7fda329e134a2992fd7491609c5ea8",
       "value": "Evaluate: 100%"
      }
     },
     "ef0421aedd4c4bd49ca927d3c6dd7f91": {
      "model_module": "@jupyter-widgets/base",
      "model_module_version": "1.2.0",
      "model_name": "LayoutModel",
      "state": {
       "_model_module": "@jupyter-widgets/base",
       "_model_module_version": "1.2.0",
       "_model_name": "LayoutModel",
       "_view_count": null,
       "_view_module": "@jupyter-widgets/base",
       "_view_module_version": "1.2.0",
       "_view_name": "LayoutView",
       "align_content": null,
       "align_items": null,
       "align_self": null,
       "border": null,
       "bottom": null,
       "display": null,
       "flex": null,
       "flex_flow": null,
       "grid_area": null,
       "grid_auto_columns": null,
       "grid_auto_flow": null,
       "grid_auto_rows": null,
       "grid_column": null,
       "grid_gap": null,
       "grid_row": null,
       "grid_template_areas": null,
       "grid_template_columns": null,
       "grid_template_rows": null,
       "height": null,
       "justify_content": null,
       "justify_items": null,
       "left": null,
       "margin": null,
       "max_height": null,
       "max_width": null,
       "min_height": null,
       "min_width": null,
       "object_fit": null,
       "object_position": null,
       "order": null,
       "overflow": null,
       "overflow_x": null,
       "overflow_y": null,
       "padding": null,
       "right": null,
       "top": null,
       "visibility": null,
       "width": null
      }
     },
     "f10feb95f7334911b856bf0bd2c0ea3c": {
      "model_module": "@jupyter-widgets/controls",
      "model_module_version": "1.5.0",
      "model_name": "HTMLModel",
      "state": {
       "_dom_classes": [],
       "_model_module": "@jupyter-widgets/controls",
       "_model_module_version": "1.5.0",
       "_model_name": "HTMLModel",
       "_view_count": null,
       "_view_module": "@jupyter-widgets/controls",
       "_view_module_version": "1.5.0",
       "_view_name": "HTMLView",
       "description": "",
       "description_tooltip": null,
       "layout": "IPY_MODEL_0148ecd735a84993b8d650ae760aae69",
       "placeholder": "​",
       "style": "IPY_MODEL_0955990ffd254a10a9d2b313e1785be4",
       "value": " 5/5 [00:00&lt;00:00, 13.95it/s]"
      }
     },
     "f282e56b4d5a4252827d9b3a0c75c6f3": {
      "model_module": "@jupyter-widgets/base",
      "model_module_version": "1.2.0",
      "model_name": "LayoutModel",
      "state": {
       "_model_module": "@jupyter-widgets/base",
       "_model_module_version": "1.2.0",
       "_model_name": "LayoutModel",
       "_view_count": null,
       "_view_module": "@jupyter-widgets/base",
       "_view_module_version": "1.2.0",
       "_view_name": "LayoutView",
       "align_content": null,
       "align_items": null,
       "align_self": null,
       "border": null,
       "bottom": null,
       "display": null,
       "flex": null,
       "flex_flow": null,
       "grid_area": null,
       "grid_auto_columns": null,
       "grid_auto_flow": null,
       "grid_auto_rows": null,
       "grid_column": null,
       "grid_gap": null,
       "grid_row": null,
       "grid_template_areas": null,
       "grid_template_columns": null,
       "grid_template_rows": null,
       "height": null,
       "justify_content": null,
       "justify_items": null,
       "left": null,
       "margin": null,
       "max_height": null,
       "max_width": null,
       "min_height": null,
       "min_width": null,
       "object_fit": null,
       "object_position": null,
       "order": null,
       "overflow": null,
       "overflow_x": null,
       "overflow_y": null,
       "padding": null,
       "right": null,
       "top": null,
       "visibility": null,
       "width": null
      }
     },
     "f915ced54c694d55bd624f441271a031": {
      "model_module": "@jupyter-widgets/base",
      "model_module_version": "1.2.0",
      "model_name": "LayoutModel",
      "state": {
       "_model_module": "@jupyter-widgets/base",
       "_model_module_version": "1.2.0",
       "_model_name": "LayoutModel",
       "_view_count": null,
       "_view_module": "@jupyter-widgets/base",
       "_view_module_version": "1.2.0",
       "_view_name": "LayoutView",
       "align_content": null,
       "align_items": null,
       "align_self": null,
       "border": null,
       "bottom": null,
       "display": null,
       "flex": null,
       "flex_flow": null,
       "grid_area": null,
       "grid_auto_columns": null,
       "grid_auto_flow": null,
       "grid_auto_rows": null,
       "grid_column": null,
       "grid_gap": null,
       "grid_row": null,
       "grid_template_areas": null,
       "grid_template_columns": null,
       "grid_template_rows": null,
       "height": null,
       "justify_content": null,
       "justify_items": null,
       "left": null,
       "margin": null,
       "max_height": null,
       "max_width": null,
       "min_height": null,
       "min_width": null,
       "object_fit": null,
       "object_position": null,
       "order": null,
       "overflow": null,
       "overflow_x": null,
       "overflow_y": null,
       "padding": null,
       "right": null,
       "top": null,
       "visibility": null,
       "width": null
      }
     },
     "fa2daed0f954401b843a45472052ae69": {
      "model_module": "@jupyter-widgets/controls",
      "model_module_version": "1.5.0",
      "model_name": "DescriptionStyleModel",
      "state": {
       "_model_module": "@jupyter-widgets/controls",
       "_model_module_version": "1.5.0",
       "_model_name": "DescriptionStyleModel",
       "_view_count": null,
       "_view_module": "@jupyter-widgets/base",
       "_view_module_version": "1.2.0",
       "_view_name": "StyleView",
       "description_width": ""
      }
     },
     "fb6745f06025472591bea1ed9eadef20": {
      "model_module": "@jupyter-widgets/controls",
      "model_module_version": "1.5.0",
      "model_name": "DescriptionStyleModel",
      "state": {
       "_model_module": "@jupyter-widgets/controls",
       "_model_module_version": "1.5.0",
       "_model_name": "DescriptionStyleModel",
       "_view_count": null,
       "_view_module": "@jupyter-widgets/base",
       "_view_module_version": "1.2.0",
       "_view_name": "StyleView",
       "description_width": ""
      }
     },
     "fc8917b05b0b47c197b9f2ab2e94bf5c": {
      "model_module": "@jupyter-widgets/controls",
      "model_module_version": "1.5.0",
      "model_name": "ProgressStyleModel",
      "state": {
       "_model_module": "@jupyter-widgets/controls",
       "_model_module_version": "1.5.0",
       "_model_name": "ProgressStyleModel",
       "_view_count": null,
       "_view_module": "@jupyter-widgets/base",
       "_view_module_version": "1.2.0",
       "_view_name": "StyleView",
       "bar_color": null,
       "description_width": ""
      }
     },
     "fc93ac7bdb674e1c9d53ed6230d1a53e": {
      "model_module": "@jupyter-widgets/base",
      "model_module_version": "1.2.0",
      "model_name": "LayoutModel",
      "state": {
       "_model_module": "@jupyter-widgets/base",
       "_model_module_version": "1.2.0",
       "_model_name": "LayoutModel",
       "_view_count": null,
       "_view_module": "@jupyter-widgets/base",
       "_view_module_version": "1.2.0",
       "_view_name": "LayoutView",
       "align_content": null,
       "align_items": null,
       "align_self": null,
       "border": null,
       "bottom": null,
       "display": null,
       "flex": null,
       "flex_flow": null,
       "grid_area": null,
       "grid_auto_columns": null,
       "grid_auto_flow": null,
       "grid_auto_rows": null,
       "grid_column": null,
       "grid_gap": null,
       "grid_row": null,
       "grid_template_areas": null,
       "grid_template_columns": null,
       "grid_template_rows": null,
       "height": null,
       "justify_content": null,
       "justify_items": null,
       "left": null,
       "margin": null,
       "max_height": null,
       "max_width": null,
       "min_height": null,
       "min_width": null,
       "object_fit": null,
       "object_position": null,
       "order": null,
       "overflow": null,
       "overflow_x": null,
       "overflow_y": null,
       "padding": null,
       "right": null,
       "top": null,
       "visibility": null,
       "width": null
      }
     },
     "ff60fc7badbf4222964924c57be194b1": {
      "model_module": "@jupyter-widgets/controls",
      "model_module_version": "1.5.0",
      "model_name": "HTMLModel",
      "state": {
       "_dom_classes": [],
       "_model_module": "@jupyter-widgets/controls",
       "_model_module_version": "1.5.0",
       "_model_name": "HTMLModel",
       "_view_count": null,
       "_view_module": "@jupyter-widgets/controls",
       "_view_module_version": "1.5.0",
       "_view_name": "HTMLView",
       "description": "",
       "description_tooltip": null,
       "layout": "IPY_MODEL_a424ae4526d144ae87b50d8754031250",
       "placeholder": "​",
       "style": "IPY_MODEL_e38ea04485a04da1bc92cd98b5cb6059",
       "value": "Epoch 2: 100%"
      }
     }
    },
    "version_major": 2,
    "version_minor": 0
   }
  }
 },
 "nbformat": 4,
 "nbformat_minor": 5
}
