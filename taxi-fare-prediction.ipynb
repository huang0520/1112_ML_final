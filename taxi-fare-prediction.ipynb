{
 "cells": [
  {
   "cell_type": "markdown",
   "id": "efefaf59",
   "metadata": {
    "papermill": {
     "duration": 0.01371,
     "end_time": "2023-05-27T03:41:20.743783",
     "exception": false,
     "start_time": "2023-05-27T03:41:20.730073",
     "status": "completed"
    },
    "tags": []
   },
   "source": [
    "# Install"
   ]
  },
  {
   "cell_type": "markdown",
   "id": "79c6ba9d",
   "metadata": {
    "execution": {
     "iopub.execute_input": "2023-05-27T03:23:06.651603Z",
     "iopub.status.busy": "2023-05-27T03:23:06.651253Z",
     "iopub.status.idle": "2023-05-27T03:23:06.659295Z",
     "shell.execute_reply": "2023-05-27T03:23:06.657874Z",
     "shell.execute_reply.started": "2023-05-27T03:23:06.651575Z"
    },
    "papermill": {
     "duration": 0.01298,
     "end_time": "2023-05-27T03:41:20.769909",
     "exception": false,
     "start_time": "2023-05-27T03:41:20.756929",
     "status": "completed"
    },
    "tags": []
   },
   "source": [
    "# pip install torch==1.13.1+cu116 torchvision==0.14.1+cu116 torchaudio==0.13.1 --extra-index-url https://download.pytorch.org/whl/cu116"
   ]
  },
  {
   "cell_type": "markdown",
   "id": "7cff350b",
   "metadata": {
    "papermill": {
     "duration": 0.012965,
     "end_time": "2023-05-27T03:41:20.795935",
     "exception": false,
     "start_time": "2023-05-27T03:41:20.782970",
     "status": "completed"
    },
    "tags": []
   },
   "source": [
    "# pip install rtdl"
   ]
  },
  {
   "cell_type": "code",
   "execution_count": 1,
   "id": "57e28bc0",
   "metadata": {
    "execution": {
     "iopub.execute_input": "2023-05-27T03:41:20.823941Z",
     "iopub.status.busy": "2023-05-27T03:41:20.823176Z",
     "iopub.status.idle": "2023-05-27T03:41:28.847505Z",
     "shell.execute_reply": "2023-05-27T03:41:28.846427Z"
    },
    "papermill": {
     "duration": 8.040971,
     "end_time": "2023-05-27T03:41:28.849904",
     "exception": false,
     "start_time": "2023-05-27T03:41:20.808933",
     "status": "completed"
    },
    "tags": []
   },
   "outputs": [
    {
     "name": "stderr",
     "output_type": "stream",
     "text": [
      "/opt/conda/lib/python3.10/site-packages/scipy/__init__.py:146: UserWarning: A NumPy version >=1.16.5 and <1.23.0 is required for this version of SciPy (detected version 1.23.5\n",
      "  warnings.warn(f\"A NumPy version >={np_minversion} and <{np_maxversion}\"\n"
     ]
    }
   ],
   "source": [
    "import pandas as pd\n",
    "import numpy as np\n",
    "import matplotlib.pyplot as plt\n",
    "import seaborn as sns\n",
    "import sklearn\n",
    "import sklearn.model_selection\n",
    "from sklearn.preprocessing import LabelEncoder, StandardScaler\n",
    "import torch\n",
    "import torch.nn as nn\n",
    "import torch.nn.functional as F\n",
    "from torch.utils.data import Dataset, DataLoader\n",
    "from torch.utils.dlpack import to_dlpack, from_dlpack\n",
    "# import rtdl\n",
    "import urllib\n",
    "import PIL\n",
    "import requests\n",
    "import datetime\n",
    "import holidays\n",
    "import os\n",
    "import gc\n",
    "import cudf as cf\n",
    "import cupy as cp\n",
    "from tqdm import tqdm"
   ]
  },
  {
   "cell_type": "code",
   "execution_count": 2,
   "id": "672306f4",
   "metadata": {
    "execution": {
     "iopub.execute_input": "2023-05-27T03:41:28.878975Z",
     "iopub.status.busy": "2023-05-27T03:41:28.878442Z",
     "iopub.status.idle": "2023-05-27T03:41:28.885617Z",
     "shell.execute_reply": "2023-05-27T03:41:28.884699Z"
    },
    "papermill": {
     "duration": 0.023629,
     "end_time": "2023-05-27T03:41:28.887711",
     "exception": false,
     "start_time": "2023-05-27T03:41:28.864082",
     "status": "completed"
    },
    "tags": []
   },
   "outputs": [],
   "source": [
    "device = torch.device(\"cuda\" if torch.cuda.is_available() else \"cpu\")\n",
    "# device = torch.device(\"cpu\")"
   ]
  },
  {
   "cell_type": "markdown",
   "id": "cf34acc6",
   "metadata": {
    "papermill": {
     "duration": 0.01343,
     "end_time": "2023-05-27T03:41:28.914722",
     "exception": false,
     "start_time": "2023-05-27T03:41:28.901292",
     "status": "completed"
    },
    "tags": []
   },
   "source": [
    "# Data Preprocess"
   ]
  },
  {
   "cell_type": "markdown",
   "id": "0cfbb5f9",
   "metadata": {
    "papermill": {
     "duration": 0.012849,
     "end_time": "2023-05-27T03:41:28.940902",
     "exception": false,
     "start_time": "2023-05-27T03:41:28.928053",
     "status": "completed"
    },
    "tags": []
   },
   "source": [
    "## Remove data outside of boundary"
   ]
  },
  {
   "cell_type": "code",
   "execution_count": 3,
   "id": "0412c000",
   "metadata": {
    "execution": {
     "iopub.execute_input": "2023-05-27T03:41:28.969171Z",
     "iopub.status.busy": "2023-05-27T03:41:28.968438Z",
     "iopub.status.idle": "2023-05-27T03:41:28.975968Z",
     "shell.execute_reply": "2023-05-27T03:41:28.975137Z"
    },
    "papermill": {
     "duration": 0.023651,
     "end_time": "2023-05-27T03:41:28.977898",
     "exception": false,
     "start_time": "2023-05-27T03:41:28.954247",
     "status": "completed"
    },
    "tags": []
   },
   "outputs": [],
   "source": [
    "def select_within_boundary(df, boundary) -> bool:\n",
    "    return (\n",
    "        (df[\"pickup_longitude\"] >= boundary[\"longitude_min\"])\n",
    "        & (df[\"pickup_longitude\"] <= boundary[\"longitude_max\"])\n",
    "        & (df[\"pickup_latitude\"] >= boundary[\"latitude_min\"])\n",
    "        & (df[\"pickup_latitude\"] <= boundary[\"latitude_max\"])\n",
    "        & (df[\"dropoff_longitude\"] >= boundary[\"longitude_min\"])\n",
    "        & (df[\"dropoff_longitude\"] <= boundary[\"longitude_max\"])\n",
    "        & (df[\"dropoff_latitude\"] >= boundary[\"latitude_min\"])\n",
    "        & (df[\"dropoff_latitude\"] <= boundary[\"latitude_max\"])\n",
    "    )\n",
    "\n",
    "\n",
    "def select_in_boundary(df: cf.DataFrame) -> cf.DataFrame:\n",
    "    boundary = {\n",
    "        \"longitude_min\": -74.5,\n",
    "        \"longitude_max\": -72.8,\n",
    "        \"latitude_min\": 40.5,\n",
    "        \"latitude_max\": 41.8,\n",
    "    }\n",
    "\n",
    "    return df[select_within_boundary(df, boundary)]"
   ]
  },
  {
   "cell_type": "markdown",
   "id": "02ba0549",
   "metadata": {
    "papermill": {
     "duration": 0.013175,
     "end_time": "2023-05-27T03:41:29.004346",
     "exception": false,
     "start_time": "2023-05-27T03:41:28.991171",
     "status": "completed"
    },
    "tags": []
   },
   "source": [
    "## Drop data on water"
   ]
  },
  {
   "cell_type": "code",
   "execution_count": 4,
   "id": "e5726727",
   "metadata": {
    "execution": {
     "iopub.execute_input": "2023-05-27T03:41:29.032203Z",
     "iopub.status.busy": "2023-05-27T03:41:29.031467Z",
     "iopub.status.idle": "2023-05-27T03:41:34.425796Z",
     "shell.execute_reply": "2023-05-27T03:41:34.424728Z"
    },
    "papermill": {
     "duration": 5.411143,
     "end_time": "2023-05-27T03:41:34.428514",
     "exception": false,
     "start_time": "2023-05-27T03:41:29.017371",
     "status": "completed"
    },
    "tags": []
   },
   "outputs": [],
   "source": [
    "mask_url = urllib.request.urlopen(\"https://imgur.com/XGHkdoK.png\")\n",
    "mask = np.array(PIL.Image.open(mask_url))[:, :, 0] > 0.92\n",
    "\n",
    "mask = np.c_[mask, np.full([mask.shape[0], 1], False)]\n",
    "mask = np.r_[mask, np.full([1, mask.shape[1]], False)]\n",
    "mask = cp.asarray(mask)\n",
    "\n",
    "\n",
    "def drop_on_water(df: cf.DataFrame) -> cf.DataFrame:\n",
    "    def lonlat_to_xy(longitude, latitude, x_range, y_range, boundary):\n",
    "        longitude_range = boundary[\"longitude_max\"] - boundary[\"longitude_min\"]\n",
    "        latitude_range = boundary[\"latitude_max\"] - boundary[\"latitude_min\"]\n",
    "\n",
    "        x = x_range * (longitude - boundary[\"longitude_min\"]) / longitude_range\n",
    "        y = (\n",
    "            y_range\n",
    "            - y_range * (latitude - boundary[\"latitude_min\"]) / latitude_range\n",
    "        )\n",
    "\n",
    "        return (x.astype(\"uint8\"), y.astype(\"uint8\"))\n",
    "\n",
    "    boundary = {\n",
    "        \"longitude_min\": -74.5,\n",
    "        \"longitude_max\": -72.8,\n",
    "        \"latitude_min\": 40.5,\n",
    "        \"latitude_max\": 41.8,\n",
    "    }\n",
    "\n",
    "    pickup_x, pickup_y = lonlat_to_xy(\n",
    "        df.loc[:, \"pickup_longitude\"],\n",
    "        df.loc[:, \"pickup_latitude\"],\n",
    "        mask.shape[1] - 1,\n",
    "        mask.shape[0] - 1,\n",
    "        boundary,\n",
    "    )\n",
    "\n",
    "    dropoff_x, dropoff_y = lonlat_to_xy(\n",
    "        df.loc[:, \"dropoff_longitude\"],\n",
    "        df.loc[:, \"dropoff_latitude\"],\n",
    "        mask.shape[1] - 1,\n",
    "        mask.shape[0] - 1,\n",
    "        boundary,\n",
    "    )\n",
    "\n",
    "    on_land = mask[pickup_y, pickup_x] & mask[dropoff_y, dropoff_x]\n",
    "    return df[on_land]"
   ]
  },
  {
   "cell_type": "code",
   "execution_count": 5,
   "id": "4dc5d1a7",
   "metadata": {
    "execution": {
     "iopub.execute_input": "2023-05-27T03:41:34.457593Z",
     "iopub.status.busy": "2023-05-27T03:41:34.457289Z",
     "iopub.status.idle": "2023-05-27T03:41:34.462017Z",
     "shell.execute_reply": "2023-05-27T03:41:34.461088Z"
    },
    "papermill": {
     "duration": 0.021279,
     "end_time": "2023-05-27T03:41:34.463929",
     "exception": false,
     "start_time": "2023-05-27T03:41:34.442650",
     "status": "completed"
    },
    "tags": []
   },
   "outputs": [],
   "source": [
    "def drop_same_pick_drop(df: cf.DataFrame):\n",
    "    filter = (df[\"pickup_longitude\"] == df[\"dropoff_longitude\"]) & (\n",
    "        df[\"pickup_latitude\"] == df[\"dropoff_latitude\"]\n",
    "    )\n",
    "\n",
    "    return df[~filter]\n"
   ]
  },
  {
   "cell_type": "markdown",
   "id": "43ca2278",
   "metadata": {
    "papermill": {
     "duration": 0.013059,
     "end_time": "2023-05-27T03:41:34.490146",
     "exception": false,
     "start_time": "2023-05-27T03:41:34.477087",
     "status": "completed"
    },
    "tags": []
   },
   "source": [
    "## Feature engineering"
   ]
  },
  {
   "cell_type": "code",
   "execution_count": 6,
   "id": "c452c457",
   "metadata": {
    "execution": {
     "iopub.execute_input": "2023-05-27T03:41:34.518178Z",
     "iopub.status.busy": "2023-05-27T03:41:34.517349Z",
     "iopub.status.idle": "2023-05-27T03:41:34.530243Z",
     "shell.execute_reply": "2023-05-27T03:41:34.529342Z"
    },
    "papermill": {
     "duration": 0.029047,
     "end_time": "2023-05-27T03:41:34.532286",
     "exception": false,
     "start_time": "2023-05-27T03:41:34.503239",
     "status": "completed"
    },
    "tags": []
   },
   "outputs": [],
   "source": [
    "def get_lat_lon(df: cf.DataFrame, unit=\"deg\"):\n",
    "    # Return lat, lon in radian\n",
    "    lat1 = df[\"pickup_latitude\"].copy().to_cupy()\n",
    "    lon1 = df[\"pickup_longitude\"].copy().to_cupy()\n",
    "    lat2 = df[\"dropoff_latitude\"].copy().to_cupy()\n",
    "    lon2 = df[\"dropoff_longitude\"].copy().to_cupy()\n",
    "\n",
    "    if unit == \"rad\":\n",
    "        lat1, lon1, lat2, lon2 = map(cp.radians, [lat1, lon1, lat2, lon2])\n",
    "\n",
    "    # 1 degree of latitude = 69.172 miles, 1 degree of longitude = 50 miles\n",
    "    if unit == \"mile\":\n",
    "        lat1 *= 69.172\n",
    "        lon1 *= 50\n",
    "        lat2 *= 69.172\n",
    "        lon2 *= 50\n",
    "\n",
    "    return lat1, lon1, lat2, lon2\n",
    "\n",
    "\n",
    "def cal_rotated_coordinate(lat1, lon1, lat2, lon2) -> cp.ndarray:\n",
    "    lat1, lon1, lat2, lon2 = map(\n",
    "        lambda x: torch.as_tensor(x).to(device), [lat1, lon1, lat2, lon2]\n",
    "    )\n",
    "    p1 = torch.column_stack([lat1, lon1])\n",
    "    p2 = torch.column_stack([lat2, lon2])\n",
    "    \n",
    "    theta = -np.radians(29).astype(\"float32\")\n",
    "\n",
    "    rot = torch.tensor(\n",
    "        [[np.cos(theta), np.sin(theta)], [-np.sin(theta), np.cos(theta)]]\n",
    "    ).to(device)\n",
    "\n",
    "    # Perform rotate row by row and split\n",
    "    lat1, lon1 = torch.hsplit(torch.einsum(\"ij, mj -> mi\", rot, p1), 2)\n",
    "    lat2, lon2 = torch.hsplit(torch.einsum(\"ij, mj -> mi\", rot, p2), 2)\n",
    "    lat1, lon1, lat2, lon2 = map(\n",
    "        lambda x: cp.asarray(x.squeeze(1)),\n",
    "        [lat1, lon1, lat2, lon2],\n",
    "    )\n",
    "    \n",
    "    return lat1, lon1, lat2, lon2\n",
    "\n",
    "\n",
    "def get_rotated_coordinate(df: pd.DataFrame):\n",
    "    lat1, lon1, lat2, lon2 = get_lat_lon(df, \"deg\")\n",
    "    header = [\n",
    "        \"rotated_pickup_latitude\",\n",
    "        \"rotated_pickup_longitude\",\n",
    "        \"rotated_dropoff_latitude\",\n",
    "        \"rotated_dropoff_longitude\",\n",
    "    ]\n",
    "    \n",
    "    coordinates = cal_rotated_coordinate(lat1, lon1, lat2, lon2)\n",
    "\n",
    "    for head, coordinate in zip(header, coordinates):\n",
    "        df.loc[:, head] = coordinate\n",
    "\n",
    "    return df"
   ]
  },
  {
   "cell_type": "markdown",
   "id": "d61cd37f",
   "metadata": {
    "papermill": {
     "duration": 0.012869,
     "end_time": "2023-05-27T03:41:34.558448",
     "exception": false,
     "start_time": "2023-05-27T03:41:34.545579",
     "status": "completed"
    },
    "tags": []
   },
   "source": [
    "### Add distance (in miles)"
   ]
  },
  {
   "cell_type": "markdown",
   "id": "cbb72e82",
   "metadata": {
    "papermill": {
     "duration": 0.013262,
     "end_time": "2023-05-27T03:41:34.584697",
     "exception": false,
     "start_time": "2023-05-27T03:41:34.571435",
     "status": "completed"
    },
    "tags": []
   },
   "source": [
    "Using Manhattan distance and rotate 29 degree to fit the real street block"
   ]
  },
  {
   "cell_type": "code",
   "execution_count": 7,
   "id": "c83acf5a",
   "metadata": {
    "execution": {
     "iopub.execute_input": "2023-05-27T03:41:34.611985Z",
     "iopub.status.busy": "2023-05-27T03:41:34.611712Z",
     "iopub.status.idle": "2023-05-27T03:41:34.620793Z",
     "shell.execute_reply": "2023-05-27T03:41:34.619896Z"
    },
    "papermill": {
     "duration": 0.024998,
     "end_time": "2023-05-27T03:41:34.622899",
     "exception": false,
     "start_time": "2023-05-27T03:41:34.597901",
     "status": "completed"
    },
    "tags": []
   },
   "outputs": [],
   "source": [
    "def get_euclidean(df: cf.DataFrame):\n",
    "    lat1, lon1, lat2, lon2 = get_lat_lon(df, \"mile\")\n",
    "    return cp.linalg.norm(\n",
    "        cp.column_stack([lat1, lon1]) - cp.column_stack([lat2, lon2]), axis=1\n",
    "    )\n",
    "\n",
    "\n",
    "def cal_haversine_distance(lat1, lon1, lat2, lon2):\n",
    "    dlat = lat1 - lat2\n",
    "    dlon = lon1 - lon2\n",
    "\n",
    "    tmp = (\n",
    "        cp.sin(dlat / 2.0) ** 2\n",
    "        + cp.cos(lat1) * cp.cos(lat2) * cp.sin(dlon / 2.0) ** 2\n",
    "    )\n",
    "\n",
    "    return 2 * cp.arcsin(cp.sqrt(tmp))\n",
    "\n",
    "\n",
    "def get_haversine_distance(df: cf.DataFrame):\n",
    "    # Return haversine distance in miles\n",
    "    lat1, lon1, lat2, lon2 = get_lat_lon(df, \"rad\")\n",
    "    return cal_haversine_distance(lat1, lon1, lat2, lon2) * 3959\n",
    "\n",
    "\n",
    "def get_correct_manhattan(df: cf.DataFrame):\n",
    "    lat1, lon1, lat2, lon2 = get_lat_lon(df, \"mile\")\n",
    "    lat1, lon1, lat2, lon2 = cal_rotated_coordinate(lat1, lon1, lat2, lon2)\n",
    "\n",
    "    dlat = abs(lat1 - lat2)\n",
    "    dlon = abs(lon1 - lon2)\n",
    "\n",
    "    return (dlat + dlon).ravel()\n"
   ]
  },
  {
   "cell_type": "markdown",
   "id": "0a35bcc2",
   "metadata": {
    "papermill": {
     "duration": 0.012846,
     "end_time": "2023-05-27T03:41:34.648956",
     "exception": false,
     "start_time": "2023-05-27T03:41:34.636110",
     "status": "completed"
    },
    "tags": []
   },
   "source": [
    "### Add temperature and precipitation "
   ]
  },
  {
   "cell_type": "code",
   "execution_count": 8,
   "id": "0c7f984a",
   "metadata": {
    "execution": {
     "iopub.execute_input": "2023-05-27T03:41:34.676261Z",
     "iopub.status.busy": "2023-05-27T03:41:34.676004Z",
     "iopub.status.idle": "2023-05-27T03:41:37.211538Z",
     "shell.execute_reply": "2023-05-27T03:41:37.210555Z"
    },
    "papermill": {
     "duration": 2.55206,
     "end_time": "2023-05-27T03:41:37.214077",
     "exception": false,
     "start_time": "2023-05-27T03:41:34.662017",
     "status": "completed"
    },
    "tags": []
   },
   "outputs": [],
   "source": [
    "def get_historical_temp_precipitation():\n",
    "    url = f\"https://archive-api.open-meteo.com/v1/archive?latitude=40.71&longitude=-74.01&start_date=2009-01-01&end_date=2015-12-31&hourly=apparent_temperature,precipitation\"\n",
    "    response = requests.get(url)\n",
    "    data = response.json()\n",
    "\n",
    "    df_tmp = cf.DataFrame(data[\"hourly\"])\n",
    "    df_tmp[\"time\"] = cf.to_datetime(df_tmp[\"time\"])\n",
    "\n",
    "    return df_tmp.set_index(\"time\").to_dict()\n",
    "\n",
    "\n",
    "def convert_time(x: pd.Series) -> pd.Series:\n",
    "    year = x.dt.year.rename(\"year\")\n",
    "    month = x.dt.month.rename(\"month\").astype(\"uint8\")\n",
    "    day = x.dt.day.rename(\"day\").astype(\"uint8\")\n",
    "    hour = x.dt.hour.rename(\"hour\").astype(\"uint8\")\n",
    "    \n",
    "    df_date = cf.concat([year, month, day, hour], axis=1)\n",
    "\n",
    "    return cf.to_datetime(df_date)\n",
    "\n",
    "\n",
    "def add_temp_precipitation(df: pd.DataFrame):\n",
    "    date_time = convert_time(df[\"pickup_datetime\"])\n",
    "    df.loc[:,\"apparent_temperature\"] = date_time.map(\n",
    "        temp_dict[\"apparent_temperature\"]).astype(\"float32\")\n",
    "    df.loc[:, \"precipitation\"] = date_time.map(\n",
    "        temp_dict[\"precipitation\"]).astype(\"float32\")\n",
    "\n",
    "    return df\n",
    "\n",
    "\n",
    "temp_dict = get_historical_temp_precipitation()\n"
   ]
  },
  {
   "cell_type": "markdown",
   "id": "769190bb",
   "metadata": {
    "papermill": {
     "duration": 0.012906,
     "end_time": "2023-05-27T03:41:37.241283",
     "exception": false,
     "start_time": "2023-05-27T03:41:37.228377",
     "status": "completed"
    },
    "tags": []
   },
   "source": [
    "## Split time and add holiday"
   ]
  },
  {
   "cell_type": "code",
   "execution_count": 9,
   "id": "a1d3790c",
   "metadata": {
    "execution": {
     "iopub.execute_input": "2023-05-27T03:41:37.269085Z",
     "iopub.status.busy": "2023-05-27T03:41:37.268793Z",
     "iopub.status.idle": "2023-05-27T03:41:37.274864Z",
     "shell.execute_reply": "2023-05-27T03:41:37.273885Z"
    },
    "papermill": {
     "duration": 0.022452,
     "end_time": "2023-05-27T03:41:37.276895",
     "exception": false,
     "start_time": "2023-05-27T03:41:37.254443",
     "status": "completed"
    },
    "tags": []
   },
   "outputs": [],
   "source": [
    "# add time information\n",
    "def add_time_and_holiday_info(df: cf.DataFrame) -> cf.DataFrame:\n",
    "    # Add time information\n",
    "    df.loc[:, \"year\"] = df.pickup_datetime.dt.year\n",
    "    df.loc[:, \"weekday\"] = df.pickup_datetime.dt.weekday.astype(\"uint8\")\n",
    "    df.loc[:, \"hour\"] = df.pickup_datetime.dt.hour.astype(\"uint8\")\n",
    "\n",
    "    # Add holiday information\n",
    "    us_holidays = holidays.US()\n",
    "    df.loc[:, \"is_holiday\"] = convert_time(df[\"pickup_datetime\"]).isin(us_holidays).astype(\n",
    "        \"uint8\"\n",
    "    )\n",
    "\n",
    "    return df\n"
   ]
  },
  {
   "cell_type": "markdown",
   "id": "65e7e398",
   "metadata": {
    "papermill": {
     "duration": 0.013922,
     "end_time": "2023-05-27T03:41:37.303748",
     "exception": false,
     "start_time": "2023-05-27T03:41:37.289826",
     "status": "completed"
    },
    "tags": []
   },
   "source": [
    "### Add pick_up/ drop_off airport feature"
   ]
  },
  {
   "cell_type": "code",
   "execution_count": 10,
   "id": "1bc93e7e",
   "metadata": {
    "execution": {
     "iopub.execute_input": "2023-05-27T03:41:37.331584Z",
     "iopub.status.busy": "2023-05-27T03:41:37.330860Z",
     "iopub.status.idle": "2023-05-27T03:41:37.340520Z",
     "shell.execute_reply": "2023-05-27T03:41:37.339711Z"
    },
    "papermill": {
     "duration": 0.025594,
     "end_time": "2023-05-27T03:41:37.342506",
     "exception": false,
     "start_time": "2023-05-27T03:41:37.316912",
     "status": "completed"
    },
    "tags": []
   },
   "outputs": [],
   "source": [
    "def check_nearby_airports(df, range=1):\n",
    "    # Check the pickup and dropoff is near the airport (range in miles)\n",
    "    # New York city\n",
    "    nyc = (-74.0063889, 40.7141667)\n",
    "\n",
    "    # JFK airport coordinates, see https://www.travelmath.com/airport/JFK\n",
    "    jfk = (-73.7822222222, 40.6441666667)\n",
    "\n",
    "    # Newark Liberty International Airport, see https://www.travelmath.com/airport/EWR\n",
    "    ewr = (-74.175, 40.69)\n",
    "\n",
    "    # LaGuardia Airport, see https://www.travelmath.com/airport/LGA\n",
    "    lgr = (-73.87, 40.77)\n",
    "\n",
    "    airports = {\"JFK\": jfk, \"EWR\": ewr, \"LGR\": lgr}\n",
    "\n",
    "    # Add airport_nearby column\n",
    "    near_pickup = cp.zeros(len(df))\n",
    "    near_dropoff = cp.zeros(len(df))\n",
    "\n",
    "    for airport, loc in airports.items():\n",
    "        idx_pickup = (\n",
    "            cal_haversine_distance(\n",
    "                df[\"pickup_latitude\"], df[\"pickup_longitude\"], loc[1], loc[0]\n",
    "            )\n",
    "            * 3959\n",
    "            < range\n",
    "        )\n",
    "        idx_dropoff = (\n",
    "            cal_haversine_distance(\n",
    "                df[\"dropoff_latitude\"], df[\"dropoff_longitude\"], loc[1], loc[0]\n",
    "            )\n",
    "            * 3959\n",
    "            < range\n",
    "        )\n",
    "\n",
    "        if airport == \"JFK\":\n",
    "            near_pickup[idx_pickup] = 1\n",
    "            near_dropoff[idx_dropoff] = 1\n",
    "        elif airport == \"EWR\":\n",
    "            near_pickup[idx_pickup] = 2\n",
    "            near_dropoff[idx_dropoff] = 2\n",
    "        elif airport == \"LGR\":\n",
    "            near_pickup[idx_pickup] = 3\n",
    "            near_dropoff[idx_dropoff] = 3\n",
    "\n",
    "    df[\"airport_nearby_pickup\"] = near_pickup.astype(\"uint8\")\n",
    "    df[\"airport_nearby_dropoff\"] = near_dropoff.astype(\"uint8\")\n",
    "\n",
    "    return df"
   ]
  },
  {
   "cell_type": "markdown",
   "id": "b7ec363c",
   "metadata": {
    "papermill": {
     "duration": 0.013077,
     "end_time": "2023-05-27T03:41:37.368713",
     "exception": false,
     "start_time": "2023-05-27T03:41:37.355636",
     "status": "completed"
    },
    "tags": []
   },
   "source": [
    "# All Preprocess"
   ]
  },
  {
   "cell_type": "code",
   "execution_count": 11,
   "id": "bc555ade",
   "metadata": {
    "execution": {
     "iopub.execute_input": "2023-05-27T03:41:37.396260Z",
     "iopub.status.busy": "2023-05-27T03:41:37.395510Z",
     "iopub.status.idle": "2023-05-27T03:41:37.405581Z",
     "shell.execute_reply": "2023-05-27T03:41:37.404595Z"
    },
    "papermill": {
     "duration": 0.025823,
     "end_time": "2023-05-27T03:41:37.407393",
     "exception": false,
     "start_time": "2023-05-27T03:41:37.381570",
     "status": "completed"
    },
    "tags": []
   },
   "outputs": [],
   "source": [
    "def date_format(df: cf.DataFrame) -> cf.DataFrame:\n",
    "    df = df.copy()\n",
    "    date_time = df[\"pickup_datetime\"].copy()\n",
    "\n",
    "    date_time = date_time.str.slice(0, 16)\n",
    "    date_time = cf.to_datetime(date_time, utc=True, format=\"%Y-%m-%d %H:%M\")\n",
    "\n",
    "    df[\"pickup_datetime\"] = date_time\n",
    "    return df\n",
    "\n",
    "\n",
    "def clean_data(df: cf.DataFrame) -> cf.DataFrame:\n",
    "    df = df.copy()\n",
    "    # Drop negative fare amount\n",
    "    df = df[df.fare_amount > 0]\n",
    "    # Drop nan value\n",
    "    df = df.dropna()\n",
    "    # Drop data out of boundary\n",
    "    df = select_in_boundary(df)\n",
    "    # Drop data on water\n",
    "    df = drop_on_water(df)\n",
    "    # Drop same pickup and dropoff data\n",
    "    df = drop_same_pick_drop(df)\n",
    "    df = df.reset_index(drop=True)\n",
    "    return df\n",
    "\n",
    "\n",
    "def engineering(df: cf.DataFrame):\n",
    "    df = df.copy()\n",
    "    # Add rotate coordinate\n",
    "    df = get_rotated_coordinate(df)\n",
    "    print(1)\n",
    "    # Add distance\n",
    "    df.loc[:, \"euclidean\"] = get_euclidean(df)\n",
    "    print(2)\n",
    "    df.loc[:, \"haversine\"] = get_haversine_distance(df)\n",
    "    print(3)\n",
    "    df.loc[:, \"correct_manhattan\"] = get_correct_manhattan(df)\n",
    "    print(4)\n",
    "    # Add Temp and precipitation\n",
    "    df = add_temp_precipitation(df)\n",
    "    print(5)\n",
    "    # Split time and add holiday\n",
    "    df = add_time_and_holiday_info(df)\n",
    "    print(6)\n",
    "    # Add pickup/dropoff airport\n",
    "    df = check_nearby_airports(df)\n",
    "    print(7)\n",
    "\n",
    "    return df\n"
   ]
  },
  {
   "cell_type": "code",
   "execution_count": 12,
   "id": "f8d6ab10",
   "metadata": {
    "execution": {
     "iopub.execute_input": "2023-05-27T03:41:37.434755Z",
     "iopub.status.busy": "2023-05-27T03:41:37.434375Z",
     "iopub.status.idle": "2023-05-27T03:41:37.438385Z",
     "shell.execute_reply": "2023-05-27T03:41:37.437465Z"
    },
    "papermill": {
     "duration": 0.019941,
     "end_time": "2023-05-27T03:41:37.440340",
     "exception": false,
     "start_time": "2023-05-27T03:41:37.420399",
     "status": "completed"
    },
    "tags": []
   },
   "outputs": [],
   "source": [
    "# train_type = {\n",
    "#     \"fare_amount\": \"float32\",\n",
    "#     \"pickup_datetime\": \"str\",\n",
    "#     \"pickup_longitude\": \"float32\",\n",
    "#     \"pickup_latitude\": \"float32\",\n",
    "#     \"dropoff_longitude\": \"float32\",\n",
    "#     \"dropoff_latitude\": \"float32\",\n",
    "#     \"passenger_count\": \"uint8\",\n",
    "# }\n",
    "\n",
    "# use_cols = list(train_type.keys())\n"
   ]
  },
  {
   "cell_type": "code",
   "execution_count": 13,
   "id": "4a3d3f8d",
   "metadata": {
    "execution": {
     "iopub.execute_input": "2023-05-27T03:41:37.468223Z",
     "iopub.status.busy": "2023-05-27T03:41:37.467964Z",
     "iopub.status.idle": "2023-05-27T03:41:37.472098Z",
     "shell.execute_reply": "2023-05-27T03:41:37.471180Z"
    },
    "papermill": {
     "duration": 0.020274,
     "end_time": "2023-05-27T03:41:37.474103",
     "exception": false,
     "start_time": "2023-05-27T03:41:37.453829",
     "status": "completed"
    },
    "tags": []
   },
   "outputs": [],
   "source": [
    "# dir = \"/kaggle/input/new-york-city-taxi-fare-prediction/\"\n",
    "# df_list = []\n",
    "# with pd.read_csv(\n",
    "#     os.path.join(dir, \"train.csv\"),\n",
    "#     dtype=train_type,\n",
    "#     usecols=use_cols,\n",
    "#     chunksize=1_000_000,\n",
    "# ) as reader:\n",
    "#     for df_chunk in tqdm(reader):\n",
    "#         df_chunk = date_format(df_chunk)\n",
    "#         df_chunk = clean_data(df_chunk)\n",
    "#         df_chunk = engineering(df_chunk)\n",
    "#         df_list.append(df_chunk)\n",
    "#         gc.collect()"
   ]
  },
  {
   "cell_type": "code",
   "execution_count": 14,
   "id": "ad0bfcf7",
   "metadata": {
    "execution": {
     "iopub.execute_input": "2023-05-27T03:41:37.503054Z",
     "iopub.status.busy": "2023-05-27T03:41:37.502213Z",
     "iopub.status.idle": "2023-05-27T03:41:51.208962Z",
     "shell.execute_reply": "2023-05-27T03:41:51.207709Z"
    },
    "papermill": {
     "duration": 13.724325,
     "end_time": "2023-05-27T03:41:51.212365",
     "exception": false,
     "start_time": "2023-05-27T03:41:37.488040",
     "status": "completed"
    },
    "tags": []
   },
   "outputs": [
    {
     "name": "stderr",
     "output_type": "stream",
     "text": [
      "/opt/conda/lib/python3.10/site-packages/cudf/io/feather.py:15: UserWarning: Using CPU via PyArrow to read feather dataset, this may be GPU accelerated in the future\n",
      "  warnings.warn(\n"
     ]
    }
   ],
   "source": [
    "df_train = cf.read_feather(\"/kaggle/input/taxi-prediction-compress-train/compress_train.feather\")"
   ]
  },
  {
   "cell_type": "code",
   "execution_count": 15,
   "id": "4dcc1309",
   "metadata": {
    "execution": {
     "iopub.execute_input": "2023-05-27T03:41:51.240918Z",
     "iopub.status.busy": "2023-05-27T03:41:51.240619Z",
     "iopub.status.idle": "2023-05-27T03:41:53.154425Z",
     "shell.execute_reply": "2023-05-27T03:41:53.153503Z"
    },
    "papermill": {
     "duration": 1.93049,
     "end_time": "2023-05-27T03:41:53.156979",
     "exception": false,
     "start_time": "2023-05-27T03:41:51.226489",
     "status": "completed"
    },
    "tags": []
   },
   "outputs": [],
   "source": [
    "df_train = clean_data(df_train)"
   ]
  },
  {
   "cell_type": "code",
   "execution_count": 16,
   "id": "68482e9e",
   "metadata": {
    "execution": {
     "iopub.execute_input": "2023-05-27T03:41:53.184907Z",
     "iopub.status.busy": "2023-05-27T03:41:53.184590Z",
     "iopub.status.idle": "2023-05-27T03:42:16.223149Z",
     "shell.execute_reply": "2023-05-27T03:42:16.222089Z"
    },
    "papermill": {
     "duration": 23.055053,
     "end_time": "2023-05-27T03:42:16.225572",
     "exception": false,
     "start_time": "2023-05-27T03:41:53.170519",
     "status": "completed"
    },
    "tags": []
   },
   "outputs": [
    {
     "name": "stdout",
     "output_type": "stream",
     "text": [
      "1\n",
      "2\n",
      "3\n",
      "4\n",
      "5\n",
      "6\n",
      "7\n"
     ]
    },
    {
     "data": {
      "text/html": [
       "<div>\n",
       "<style scoped>\n",
       "    .dataframe tbody tr th:only-of-type {\n",
       "        vertical-align: middle;\n",
       "    }\n",
       "\n",
       "    .dataframe tbody tr th {\n",
       "        vertical-align: top;\n",
       "    }\n",
       "\n",
       "    .dataframe thead th {\n",
       "        text-align: right;\n",
       "    }\n",
       "</style>\n",
       "<table border=\"1\" class=\"dataframe\">\n",
       "  <thead>\n",
       "    <tr style=\"text-align: right;\">\n",
       "      <th></th>\n",
       "      <th>fare_amount</th>\n",
       "      <th>pickup_datetime</th>\n",
       "      <th>pickup_longitude</th>\n",
       "      <th>pickup_latitude</th>\n",
       "      <th>dropoff_longitude</th>\n",
       "      <th>dropoff_latitude</th>\n",
       "      <th>passenger_count</th>\n",
       "      <th>rotated_pickup_latitude</th>\n",
       "      <th>rotated_pickup_longitude</th>\n",
       "      <th>rotated_dropoff_latitude</th>\n",
       "      <th>...</th>\n",
       "      <th>haversine</th>\n",
       "      <th>correct_manhattan</th>\n",
       "      <th>apparent_temperature</th>\n",
       "      <th>precipitation</th>\n",
       "      <th>year</th>\n",
       "      <th>weekday</th>\n",
       "      <th>hour</th>\n",
       "      <th>is_holiday</th>\n",
       "      <th>airport_nearby_pickup</th>\n",
       "      <th>airport_nearby_dropoff</th>\n",
       "    </tr>\n",
       "  </thead>\n",
       "  <tbody>\n",
       "    <tr>\n",
       "      <th>0</th>\n",
       "      <td>4.5</td>\n",
       "      <td>2009-06-15 17:26:00</td>\n",
       "      <td>-73.844315</td>\n",
       "      <td>40.721317</td>\n",
       "      <td>-73.841614</td>\n",
       "      <td>40.712276</td>\n",
       "      <td>1</td>\n",
       "      <td>71.416100</td>\n",
       "      <td>-44.843605</td>\n",
       "      <td>71.406891</td>\n",
       "      <td>...</td>\n",
       "      <td>0.640716</td>\n",
       "      <td>0.797852</td>\n",
       "      <td>18.9</td>\n",
       "      <td>0.0</td>\n",
       "      <td>2009</td>\n",
       "      <td>0</td>\n",
       "      <td>17</td>\n",
       "      <td>0</td>\n",
       "      <td>0</td>\n",
       "      <td>0</td>\n",
       "    </tr>\n",
       "    <tr>\n",
       "      <th>1</th>\n",
       "      <td>16.9</td>\n",
       "      <td>2010-01-05 16:52:00</td>\n",
       "      <td>-74.016045</td>\n",
       "      <td>40.711304</td>\n",
       "      <td>-73.979271</td>\n",
       "      <td>40.782005</td>\n",
       "      <td>1</td>\n",
       "      <td>71.490601</td>\n",
       "      <td>-44.998665</td>\n",
       "      <td>71.534607</td>\n",
       "      <td>...</td>\n",
       "      <td>5.250763</td>\n",
       "      <td>7.364746</td>\n",
       "      <td>-8.9</td>\n",
       "      <td>0.0</td>\n",
       "      <td>2010</td>\n",
       "      <td>1</td>\n",
       "      <td>16</td>\n",
       "      <td>0</td>\n",
       "      <td>0</td>\n",
       "      <td>0</td>\n",
       "    </tr>\n",
       "    <tr>\n",
       "      <th>2</th>\n",
       "      <td>5.7</td>\n",
       "      <td>2011-08-18 00:35:00</td>\n",
       "      <td>-73.982735</td>\n",
       "      <td>40.761269</td>\n",
       "      <td>-73.991241</td>\n",
       "      <td>40.750561</td>\n",
       "      <td>2</td>\n",
       "      <td>71.518150</td>\n",
       "      <td>-44.945301</td>\n",
       "      <td>71.512909</td>\n",
       "      <td>...</td>\n",
       "      <td>0.863538</td>\n",
       "      <td>1.173096</td>\n",
       "      <td>26.1</td>\n",
       "      <td>0.0</td>\n",
       "      <td>2011</td>\n",
       "      <td>3</td>\n",
       "      <td>0</td>\n",
       "      <td>0</td>\n",
       "      <td>0</td>\n",
       "      <td>0</td>\n",
       "    </tr>\n",
       "    <tr>\n",
       "      <th>3</th>\n",
       "      <td>7.7</td>\n",
       "      <td>2012-04-21 04:30:00</td>\n",
       "      <td>-73.987129</td>\n",
       "      <td>40.733143</td>\n",
       "      <td>-73.991570</td>\n",
       "      <td>40.758091</td>\n",
       "      <td>1</td>\n",
       "      <td>71.495682</td>\n",
       "      <td>-44.962784</td>\n",
       "      <td>71.519653</td>\n",
       "      <td>...</td>\n",
       "      <td>1.739627</td>\n",
       "      <td>2.259766</td>\n",
       "      <td>13.8</td>\n",
       "      <td>0.0</td>\n",
       "      <td>2012</td>\n",
       "      <td>5</td>\n",
       "      <td>4</td>\n",
       "      <td>0</td>\n",
       "      <td>0</td>\n",
       "      <td>0</td>\n",
       "    </tr>\n",
       "    <tr>\n",
       "      <th>4</th>\n",
       "      <td>5.3</td>\n",
       "      <td>2010-03-09 07:51:00</td>\n",
       "      <td>-73.968094</td>\n",
       "      <td>40.768009</td>\n",
       "      <td>-73.956657</td>\n",
       "      <td>40.783764</td>\n",
       "      <td>1</td>\n",
       "      <td>71.516953</td>\n",
       "      <td>-44.929230</td>\n",
       "      <td>71.525177</td>\n",
       "      <td>...</td>\n",
       "      <td>1.242127</td>\n",
       "      <td>1.704468</td>\n",
       "      <td>-2.5</td>\n",
       "      <td>0.0</td>\n",
       "      <td>2010</td>\n",
       "      <td>1</td>\n",
       "      <td>7</td>\n",
       "      <td>0</td>\n",
       "      <td>0</td>\n",
       "      <td>0</td>\n",
       "    </tr>\n",
       "  </tbody>\n",
       "</table>\n",
       "<p>5 rows × 22 columns</p>\n",
       "</div>"
      ],
      "text/plain": [
       "   fare_amount     pickup_datetime  pickup_longitude  pickup_latitude  \\\n",
       "0          4.5 2009-06-15 17:26:00        -73.844315        40.721317   \n",
       "1         16.9 2010-01-05 16:52:00        -74.016045        40.711304   \n",
       "2          5.7 2011-08-18 00:35:00        -73.982735        40.761269   \n",
       "3          7.7 2012-04-21 04:30:00        -73.987129        40.733143   \n",
       "4          5.3 2010-03-09 07:51:00        -73.968094        40.768009   \n",
       "\n",
       "   dropoff_longitude  dropoff_latitude  passenger_count  \\\n",
       "0         -73.841614         40.712276                1   \n",
       "1         -73.979271         40.782005                1   \n",
       "2         -73.991241         40.750561                2   \n",
       "3         -73.991570         40.758091                1   \n",
       "4         -73.956657         40.783764                1   \n",
       "\n",
       "   rotated_pickup_latitude  rotated_pickup_longitude  \\\n",
       "0                71.416100                -44.843605   \n",
       "1                71.490601                -44.998665   \n",
       "2                71.518150                -44.945301   \n",
       "3                71.495682                -44.962784   \n",
       "4                71.516953                -44.929230   \n",
       "\n",
       "   rotated_dropoff_latitude  ...  haversine  correct_manhattan  \\\n",
       "0                 71.406891  ...   0.640716           0.797852   \n",
       "1                 71.534607  ...   5.250763           7.364746   \n",
       "2                 71.512909  ...   0.863538           1.173096   \n",
       "3                 71.519653  ...   1.739627           2.259766   \n",
       "4                 71.525177  ...   1.242127           1.704468   \n",
       "\n",
       "   apparent_temperature  precipitation  year  weekday  hour  is_holiday  \\\n",
       "0                  18.9            0.0  2009        0    17           0   \n",
       "1                  -8.9            0.0  2010        1    16           0   \n",
       "2                  26.1            0.0  2011        3     0           0   \n",
       "3                  13.8            0.0  2012        5     4           0   \n",
       "4                  -2.5            0.0  2010        1     7           0   \n",
       "\n",
       "   airport_nearby_pickup  airport_nearby_dropoff  \n",
       "0                      0                       0  \n",
       "1                      0                       0  \n",
       "2                      0                       0  \n",
       "3                      0                       0  \n",
       "4                      0                       0  \n",
       "\n",
       "[5 rows x 22 columns]"
      ]
     },
     "execution_count": 16,
     "metadata": {},
     "output_type": "execute_result"
    }
   ],
   "source": [
    "df_train = engineering(df_train)\n",
    "df_train.head()"
   ]
  },
  {
   "cell_type": "code",
   "execution_count": 17,
   "id": "bc8766e9",
   "metadata": {
    "execution": {
     "iopub.execute_input": "2023-05-27T03:42:16.255964Z",
     "iopub.status.busy": "2023-05-27T03:42:16.255166Z",
     "iopub.status.idle": "2023-05-27T03:42:31.881414Z",
     "shell.execute_reply": "2023-05-27T03:42:31.880451Z"
    },
    "papermill": {
     "duration": 15.643684,
     "end_time": "2023-05-27T03:42:31.883928",
     "exception": false,
     "start_time": "2023-05-27T03:42:16.240244",
     "status": "completed"
    },
    "tags": []
   },
   "outputs": [
    {
     "name": "stderr",
     "output_type": "stream",
     "text": [
      "/opt/conda/lib/python3.10/site-packages/cudf/io/feather.py:26: UserWarning: Using CPU via PyArrow to write Feather dataset, this may be GPU accelerated in the future\n",
      "  warnings.warn(\n"
     ]
    }
   ],
   "source": [
    "df_train.to_feather(\"/kaggle/working/compress_train_with_new.feather\")"
   ]
  },
  {
   "cell_type": "markdown",
   "id": "ce322e11",
   "metadata": {
    "papermill": {
     "duration": 0.050295,
     "end_time": "2023-05-27T03:42:33.662514",
     "exception": false,
     "start_time": "2023-05-27T03:42:33.612219",
     "status": "completed"
    },
    "tags": []
   },
   "source": [
    "# FT Transformer"
   ]
  },
  {
   "cell_type": "code",
   "execution_count": 18,
   "id": "7625a96d",
   "metadata": {
    "execution": {
     "iopub.execute_input": "2023-05-27T03:42:33.763595Z",
     "iopub.status.busy": "2023-05-27T03:42:33.763038Z",
     "iopub.status.idle": "2023-05-27T03:42:33.769953Z",
     "shell.execute_reply": "2023-05-27T03:42:33.767461Z"
    },
    "papermill": {
     "duration": 0.064892,
     "end_time": "2023-05-27T03:42:33.773270",
     "exception": false,
     "start_time": "2023-05-27T03:42:33.708378",
     "status": "completed"
    },
    "tags": []
   },
   "outputs": [],
   "source": [
    "# df_train.head()"
   ]
  },
  {
   "cell_type": "code",
   "execution_count": 19,
   "id": "a84574b7",
   "metadata": {
    "execution": {
     "iopub.execute_input": "2023-05-27T03:42:33.833396Z",
     "iopub.status.busy": "2023-05-27T03:42:33.833076Z",
     "iopub.status.idle": "2023-05-27T03:42:33.837109Z",
     "shell.execute_reply": "2023-05-27T03:42:33.836172Z"
    },
    "papermill": {
     "duration": 0.028634,
     "end_time": "2023-05-27T03:42:33.839103",
     "exception": false,
     "start_time": "2023-05-27T03:42:33.810469",
     "status": "completed"
    },
    "tags": []
   },
   "outputs": [],
   "source": [
    "# df_test.head()"
   ]
  },
  {
   "cell_type": "markdown",
   "id": "fea3757f",
   "metadata": {
    "papermill": {
     "duration": 0.015276,
     "end_time": "2023-05-27T03:42:33.868767",
     "exception": false,
     "start_time": "2023-05-27T03:42:33.853491",
     "status": "completed"
    },
    "tags": []
   },
   "source": [
    "## Premodel process function"
   ]
  },
  {
   "cell_type": "markdown",
   "id": "d87d5646",
   "metadata": {
    "papermill": {
     "duration": 0.013864,
     "end_time": "2023-05-27T03:42:33.897015",
     "exception": false,
     "start_time": "2023-05-27T03:42:33.883151",
     "status": "completed"
    },
    "tags": []
   },
   "source": [
    "### Numerical, category, target split"
   ]
  },
  {
   "cell_type": "code",
   "execution_count": 20,
   "id": "52a058cd",
   "metadata": {
    "execution": {
     "iopub.execute_input": "2023-05-27T03:42:33.928270Z",
     "iopub.status.busy": "2023-05-27T03:42:33.928002Z",
     "iopub.status.idle": "2023-05-27T03:42:33.932738Z",
     "shell.execute_reply": "2023-05-27T03:42:33.931898Z"
    },
    "papermill": {
     "duration": 0.022244,
     "end_time": "2023-05-27T03:42:33.934711",
     "exception": false,
     "start_time": "2023-05-27T03:42:33.912467",
     "status": "completed"
    },
    "tags": []
   },
   "outputs": [],
   "source": [
    "# def num_cat_split(df, type=\"train\"):\n",
    "#     numerical_idx = [\n",
    "#         \"pickup_longitude\",\n",
    "# #         \"pickup_latitude\",\n",
    "#         \"dropoff_longitude\",\n",
    "# #         \"dropoff_latitude\",\n",
    "# #         \"passenger_count\",\n",
    "#         \"distance\",\n",
    "# #         \"precipitation\",\n",
    "# #         \"apparent_temperature\",\n",
    "#         \"abs_loni_diff\",\n",
    "#         \"abs_lati_diff\",\n",
    "#     ]\n",
    "\n",
    "#     category_idx = [\n",
    "#         \"year\",\n",
    "#         \"weekday\",\n",
    "#         \"hour\",\n",
    "#         \"is_holiday\",\n",
    "#         \"airport_nearby_pickup\",\n",
    "#         \"airport_nearby_dropoff\",\n",
    "#     ]\n",
    "\n",
    "#     df_num = df.loc[:, numerical_idx].copy()\n",
    "#     df_cat = df.loc[:, category_idx].copy()\n",
    "#     if type == \"train\":\n",
    "#         df_y = df.loc[:, \"fare_amount\"].copy()\n",
    "\n",
    "#     return (df_num, df_cat, df_y) if type == \"train\" else (df_num, df_cat)"
   ]
  },
  {
   "cell_type": "markdown",
   "id": "ac033a1d",
   "metadata": {
    "papermill": {
     "duration": 0.013998,
     "end_time": "2023-05-27T03:42:33.962700",
     "exception": false,
     "start_time": "2023-05-27T03:42:33.948702",
     "status": "completed"
    },
    "tags": []
   },
   "source": [
    "### Category data encoding"
   ]
  },
  {
   "cell_type": "code",
   "execution_count": 21,
   "id": "dc6bd45d",
   "metadata": {
    "execution": {
     "iopub.execute_input": "2023-05-27T03:42:33.992775Z",
     "iopub.status.busy": "2023-05-27T03:42:33.992000Z",
     "iopub.status.idle": "2023-05-27T03:42:33.996151Z",
     "shell.execute_reply": "2023-05-27T03:42:33.995305Z"
    },
    "papermill": {
     "duration": 0.021287,
     "end_time": "2023-05-27T03:42:33.998208",
     "exception": false,
     "start_time": "2023-05-27T03:42:33.976921",
     "status": "completed"
    },
    "tags": []
   },
   "outputs": [],
   "source": [
    "# def cat_encoding(df_cat: cf.DataFrame):\n",
    "#     for index, val in df_cat.items():\n",
    "#         df_cat.loc[:, index] = LabelEncoder().fit_transform(val.to_numpy())\n",
    "\n",
    "#     return df_cat.copy()"
   ]
  },
  {
   "cell_type": "markdown",
   "id": "2bbcabf3",
   "metadata": {
    "papermill": {
     "duration": 0.013801,
     "end_time": "2023-05-27T03:42:34.026239",
     "exception": false,
     "start_time": "2023-05-27T03:42:34.012438",
     "status": "completed"
    },
    "tags": []
   },
   "source": [
    "### Train, validate split"
   ]
  },
  {
   "cell_type": "code",
   "execution_count": 22,
   "id": "ae6c7e7e",
   "metadata": {
    "execution": {
     "iopub.execute_input": "2023-05-27T03:42:34.055452Z",
     "iopub.status.busy": "2023-05-27T03:42:34.055195Z",
     "iopub.status.idle": "2023-05-27T03:42:34.059360Z",
     "shell.execute_reply": "2023-05-27T03:42:34.058469Z"
    },
    "papermill": {
     "duration": 0.021001,
     "end_time": "2023-05-27T03:42:34.061466",
     "exception": false,
     "start_time": "2023-05-27T03:42:34.040465",
     "status": "completed"
    },
    "tags": []
   },
   "outputs": [],
   "source": [
    "# def train_valid_spilt(df_num, df_cat, df_y):\n",
    "#     x_num = df_num.to_numpy().astype(\"float32\")\n",
    "#     x_cat = df_cat.to_numpy().astype(\"int64\")\n",
    "#     y = df_y.to_numpy().astype(\"float32\")\n",
    "\n",
    "#     X_num = {}\n",
    "#     X_cat = {}\n",
    "#     Y = {}\n",
    "\n",
    "#     (\n",
    "#         X_num[\"train\"],\n",
    "#         X_num[\"val\"],\n",
    "#         X_cat[\"train\"],\n",
    "#         X_cat[\"val\"],\n",
    "#         Y[\"train\"],\n",
    "#         Y[\"val\"],\n",
    "#     ) = sklearn.model_selection.train_test_split(\n",
    "#         x_num, x_cat, y, train_size=0.7, shuffle=True\n",
    "#     )\n",
    "    \n",
    "#     X_num = {k: cp.asarray(v) for k, v in X_num.items()}\n",
    "#     X_cat = {k: cp.asarray(v) for k, v in X_cat.items()}\n",
    "#     Y = {k: cp.asarray(v) for k, v in Y.items()}\n",
    "\n",
    "#     return X_num, X_cat, Y"
   ]
  },
  {
   "cell_type": "markdown",
   "id": "9d668e02",
   "metadata": {
    "papermill": {
     "duration": 0.014132,
     "end_time": "2023-05-27T03:42:34.089590",
     "exception": false,
     "start_time": "2023-05-27T03:42:34.075458",
     "status": "completed"
    },
    "tags": []
   },
   "source": [
    "### Target standardize"
   ]
  },
  {
   "cell_type": "code",
   "execution_count": 23,
   "id": "6902185c",
   "metadata": {
    "execution": {
     "iopub.execute_input": "2023-05-27T03:42:34.119334Z",
     "iopub.status.busy": "2023-05-27T03:42:34.118555Z",
     "iopub.status.idle": "2023-05-27T03:42:34.123548Z",
     "shell.execute_reply": "2023-05-27T03:42:34.122777Z"
    },
    "papermill": {
     "duration": 0.021741,
     "end_time": "2023-05-27T03:42:34.125597",
     "exception": false,
     "start_time": "2023-05-27T03:42:34.103856",
     "status": "completed"
    },
    "tags": []
   },
   "outputs": [],
   "source": [
    "# def target_standardize(Y: dict):\n",
    "#     y_mean = Y[\"train\"].mean().item()\n",
    "#     y_std = Y[\"train\"].std().item()\n",
    "#     return y_mean, y_std, {k: ((v - y_mean) / y_std) for k, v in Y.items()}"
   ]
  },
  {
   "cell_type": "markdown",
   "id": "b90869ea",
   "metadata": {
    "papermill": {
     "duration": 0.013931,
     "end_time": "2023-05-27T03:42:34.153561",
     "exception": false,
     "start_time": "2023-05-27T03:42:34.139630",
     "status": "completed"
    },
    "tags": []
   },
   "source": [
    "## Premodel process"
   ]
  },
  {
   "cell_type": "code",
   "execution_count": 24,
   "id": "dc39a5d9",
   "metadata": {
    "execution": {
     "iopub.execute_input": "2023-05-27T03:42:34.182736Z",
     "iopub.status.busy": "2023-05-27T03:42:34.182471Z",
     "iopub.status.idle": "2023-05-27T03:42:34.187140Z",
     "shell.execute_reply": "2023-05-27T03:42:34.186256Z"
    },
    "papermill": {
     "duration": 0.021562,
     "end_time": "2023-05-27T03:42:34.189134",
     "exception": false,
     "start_time": "2023-05-27T03:42:34.167572",
     "status": "completed"
    },
    "tags": []
   },
   "outputs": [],
   "source": [
    "# def premodel_process(df_train: pd.DataFrame, df_test: pd.DataFrame):\n",
    "#     df_train = df_train.copy()\n",
    "#     df_test = df_test.copy()\n",
    "\n",
    "#     # Numerical, category data split\n",
    "#     df_num_train, df_cat_train, df_y_train = num_cat_split(df_train)\n",
    "#     df_num_test, df_cat_test = num_cat_split(df_test, type=\"test\")\n",
    "\n",
    "#     # Category data encoding\n",
    "#     df_cat_train = cat_encoding(df_cat_train)\n",
    "#     df_cat_test = cat_encoding(df_cat_test)\n",
    "\n",
    "#     # Train, validate split and turn to numpy array\n",
    "#     X_num, X_cat, Y = train_valid_spilt(df_num_train, df_cat_train, df_y_train)\n",
    "\n",
    "#     X_num[\"test\"] = df_num_test.values.astype(\"float32\")\n",
    "#     X_cat[\"test\"] = df_cat_test.values.astype(\"int64\")\n",
    "\n",
    "#     # Numerical data standardize\n",
    "#     standardizer = StandardScaler().fit(X_num[\"train\"].get())\n",
    "#     X_num = {k: standardizer.transform(v.get()) for k, v in X_num.items()}\n",
    "\n",
    "#     # Target standardize\n",
    "#     y_mean, y_std, Y = target_standardize(Y)\n",
    "\n",
    "#     cat_cardinalities = rtdl.data.get_category_sizes(X_cat[\"train\"])\n",
    "\n",
    "#     # Ndarray to tensor\n",
    "#     X_num = {k: torch.as_tensor(v, device=device) for k, v in X_num.items()}\n",
    "#     X_cat = {k: torch.as_tensor(v, device=device) for k, v in X_cat.items()}\n",
    "#     Y = {k: torch.as_tensor(v, device=device) for k, v in Y.items()}\n",
    "\n",
    "#     return X_num, X_cat, Y, y_mean, y_std, cat_cardinalities\n"
   ]
  },
  {
   "cell_type": "code",
   "execution_count": 25,
   "id": "8b64a9ae",
   "metadata": {
    "execution": {
     "iopub.execute_input": "2023-05-27T03:42:34.218386Z",
     "iopub.status.busy": "2023-05-27T03:42:34.218135Z",
     "iopub.status.idle": "2023-05-27T03:42:34.222110Z",
     "shell.execute_reply": "2023-05-27T03:42:34.221157Z"
    },
    "papermill": {
     "duration": 0.021014,
     "end_time": "2023-05-27T03:42:34.224420",
     "exception": false,
     "start_time": "2023-05-27T03:42:34.203406",
     "status": "completed"
    },
    "tags": []
   },
   "outputs": [],
   "source": [
    "# X_num, X_cat, Y, y_mean, y_std, cat_cardinalities = premodel_process(\n",
    "#     df_train, df_test\n",
    "# )"
   ]
  },
  {
   "cell_type": "code",
   "execution_count": 26,
   "id": "fbb19a2f",
   "metadata": {
    "execution": {
     "iopub.execute_input": "2023-05-27T03:42:34.253598Z",
     "iopub.status.busy": "2023-05-27T03:42:34.253349Z",
     "iopub.status.idle": "2023-05-27T03:42:34.257111Z",
     "shell.execute_reply": "2023-05-27T03:42:34.256138Z"
    },
    "papermill": {
     "duration": 0.021081,
     "end_time": "2023-05-27T03:42:34.259461",
     "exception": false,
     "start_time": "2023-05-27T03:42:34.238380",
     "status": "completed"
    },
    "tags": []
   },
   "outputs": [],
   "source": [
    "# del df_train, df_test\n",
    "# gc.collect()"
   ]
  },
  {
   "cell_type": "markdown",
   "id": "495b41ea",
   "metadata": {
    "papermill": {
     "duration": 0.013901,
     "end_time": "2023-05-27T03:42:34.287583",
     "exception": false,
     "start_time": "2023-05-27T03:42:34.273682",
     "status": "completed"
    },
    "tags": []
   },
   "source": [
    "### Pack data in dataset"
   ]
  },
  {
   "cell_type": "code",
   "execution_count": 27,
   "id": "eabebdd8",
   "metadata": {
    "execution": {
     "iopub.execute_input": "2023-05-27T03:42:34.316764Z",
     "iopub.status.busy": "2023-05-27T03:42:34.316490Z",
     "iopub.status.idle": "2023-05-27T03:42:34.320639Z",
     "shell.execute_reply": "2023-05-27T03:42:34.319562Z"
    },
    "papermill": {
     "duration": 0.021142,
     "end_time": "2023-05-27T03:42:34.322996",
     "exception": false,
     "start_time": "2023-05-27T03:42:34.301854",
     "status": "completed"
    },
    "tags": []
   },
   "outputs": [],
   "source": [
    "# class TaxiDataset(Dataset):\n",
    "#     def __init__(self, x_num, x_cat, y) -> None:\n",
    "#         self.x_num = x_num\n",
    "#         self.x_cat = x_cat\n",
    "#         self.y = y\n",
    "\n",
    "#     def __len__(self):\n",
    "#         return len(self.y)\n",
    "\n",
    "#     def __getitem__(self, index):\n",
    "#         return self.x_num[index], self.x_cat[index], self.y[index]\n"
   ]
  },
  {
   "cell_type": "markdown",
   "id": "7b71dc4a",
   "metadata": {
    "papermill": {
     "duration": 0.014038,
     "end_time": "2023-05-27T03:42:34.350988",
     "exception": false,
     "start_time": "2023-05-27T03:42:34.336950",
     "status": "completed"
    },
    "tags": []
   },
   "source": [
    "### Model and Evaluater"
   ]
  },
  {
   "cell_type": "code",
   "execution_count": 28,
   "id": "2172efc0",
   "metadata": {
    "execution": {
     "iopub.execute_input": "2023-05-27T03:42:34.380195Z",
     "iopub.status.busy": "2023-05-27T03:42:34.379909Z",
     "iopub.status.idle": "2023-05-27T03:42:34.384382Z",
     "shell.execute_reply": "2023-05-27T03:42:34.383541Z"
    },
    "papermill": {
     "duration": 0.021249,
     "end_time": "2023-05-27T03:42:34.386358",
     "exception": false,
     "start_time": "2023-05-27T03:42:34.365109",
     "status": "completed"
    },
    "tags": []
   },
   "outputs": [],
   "source": [
    "# model = rtdl.FTTransformer.make_default(\n",
    "#     n_num_features=X_num[\"train\"].shape[1],\n",
    "#     cat_cardinalities=cat_cardinalities,\n",
    "#     last_layer_query_idx=[\n",
    "#         -1\n",
    "#     ],  # it makes the model faster and does NOT affect its output\n",
    "#     d_out=1,\n",
    "# )\n",
    "\n",
    "\n",
    "# model.to(device)\n",
    "\n",
    "# optimizer = model.make_default_optimizer()\n",
    "# loss_fn = F.smooth_l1_loss\n",
    "\n",
    "\n",
    "# class EarlyStopper:\n",
    "#     def __init__(self, patience=100, min_delta=10e-5) -> None:\n",
    "#         self.patience = patience\n",
    "#         self.min_delta = min_delta\n",
    "#         self.counter = 0\n",
    "#         self.min_val_score = np.inf\n",
    "\n",
    "#     def early_stop(self, val_score) -> bool:\n",
    "#         if val_score < self.min_val_score:\n",
    "#             self.min_val_score = val_score\n",
    "#             self.counter = 0\n",
    "\n",
    "#         elif val_score >= (self.min_val_score + self.min_delta):\n",
    "#             self.counter += 1\n",
    "#             if self.counter > self.patience:\n",
    "#                 return True\n",
    "\n",
    "#         return False\n"
   ]
  },
  {
   "cell_type": "code",
   "execution_count": 29,
   "id": "1adc6086",
   "metadata": {
    "execution": {
     "iopub.execute_input": "2023-05-27T03:42:34.415381Z",
     "iopub.status.busy": "2023-05-27T03:42:34.415131Z",
     "iopub.status.idle": "2023-05-27T03:42:34.419452Z",
     "shell.execute_reply": "2023-05-27T03:42:34.418432Z"
    },
    "papermill": {
     "duration": 0.021294,
     "end_time": "2023-05-27T03:42:34.421750",
     "exception": false,
     "start_time": "2023-05-27T03:42:34.400456",
     "status": "completed"
    },
    "tags": []
   },
   "outputs": [],
   "source": [
    "# @torch.no_grad()\n",
    "# def evaluate(dataloader: DataLoader):\n",
    "#     model.eval()\n",
    "\n",
    "#     target = dataloader.dataset.y\n",
    "#     pred = []\n",
    "#     for iteration, data in enumerate(dataloader):\n",
    "#         x_num_batch = data[0]\n",
    "#         x_cat_batch = data[1]\n",
    "\n",
    "#         pred.append(model(x_num_batch, x_cat_batch).squeeze(1))\n",
    "\n",
    "#     pred = torch.cat(pred)\n",
    "\n",
    "#     return sklearn.metrics.mean_squared_error(pred.cpu().numpy(), target.cpu().numpy()) ** 0.5 + y_std\n"
   ]
  },
  {
   "cell_type": "markdown",
   "id": "936555d9",
   "metadata": {
    "papermill": {
     "duration": 0.013915,
     "end_time": "2023-05-27T03:42:34.449607",
     "exception": false,
     "start_time": "2023-05-27T03:42:34.435692",
     "status": "completed"
    },
    "tags": []
   },
   "source": [
    "## Set dataloader"
   ]
  },
  {
   "cell_type": "code",
   "execution_count": 30,
   "id": "8c135be4",
   "metadata": {
    "execution": {
     "iopub.execute_input": "2023-05-27T03:42:34.478611Z",
     "iopub.status.busy": "2023-05-27T03:42:34.478363Z",
     "iopub.status.idle": "2023-05-27T03:42:34.482397Z",
     "shell.execute_reply": "2023-05-27T03:42:34.481465Z"
    },
    "papermill": {
     "duration": 0.020637,
     "end_time": "2023-05-27T03:42:34.484401",
     "exception": false,
     "start_time": "2023-05-27T03:42:34.463764",
     "status": "completed"
    },
    "tags": []
   },
   "outputs": [],
   "source": [
    "# batch_size = 128\n",
    "\n",
    "# val_dataset = TaxiDataset(X_num[\"val\"], X_cat[\"val\"], Y[\"val\"])\n",
    "# val_dataloader = DataLoader(val_dataset, batch_size=batch_size)\n",
    "\n",
    "# train_dataset = TaxiDataset(X_num[\"train\"], X_cat[\"train\"], Y[\"train\"])\n",
    "# train_dataloader = DataLoader(\n",
    "#     train_dataset, batch_size=batch_size, shuffle=True\n",
    "# )\n",
    "\n",
    "# early_stopper = EarlyStopper(min_delta=10e-6)"
   ]
  },
  {
   "cell_type": "code",
   "execution_count": 31,
   "id": "44ddc18b",
   "metadata": {
    "execution": {
     "iopub.execute_input": "2023-05-27T03:42:34.513974Z",
     "iopub.status.busy": "2023-05-27T03:42:34.513714Z",
     "iopub.status.idle": "2023-05-27T03:42:34.517446Z",
     "shell.execute_reply": "2023-05-27T03:42:34.516557Z"
    },
    "papermill": {
     "duration": 0.02073,
     "end_time": "2023-05-27T03:42:34.519516",
     "exception": false,
     "start_time": "2023-05-27T03:42:34.498786",
     "status": "completed"
    },
    "tags": []
   },
   "outputs": [],
   "source": [
    "# # Pre train score\n",
    "# evaluate(val_dataloader)\n"
   ]
  },
  {
   "cell_type": "code",
   "execution_count": 32,
   "id": "5cc67e33",
   "metadata": {
    "execution": {
     "iopub.execute_input": "2023-05-27T03:42:34.548559Z",
     "iopub.status.busy": "2023-05-27T03:42:34.548304Z",
     "iopub.status.idle": "2023-05-27T03:42:34.552707Z",
     "shell.execute_reply": "2023-05-27T03:42:34.551833Z"
    },
    "papermill": {
     "duration": 0.021086,
     "end_time": "2023-05-27T03:42:34.554678",
     "exception": false,
     "start_time": "2023-05-27T03:42:34.533592",
     "status": "completed"
    },
    "tags": []
   },
   "outputs": [],
   "source": [
    "# n_epoch = 10\n",
    "# report_frequency = len(train_dataloader) // 5\n",
    "\n",
    "# for epoch in range(1, n_epoch + 1):\n",
    "#     for iteration, data in enumerate(train_dataloader):\n",
    "#         model.train()\n",
    "#         optimizer.zero_grad()\n",
    "\n",
    "#         x_num_batch = data[0]\n",
    "#         x_cat_batch = data[1]\n",
    "#         y_batch = data[2]\n",
    "\n",
    "#         loss = loss_fn(model(x_num_batch, x_cat_batch).squeeze(1), y_batch)\n",
    "#         loss.backward()\n",
    "#         optimizer.step()\n",
    "\n",
    "#         if iteration % report_frequency == 0:\n",
    "#             print(\n",
    "#                 f\"(epoch) {epoch} (batch) {iteration} (loss) {loss.item():.4f}\"\n",
    "#             )\n",
    "\n",
    "#     val_score = evaluate(val_dataloader)\n",
    "#     print(f\"Epoch {epoch:03d} | Validation score: {val_score:.4f}\")\n",
    "#     if early_stopper.early_stop(val_score):\n",
    "#         print(f\"Early stop!\")\n",
    "#         break"
   ]
  },
  {
   "cell_type": "markdown",
   "id": "a33bac7c",
   "metadata": {
    "papermill": {
     "duration": 0.014142,
     "end_time": "2023-05-27T03:42:34.582778",
     "exception": false,
     "start_time": "2023-05-27T03:42:34.568636",
     "status": "completed"
    },
    "tags": []
   },
   "source": [
    "### Get Prediction"
   ]
  },
  {
   "cell_type": "code",
   "execution_count": 33,
   "id": "c6c55d0b",
   "metadata": {
    "execution": {
     "iopub.execute_input": "2023-05-27T03:42:34.612177Z",
     "iopub.status.busy": "2023-05-27T03:42:34.611928Z",
     "iopub.status.idle": "2023-05-27T03:42:34.615750Z",
     "shell.execute_reply": "2023-05-27T03:42:34.614791Z"
    },
    "papermill": {
     "duration": 0.021126,
     "end_time": "2023-05-27T03:42:34.618032",
     "exception": false,
     "start_time": "2023-05-27T03:42:34.596906",
     "status": "completed"
    },
    "tags": []
   },
   "outputs": [],
   "source": [
    "# @torch.no_grad()\n",
    "# def prediction():\n",
    "#     model.eval()\n",
    "#     y_pred = model(X_num[\"test\"], X_cat[\"test\"])\n",
    "#     return (y_pred * y_std + y_mean).cpu().detach().numpy()"
   ]
  },
  {
   "cell_type": "code",
   "execution_count": 34,
   "id": "eef77c28",
   "metadata": {
    "execution": {
     "iopub.execute_input": "2023-05-27T03:42:34.647108Z",
     "iopub.status.busy": "2023-05-27T03:42:34.646859Z",
     "iopub.status.idle": "2023-05-27T03:42:34.651244Z",
     "shell.execute_reply": "2023-05-27T03:42:34.649707Z"
    },
    "papermill": {
     "duration": 0.020902,
     "end_time": "2023-05-27T03:42:34.653101",
     "exception": false,
     "start_time": "2023-05-27T03:42:34.632199",
     "status": "completed"
    },
    "tags": []
   },
   "outputs": [],
   "source": [
    "# cf.concat(\n",
    "#     [df_keys, cf.Series(prediction().ravel(), name=\"fare_amount\")], axis=1\n",
    "# ).to_csv(\"/kaggle/working/output.csv\", index=False)\n"
   ]
  }
 ],
 "metadata": {
  "kernelspec": {
   "display_name": "Python 3",
   "language": "python",
   "name": "python3"
  },
  "language_info": {
   "codemirror_mode": {
    "name": "ipython",
    "version": 3
   },
   "file_extension": ".py",
   "mimetype": "text/x-python",
   "name": "python",
   "nbconvert_exporter": "python",
   "pygments_lexer": "ipython3",
   "version": "3.10.10"
  },
  "papermill": {
   "default_parameters": {},
   "duration": 87.799181,
   "end_time": "2023-05-27T03:42:37.500394",
   "environment_variables": {},
   "exception": null,
   "input_path": "__notebook__.ipynb",
   "output_path": "__notebook__.ipynb",
   "parameters": {},
   "start_time": "2023-05-27T03:41:09.701213",
   "version": "2.4.0"
  }
 },
 "nbformat": 4,
 "nbformat_minor": 5
}
